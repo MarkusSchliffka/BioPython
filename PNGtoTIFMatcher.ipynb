{
 "cells": [
  {
   "cell_type": "code",
   "execution_count": 1,
   "metadata": {},
   "outputs": [],
   "source": [
    "import os\n",
    "import glob\n",
    "from tifffile import imread\n",
    "from utils import save_tiff_imagej_compatible, invert, MakeLabels, normalizeFloatZeroOne\n",
    "import imageio\n",
    "from skimage.measure import label\n",
    "import matplotlib.pyplot as plt\n",
    "try:\n",
    "    from pathlib import Path\n",
    "    Path().expanduser()\n",
    "except (ImportError, AttributeError):\n",
    "        from pathlib2 import Path\n",
    "\n",
    "try:\n",
    "        import tempfile\n",
    "        tempfile.TemporaryDirectory\n",
    "except (ImportError, AttributeError):\n",
    "       from backports import tempfile"
   ]
  },
  {
   "cell_type": "code",
   "execution_count": 2,
   "metadata": {},
   "outputs": [],
   "source": [
    "sourcedir = '/Volumes/TRANSCEND/SegmentationTraining/'\n",
    "Binaryresultsdir = '/Volumes/TRANSCEND/SegmentationTraining/Binary/'\n",
    "Integerresultsdir = '/Volumes/TRANSCEND/SegmentationTraining/Integer/'\n",
    "\n",
    "Path(Binaryresultsdir).mkdir(exist_ok = True)\n",
    "Path(Integerresultsdir).mkdir(exist_ok = True)\n",
    "Raw_path = os.path.join(sourcedir, '*png')\n",
    "X = glob.glob(Raw_path)\n",
    "axes = 'YX'"
   ]
  },
  {
   "cell_type": "code",
   "execution_count": null,
   "metadata": {},
   "outputs": [
    {
     "name": "stdout",
     "output_type": "stream",
     "text": [
      "('/Volumes/TRANSCEND/SegmentationTraining/BIG_N5m/SEG_BIG_N5m/', ['results_BIG_N5m'], ['.DS_Store', '._.DS_Store'])\n"
     ]
    },
    {
     "name": "stderr",
     "output_type": "stream",
     "text": [
      "/Users/aimachine/BioPython/utils.py:483: UserWarning: Converting data type from 'int64' to ImageJ-compatible 'int16'.\n",
      "  warnings.warn(\"Converting data type from '%s' to ImageJ-compatible '%s'.\" % (t, np.dtype(t_new)))\n",
      "/Users/aimachine/BioPython/utils.py:348: FutureWarning: Using a non-tuple sequence for multidimensional indexing is deprecated; use `arr[tuple(seq)]` instead of `arr[seq]`. In the future this will be interpreted as an array index, `arr[np.array(seq)]`, which will result either in an error or a different result.\n",
      "  x = x[slices]\n"
     ]
    },
    {
     "name": "stdout",
     "output_type": "stream",
     "text": [
      "('/Volumes/TRANSCEND/SegmentationTraining/BIG1/SEG_BIG1/', ['results_BIG1'], [])\n"
     ]
    }
   ],
   "source": [
    "subdir = next(os.walk(sourcedir))\n",
    "\n",
    "for x in subdir[1]:\n",
    "    currentdir = sourcedir + x + '/'\n",
    "    currentsubdir = next(os.walk(currentdir))  \n",
    "    \n",
    "    for y in currentsubdir[1]:\n",
    "        currentsubdir = currentdir + y + '/'\n",
    "        resultsubdir = next(os.walk(currentsubdir))\n",
    "        \n",
    "        for z in resultsubdir[1]:\n",
    "        \n",
    "          currentresultsubdir = currentsubdir + z + '/'\n",
    "          Raw_path = os.path.join(currentresultsubdir, '*png')\n",
    "\n",
    "          filesRaw = glob.glob(Raw_path)\n",
    "          print(resultsubdir) \n",
    "          for fname in filesRaw:\n",
    "            \n",
    "            BinaryImage = imageio.imread(fname)\n",
    "            \n",
    "            \n",
    "            BinaryImage = normalizeFloatZeroOne(BinaryImage.astype('uint8'))\n",
    "            InvertedBinaryImage = invert(BinaryImage)\n",
    "            IntegerImage = MakeLabels(InvertedBinaryImage)\n",
    "            \n",
    "            \n",
    "            Name = os.path.basename(os.path.splitext(fname)[0])\n",
    "            \n",
    "            \n",
    "            save_tiff_imagej_compatible((Binaryresultsdir  + Name  + '.tif') , InvertedBinaryImage.astype('uint8'), axes)    \n",
    "            save_tiff_imagej_compatible((Integerresultsdir  + Name + '.tif' ) , IntegerImage, axes)    \n",
    "  \n",
    "    "
   ]
  },
  {
   "cell_type": "code",
   "execution_count": null,
   "metadata": {},
   "outputs": [],
   "source": []
  }
 ],
 "metadata": {
  "kernelspec": {
   "display_name": "Python [conda env:tensorflowEnv36]",
   "language": "python",
   "name": "conda-env-tensorflowEnv36-py"
  },
  "language_info": {
   "codemirror_mode": {
    "name": "ipython",
    "version": 3
   },
   "file_extension": ".py",
   "mimetype": "text/x-python",
   "name": "python",
   "nbconvert_exporter": "python",
   "pygments_lexer": "ipython3",
   "version": "3.6.9"
  }
 },
 "nbformat": 4,
 "nbformat_minor": 2
}
