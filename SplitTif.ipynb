{
 "cells": [
  {
   "cell_type": "code",
   "execution_count": 46,
   "metadata": {},
   "outputs": [],
   "source": [
    "from tifffile import imread, imwrite\n",
    "import os\n",
    "import matplotlib.pyplot as plt\n",
    "import sys\n",
    "from utils import normalizeFloatZeroOne, save_tiff_imagej_compatible, MaxProjection\n",
    "import glob\n",
    "import numpy as np\n",
    "try:\n",
    "    from pathlib import Path\n",
    "    Path().expanduser()\n",
    "except (ImportError, AttributeError):\n",
    "        from pathlib2 import Path\n",
    "\n",
    "try:\n",
    "        import tempfile\n",
    "        tempfile.TemporaryDirectory\n",
    "except (ImportError, AttributeError):\n",
    "       from backports import tempfile"
   ]
  },
  {
   "cell_type": "code",
   "execution_count": 50,
   "metadata": {},
   "outputs": [],
   "source": [
    "sourcedir = '/Volumes/TRANSCEND/Claudia/LGR5SegmentationTraining/Original/'\n",
    "channelzerodir = '/Volumes/TRANSCEND/Claudia/LGR5SegmentationTraining/OriginalCh0/'\n",
    "channelonedir = '/Volumes/TRANSCEND/Claudia/LGR5SegmentationTraining/OriginalCh1/'\n",
    "axes = 'YX'\n",
    "Path(channelzerodir).mkdir(exist_ok=True)\n",
    "Path(channelonedir).mkdir(exist_ok=True)"
   ]
  },
  {
   "cell_type": "code",
   "execution_count": 51,
   "metadata": {},
   "outputs": [
    {
     "name": "stdout",
     "output_type": "stream",
     "text": [
      "(5, 1024, 1024, 3)\n",
      "(5, 1024, 1024, 3)\n",
      "(5, 1024, 1024, 3)\n",
      "(5, 1024, 1024, 3)\n",
      "(5, 1024, 1024, 3)\n",
      "(5, 1024, 1024, 3)\n",
      "(2, 1024, 1024, 3)\n",
      "(2, 1024, 1024, 3)\n"
     ]
    }
   ],
   "source": [
    "Raw_path = os.path.join(sourcedir, '*tif')\n",
    "X = glob.glob(Raw_path)\n",
    "for fname in X:\n",
    "    image = imread(fname)\n",
    "    Name = os.path.basename(os.path.splitext(fname)[0])\n",
    "    print(image.shape)\n",
    "    for i in range(0,image.shape[0]):\n",
    "         new = np.stack((image[i,:,:,0], image[i,:,:,1]), axis = 2)\n",
    "         save_tiff_imagej_compatible((channelzerodir + Name + '-' + str(i)   + '.tif') ,  new[:,:,0], axes)\n",
    "         save_tiff_imagej_compatible((channelonedir + Name + '-' + str(i)   + '.tif') ,  new[:,:,1], axes)\n"
   ]
  },
  {
   "cell_type": "code",
   "execution_count": null,
   "metadata": {},
   "outputs": [],
   "source": []
  }
 ],
 "metadata": {
  "kernelspec": {
   "display_name": "Python [conda env:tensorflowEnv36]",
   "language": "python",
   "name": "conda-env-tensorflowEnv36-py"
  },
  "language_info": {
   "codemirror_mode": {
    "name": "ipython",
    "version": 3
   },
   "file_extension": ".py",
   "mimetype": "text/x-python",
   "name": "python",
   "nbconvert_exporter": "python",
   "pygments_lexer": "ipython3",
   "version": "3.6.9"
  }
 },
 "nbformat": 4,
 "nbformat_minor": 2
}
