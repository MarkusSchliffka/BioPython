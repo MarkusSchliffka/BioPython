{
 "cells": [
  {
   "cell_type": "code",
   "execution_count": 2,
   "metadata": {},
   "outputs": [],
   "source": [
    "from tifffile import imread\n",
    "import os\n",
    "import matplotlib.pyplot as plt\n",
    "import sys\n",
    "from utils import ConvolveGaussian, save_tiff_imagej_compatible, MaxProjection\n",
    "import glob\n",
    "import numpy as np\n",
    "try:\n",
    "    from pathlib import Path\n",
    "    Path().expanduser()\n",
    "except (ImportError, AttributeError):\n",
    "        from pathlib2 import Path\n",
    "\n",
    "try:\n",
    "        import tempfile\n",
    "        tempfile.TemporaryDirectory\n",
    "except (ImportError, AttributeError):#\n",
    "       from backports import tempfile\n",
    "import h5py        "
   ]
  },
  {
   "cell_type": "code",
   "execution_count": 3,
   "metadata": {},
   "outputs": [],
   "source": [
    "sourcedir = '/Users/aimachine/Claudia/Transmitted/Multicut/'\n",
    "resultsdir = '/Users/aimachine/Claudia/Transmitted/Multicut/'\n",
    "Path(resultsdir).mkdir(exist_ok = True)\n",
    "Raw_path = os.path.join(sourcedir, '*h5')\n",
    "X = glob.glob(Raw_path)\n",
    "\n",
    "X = np.asarray(X)\n",
    "def last_20chars(X):\n",
    "    return(X[-20:])\n",
    "X = sorted(X,key= last_20chars)\n",
    "\n",
    "axes = 'YX'"
   ]
  },
  {
   "cell_type": "code",
   "execution_count": 6,
   "metadata": {},
   "outputs": [
    {
     "name": "stderr",
     "output_type": "stream",
     "text": [
      "/Users/aimachine/miniconda3/envs/tensorflowEnv36/lib/python3.6/site-packages/ipykernel_launcher.py:2: H5pyDeprecationWarning: The default file mode will change to 'r' (read-only) in h5py 3.0. To suppress this warning, pass the mode you need to h5py.File(), or set the global default h5.get_config().default_file_mode, or set the environment variable H5PY_DEFAULT_READONLY=1. Available modes are: 'r', 'r+', 'w', 'w-'/'x', 'a'. See the docs for details.\n",
      "  \n",
      "/Users/aimachine/BioPython/utils.py:441: UserWarning: Converting data type from 'uint32' to ImageJ-compatible 'uint16'.\n",
      "  warnings.warn(\"Converting data type from '%s' to ImageJ-compatible '%s'.\" % (t, np.dtype(t_new)))\n",
      "/Users/aimachine/BioPython/utils.py:312: FutureWarning: Using a non-tuple sequence for multidimensional indexing is deprecated; use `arr[tuple(seq)]` instead of `arr[seq]`. In the future this will be interpreted as an array index, `arr[np.array(seq)]`, which will result either in an error or a different result.\n",
      "  x = x[slices]\n"
     ]
    }
   ],
   "source": [
    "for fname in X:\n",
    "    ProbabilityFile = h5py.File(fname)\n",
    "    BoundaryImage = ProbabilityFile['exported_data'][:,:,0] \n",
    "    Name = os.path.basename(os.path.splitext(fname)[0])\n",
    "    save_tiff_imagej_compatible((resultsdir + \"Multicut\"+ Name + '.tif' ) ,  BoundaryImage, axes)\n"
   ]
  },
  {
   "cell_type": "code",
   "execution_count": 15,
   "metadata": {},
   "outputs": [],
   "source": [
    "BoundaryProbabilityChannel = 0\n",
    "GrowFactor = 2.8\n",
    "AllCellLength = [150, 400, 500,800,1000,1000,800,800,700,700,700]"
   ]
  },
  {
   "cell_type": "code",
   "execution_count": 22,
   "metadata": {},
   "outputs": [
    {
     "name": "stderr",
     "output_type": "stream",
     "text": [
      "/Users/aimachine/miniconda3/envs/tensorflowEnv36/lib/python3.6/site-packages/ipykernel_launcher.py:8: H5pyDeprecationWarning: The default file mode will change to 'r' (read-only) in h5py 3.0. To suppress this warning, pass the mode you need to h5py.File(), or set the global default h5.get_config().default_file_mode, or set the environment variable H5PY_DEFAULT_READONLY=1. Available modes are: 'r', 'r+', 'w', 'w-'/'x', 'a'. See the docs for details.\n",
      "  \n"
     ]
    },
    {
     "name": "stdout",
     "output_type": "stream",
     "text": [
      "16\n",
      "144\n",
      "225\n",
      "576\n",
      "900\n",
      "900\n",
      "576\n",
      "576\n",
      "441\n",
      "441\n",
      "441\n"
     ]
    }
   ],
   "source": [
    "count = 0\n",
    "for fname in X:\n",
    "    CellLength = AllCellLength[count]\n",
    "    count  = count + 1\n",
    "    FilterSize = 0.03 * CellLength\n",
    "    STD = 0.01 * CellLength\n",
    "    \n",
    "    ProbabilityFile = h5py.File(fname)\n",
    "    BoundaryImage = ProbabilityFile['exported_data'][:,:,0] \n",
    "    ConvolvedBoundaryImage = ConvolveGaussian(BoundaryImage, FilterSize, STD)\n",
    "    Name = os.path.basename(os.path.splitext(fname)[0])\n",
    "    save_tiff_imagej_compatible((resultsdir + \"EdgeMap\"+ Name + '.tif' ) ,  ConvolvedBoundaryImage, axes)\n",
    "\n"
   ]
  },
  {
   "cell_type": "code",
   "execution_count": null,
   "metadata": {},
   "outputs": [],
   "source": []
  },
  {
   "cell_type": "code",
   "execution_count": null,
   "metadata": {},
   "outputs": [],
   "source": []
  }
 ],
 "metadata": {
  "kernelspec": {
   "display_name": "Python [conda env:tensorflowEnv36]",
   "language": "python",
   "name": "conda-env-tensorflowEnv36-py"
  },
  "language_info": {
   "codemirror_mode": {
    "name": "ipython",
    "version": 3
   },
   "file_extension": ".py",
   "mimetype": "text/x-python",
   "name": "python",
   "nbconvert_exporter": "python",
   "pygments_lexer": "ipython3",
   "version": "3.6.9"
  }
 },
 "nbformat": 4,
 "nbformat_minor": 2
}
