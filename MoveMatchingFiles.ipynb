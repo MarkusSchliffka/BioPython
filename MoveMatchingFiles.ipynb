{
 "cells": [
  {
   "cell_type": "code",
   "execution_count": 1,
   "metadata": {},
   "outputs": [],
   "source": [
    "import os\n",
    "import glob\n",
    "from tifffile import imread\n",
    "from utils import save_tiff_imagej_compatible, invert, MakeLabels, normalizeFloatZeroOne,save_8bit_tiff_imagej_compatible\n",
    "import imageio\n",
    "from skimage.measure import label\n",
    "import matplotlib.pyplot as plt\n",
    "try:\n",
    "    from pathlib import Path\n",
    "    Path().expanduser()\n",
    "except (ImportError, AttributeError):\n",
    "        from pathlib2 import Path\n",
    "\n",
    "try:\n",
    "        import tempfile\n",
    "        tempfile.TemporaryDirectory\n",
    "except (ImportError, AttributeError):\n",
    "       from backports import tempfile\n",
    "import numpy as np        "
   ]
  },
  {
   "cell_type": "code",
   "execution_count": 2,
   "metadata": {},
   "outputs": [],
   "source": [
    "sourcedir = '/data/u934/service_imagerie/v_kapoor/Aude_CycE/20191108_CycE/'\n",
    "Projectiondir = '/data/u934/service_imagerie/v_kapoor/Aude_CycE/20191108_CycE/Projections/'\n",
    "Completeddir = '/data/u934/service_imagerie/v_kapoor/Aude_CycE/20191108_CycE/Completed/'\n",
    "\n",
    "Raw_path = os.path.join(sourcedir, '*TIF')\n",
    "X = glob.glob(Raw_path)\n",
    "axes = 'YX'"
   ]
  },
  {
   "cell_type": "code",
   "execution_count": 3,
   "metadata": {},
   "outputs": [],
   "source": [
    "X = np.asarray(X)\n",
    "def last_20chars(X):\n",
    "    return(X[-20:])\n",
    "X = sorted(X,key= last_20chars)\n",
    "for x in sourcedir:\n",
    "    \n",
    "    Raw_path = os.path.join(sourcedir, '*TIF')\n",
    "    Projection_Raw_path = os.path.join(Projectiondir, '*.TIF')\n",
    "    filesRaw = glob.glob(Raw_path)\n",
    "    ProjectionfilesRaw = glob.glob(Projection_Raw_path)\n",
    "    for fname in filesRaw:\n",
    "        \n",
    "        for secondfname in ProjectionfilesRaw:\n",
    "           if last_20chars(os.path.basename(fname)) == last_20chars(os.path.basename(secondfname)):\n",
    "            Name = os.path.basename(os.path.splitext(fname)[0])\n",
    "            \n",
    "            !mv $fname $Completeddir\n",
    "    "
   ]
  },
  {
   "cell_type": "markdown",
   "metadata": {},
   "source": [
    " \n"
   ]
  },
  {
   "cell_type": "code",
   "execution_count": null,
   "metadata": {},
   "outputs": [],
   "source": [
    "  \n",
    "  "
   ]
  }
 ],
 "metadata": {
  "kernelspec": {
   "display_name": "Python [conda env:tensorflowEXP]",
   "language": "python",
   "name": "conda-env-tensorflowEXP-py"
  },
  "language_info": {
   "codemirror_mode": {
    "name": "ipython",
    "version": 3
   },
   "file_extension": ".py",
   "mimetype": "text/x-python",
   "name": "python",
   "nbconvert_exporter": "python",
   "pygments_lexer": "ipython3",
   "version": "3.5.6"
  }
 },
 "nbformat": 4,
 "nbformat_minor": 2
}
