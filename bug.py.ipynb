{
 "cells": [
  {
   "cell_type": "code",
   "execution_count": 1,
   "metadata": {},
   "outputs": [
    {
     "name": "stderr",
     "output_type": "stream",
     "text": [
      "Using TensorFlow backend.\n"
     ]
    }
   ],
   "source": [
    "from stardist.models import StarDist3D\n",
    "from csbdeep.utils import Path\n",
    "import os"
   ]
  },
  {
   "cell_type": "code",
   "execution_count": null,
   "metadata": {},
   "outputs": [
    {
     "name": "stdout",
     "output_type": "stream",
     "text": [
      "WARNING:tensorflow:From /home/sancere/anaconda3/envs/tensorflowGPU/lib/python3.6/site-packages/tensorflow_core/python/ops/resource_variable_ops.py:1630: calling BaseResourceVariable.__init__ (from tensorflow.python.ops.resource_variable_ops) with constraint is deprecated and will be removed in a future version.\n",
      "Instructions for updating:\n",
      "If using Keras pass *_constraint arguments to layers.\n"
     ]
    },
    {
     "name": "stderr",
     "output_type": "stream",
     "text": [
      "/home/sancere/anaconda3/envs/tensorflowGPU/lib/python3.6/site-packages/stardist/models/model3d.py:203: UserWarning: Mismatch of 'anisotropy' of rays and 'anisotropy'.\n",
      "  warnings.warn(\"Mismatch of 'anisotropy' of rays and 'anisotropy'.\")\n"
     ]
    },
    {
     "name": "stdout",
     "output_type": "stream",
     "text": [
      "Loading network weights from 'weights_last.h5'.\n"
     ]
    }
   ],
   "source": [
    "basedir = '/home/sancere/Downloads/bug/'\n",
    "\n",
    "savesegmenteddir = basedir + 'Segmented/'\n",
    "\n",
    "Model_Dir = basedir + '/SegmentationModel/'\n",
    "\n",
    "StardistModelName = 'FakeMembraneSmartSeeds'\n",
    "\n",
    "model = StarDist3D(config = None, name = StardistModelName, basedir = Model_Dir)\n",
    "\n",
    "Path(savesegmenteddir).mkdir(exist_ok = True)"
   ]
  },
  {
   "cell_type": "code",
   "execution_count": null,
   "metadata": {},
   "outputs": [],
   "source": [
    "Raw_path = os.path.join(savedir, '*tif') \n",
    " \n",
    "\n",
    "axis_norm = (0,1,2)\n",
    "axes = 'ZYX'\n",
    "saveaxes = 'ZYX'\n",
    "\n",
    "filesRaw = glob.glob(Raw_path) \n",
    "for fname in filesRaw:\n",
    "\n",
    "      print(fname)\n",
    "      print(model._tile_overlap)"
   ]
  },
  {
   "cell_type": "code",
   "execution_count": null,
   "metadata": {},
   "outputs": [],
   "source": []
  }
 ],
 "metadata": {
  "kernelspec": {
   "display_name": "Python [conda env:tensorflowGPU] *",
   "language": "python",
   "name": "conda-env-tensorflowGPU-py"
  },
  "language_info": {
   "codemirror_mode": {
    "name": "ipython",
    "version": 3
   },
   "file_extension": ".py",
   "mimetype": "text/x-python",
   "name": "python",
   "nbconvert_exporter": "python",
   "pygments_lexer": "ipython3",
   "version": "3.6.10"
  }
 },
 "nbformat": 4,
 "nbformat_minor": 2
}
