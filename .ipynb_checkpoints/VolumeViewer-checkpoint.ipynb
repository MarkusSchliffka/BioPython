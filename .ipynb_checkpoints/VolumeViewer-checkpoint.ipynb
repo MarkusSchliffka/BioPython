{
 "cells": [
  {
   "cell_type": "code",
   "execution_count": 7,
   "metadata": {},
   "outputs": [],
   "source": [
    "import pandas as pd\n",
    "import napari\n",
    "import glob\n",
    "import numpy as np\n",
    "from tifffile import imread"
   ]
  },
  {
   "cell_type": "code",
   "execution_count": 8,
   "metadata": {},
   "outputs": [],
   "source": [
    "sourceimage = '/Users/aimachine/Documents/Movie/example.tif'\n",
    "Divisioncsv_file = '/Users/aimachine/Documents/Movie/Movie2Division.csv'\n",
    "Apoptosiscsv_file = '/Users/aimachine/Documents/Movie/Movie2Apoptosis.csv'"
   ]
  },
  {
   "cell_type": "code",
   "execution_count": null,
   "metadata": {},
   "outputs": [],
   "source": [
    "Raw =  imread(sourceimage)\n",
    "time, x, y, z =   np.loadtxt(Divisioncsv_file, delimiter = ',', skiprows = 1, unpack=True)\n",
    "dfdivision = pd.DataFrame(list(zip(time,y,x)), columns =['Time', 'X', 'Y'])\n",
    "\n",
    "time, x, y, z =   np.loadtxt(Apoptosiscsv_file, delimiter = ',', skiprows = 1, unpack=True)\n",
    "dfapoptosis = pd.DataFrame(list(zip(time,y,x)), columns =['Time', 'X', 'Y'])\n",
    "\n",
    "\n",
    "csv_divisionimage = dfdivision.to_numpy()\n",
    "csv_apoptosisimage = dfapoptosis.to_numpy()\n",
    "\n",
    "with napari.gui_qt():\n",
    "        viewer = napari.view_image(Raw, name = 'Image')\n",
    "        layerDivision = viewer.add_points(\n",
    "        csv_divisionimage,\n",
    "        size=5, edge_color='red',\n",
    "        face_color='red')\n",
    "        layerApoptosis = viewer.add_points(\n",
    "        csv_apoptosisimage,\n",
    "        size=5, edge_color='green',\n",
    "        face_color='green')\n",
    "        \n",
    "         "
   ]
  },
  {
   "cell_type": "code",
   "execution_count": null,
   "metadata": {},
   "outputs": [],
   "source": []
  }
 ],
 "metadata": {
  "kernelspec": {
   "display_name": "Python [conda env:tensorflowEnv36]",
   "language": "python",
   "name": "conda-env-tensorflowEnv36-py"
  },
  "language_info": {
   "codemirror_mode": {
    "name": "ipython",
    "version": 3
   },
   "file_extension": ".py",
   "mimetype": "text/x-python",
   "name": "python",
   "nbconvert_exporter": "python",
   "pygments_lexer": "ipython3",
   "version": "3.6.9"
  }
 },
 "nbformat": 4,
 "nbformat_minor": 2
}
