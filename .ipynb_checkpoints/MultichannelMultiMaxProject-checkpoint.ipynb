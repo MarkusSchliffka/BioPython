{
 "cells": [
  {
   "cell_type": "code",
   "execution_count": 12,
   "metadata": {},
   "outputs": [
    {
     "name": "stdout",
     "output_type": "stream",
     "text": [
      "Requirement already satisfied: tifffile in /home/sancere/anaconda3/lib/python3.7/site-packages (2019.7.26.2)\n",
      "Requirement already satisfied: numpy>=1.14.6 in /home/sancere/anaconda3/lib/python3.7/site-packages (from tifffile) (1.17.2)\n",
      "Requirement already satisfied: imagecodecs-lite>=2019.12.2; platform_system != \"Windows\" in /home/sancere/anaconda3/lib/python3.7/site-packages (from tifffile) (2019.12.3)\n",
      "Requirement already satisfied: napari in /home/sancere/anaconda3/lib/python3.7/site-packages (0.2.11)\n",
      "Requirement already satisfied: wrapt>=1.11.1 in /home/sancere/anaconda3/lib/python3.7/site-packages (from napari) (1.11.2)\n",
      "Requirement already satisfied: IPython>=7.7.0 in /home/sancere/anaconda3/lib/python3.7/site-packages (from napari) (7.8.0)\n",
      "Requirement already satisfied: qtconsole>=4.5.1 in /home/sancere/anaconda3/lib/python3.7/site-packages (from napari) (4.5.5)\n",
      "Requirement already satisfied: vispy>=0.6.4 in /home/sancere/anaconda3/lib/python3.7/site-packages (from napari) (0.6.4)\n",
      "Requirement already satisfied: scikit-image>=0.15.0 in /home/sancere/anaconda3/lib/python3.7/site-packages (from napari) (0.15.0)\n",
      "Requirement already satisfied: scipy>=1.2.0 in /home/sancere/anaconda3/lib/python3.7/site-packages (from napari) (1.3.1)\n",
      "Requirement already satisfied: backcall>=0.1.0 in /home/sancere/anaconda3/lib/python3.7/site-packages (from napari) (0.1.0)\n",
      "Requirement already satisfied: ipykernel>=5.1.1 in /home/sancere/anaconda3/lib/python3.7/site-packages (from napari) (5.1.2)\n",
      "Requirement already satisfied: numpydoc>=0.9.2 in /home/sancere/anaconda3/lib/python3.7/site-packages (from napari) (0.9.2)\n",
      "Requirement already satisfied: dask[array]>=2.1.0 in /home/sancere/anaconda3/lib/python3.7/site-packages (from napari) (2.5.2)\n",
      "Requirement already satisfied: imageio>=2.5.0 in /home/sancere/anaconda3/lib/python3.7/site-packages (from napari) (2.6.0)\n",
      "Requirement already satisfied: PyOpenGL>=3.1.0 in /home/sancere/anaconda3/lib/python3.7/site-packages (from napari) (3.1.5)\n",
      "Requirement already satisfied: PySide2>=5.12.3 in /home/sancere/anaconda3/lib/python3.7/site-packages (from napari) (5.14.1)\n",
      "Requirement already satisfied: numpy>=1.10.0 in /home/sancere/anaconda3/lib/python3.7/site-packages (from napari) (1.17.2)\n",
      "Requirement already satisfied: qtpy>=1.7.0 in /home/sancere/anaconda3/lib/python3.7/site-packages (from napari) (1.9.0)\n",
      "Requirement already satisfied: fsspec>=0.3.3 in /home/sancere/anaconda3/lib/python3.7/site-packages (from napari) (0.5.2)\n",
      "Requirement already satisfied: pickleshare in /home/sancere/anaconda3/lib/python3.7/site-packages (from IPython>=7.7.0->napari) (0.7.5)\n",
      "Requirement already satisfied: pygments in /home/sancere/anaconda3/lib/python3.7/site-packages (from IPython>=7.7.0->napari) (2.4.2)\n",
      "Requirement already satisfied: pexpect; sys_platform != \"win32\" in /home/sancere/anaconda3/lib/python3.7/site-packages (from IPython>=7.7.0->napari) (4.7.0)\n",
      "Requirement already satisfied: prompt-toolkit<2.1.0,>=2.0.0 in /home/sancere/anaconda3/lib/python3.7/site-packages (from IPython>=7.7.0->napari) (2.0.10)\n",
      "Requirement already satisfied: setuptools>=18.5 in /home/sancere/anaconda3/lib/python3.7/site-packages (from IPython>=7.7.0->napari) (41.4.0)\n",
      "Requirement already satisfied: jedi>=0.10 in /home/sancere/anaconda3/lib/python3.7/site-packages (from IPython>=7.7.0->napari) (0.15.1)\n",
      "Requirement already satisfied: decorator in /home/sancere/anaconda3/lib/python3.7/site-packages (from IPython>=7.7.0->napari) (4.4.0)\n",
      "Requirement already satisfied: traitlets>=4.2 in /home/sancere/anaconda3/lib/python3.7/site-packages (from IPython>=7.7.0->napari) (4.3.3)\n",
      "Requirement already satisfied: jupyter-client>=4.1 in /home/sancere/anaconda3/lib/python3.7/site-packages (from qtconsole>=4.5.1->napari) (5.3.3)\n",
      "Requirement already satisfied: jupyter-core in /home/sancere/anaconda3/lib/python3.7/site-packages (from qtconsole>=4.5.1->napari) (4.5.0)\n",
      "Requirement already satisfied: ipython-genutils in /home/sancere/anaconda3/lib/python3.7/site-packages (from qtconsole>=4.5.1->napari) (0.2.0)\n",
      "Requirement already satisfied: freetype-py in /home/sancere/anaconda3/lib/python3.7/site-packages (from vispy>=0.6.4->napari) (2.1.0.post1)\n",
      "Requirement already satisfied: pillow>=4.3.0 in /home/sancere/anaconda3/lib/python3.7/site-packages (from scikit-image>=0.15.0->napari) (6.2.0)\n",
      "Requirement already satisfied: matplotlib!=3.0.0,>=2.0.0 in /home/sancere/anaconda3/lib/python3.7/site-packages (from scikit-image>=0.15.0->napari) (3.1.1)\n",
      "Requirement already satisfied: PyWavelets>=0.4.0 in /home/sancere/anaconda3/lib/python3.7/site-packages (from scikit-image>=0.15.0->napari) (1.0.3)\n",
      "Requirement already satisfied: networkx>=2.0 in /home/sancere/anaconda3/lib/python3.7/site-packages (from scikit-image>=0.15.0->napari) (2.3)\n",
      "Requirement already satisfied: tornado>=4.2 in /home/sancere/anaconda3/lib/python3.7/site-packages (from ipykernel>=5.1.1->napari) (6.0.3)\n",
      "Requirement already satisfied: sphinx>=1.6.5 in /home/sancere/anaconda3/lib/python3.7/site-packages (from numpydoc>=0.9.2->napari) (2.2.0)\n",
      "Requirement already satisfied: Jinja2>=2.3 in /home/sancere/anaconda3/lib/python3.7/site-packages (from numpydoc>=0.9.2->napari) (2.10.3)\n",
      "Requirement already satisfied: toolz>=0.7.3; extra == \"array\" in /home/sancere/anaconda3/lib/python3.7/site-packages (from dask[array]>=2.1.0->napari) (0.10.0)\n",
      "Requirement already satisfied: shiboken2==5.14.1 in /home/sancere/anaconda3/lib/python3.7/site-packages (from PySide2>=5.12.3->napari) (5.14.1)\n",
      "Requirement already satisfied: ptyprocess>=0.5 in /home/sancere/anaconda3/lib/python3.7/site-packages (from pexpect; sys_platform != \"win32\"->IPython>=7.7.0->napari) (0.6.0)\n",
      "Requirement already satisfied: wcwidth in /home/sancere/anaconda3/lib/python3.7/site-packages (from prompt-toolkit<2.1.0,>=2.0.0->IPython>=7.7.0->napari) (0.1.7)\n",
      "Requirement already satisfied: six>=1.9.0 in /home/sancere/anaconda3/lib/python3.7/site-packages (from prompt-toolkit<2.1.0,>=2.0.0->IPython>=7.7.0->napari) (1.12.0)\n",
      "Requirement already satisfied: parso>=0.5.0 in /home/sancere/anaconda3/lib/python3.7/site-packages (from jedi>=0.10->IPython>=7.7.0->napari) (0.5.1)\n",
      "Requirement already satisfied: python-dateutil>=2.1 in /home/sancere/anaconda3/lib/python3.7/site-packages (from jupyter-client>=4.1->qtconsole>=4.5.1->napari) (2.8.0)\n",
      "Requirement already satisfied: pyzmq>=13 in /home/sancere/anaconda3/lib/python3.7/site-packages (from jupyter-client>=4.1->qtconsole>=4.5.1->napari) (18.1.0)\n",
      "Requirement already satisfied: cycler>=0.10 in /home/sancere/anaconda3/lib/python3.7/site-packages (from matplotlib!=3.0.0,>=2.0.0->scikit-image>=0.15.0->napari) (0.10.0)\n",
      "Requirement already satisfied: kiwisolver>=1.0.1 in /home/sancere/anaconda3/lib/python3.7/site-packages (from matplotlib!=3.0.0,>=2.0.0->scikit-image>=0.15.0->napari) (1.1.0)\n",
      "Requirement already satisfied: pyparsing!=2.0.4,!=2.1.2,!=2.1.6,>=2.0.1 in /home/sancere/anaconda3/lib/python3.7/site-packages (from matplotlib!=3.0.0,>=2.0.0->scikit-image>=0.15.0->napari) (2.4.2)\n",
      "Requirement already satisfied: sphinxcontrib-applehelp in /home/sancere/anaconda3/lib/python3.7/site-packages (from sphinx>=1.6.5->numpydoc>=0.9.2->napari) (1.0.1)\n",
      "Requirement already satisfied: sphinxcontrib-htmlhelp in /home/sancere/anaconda3/lib/python3.7/site-packages (from sphinx>=1.6.5->numpydoc>=0.9.2->napari) (1.0.2)\n",
      "Requirement already satisfied: sphinxcontrib-qthelp in /home/sancere/anaconda3/lib/python3.7/site-packages (from sphinx>=1.6.5->numpydoc>=0.9.2->napari) (1.0.2)\n",
      "Requirement already satisfied: docutils>=0.12 in /home/sancere/anaconda3/lib/python3.7/site-packages (from sphinx>=1.6.5->numpydoc>=0.9.2->napari) (0.15.2)\n",
      "Requirement already satisfied: babel!=2.0,>=1.3 in /home/sancere/anaconda3/lib/python3.7/site-packages (from sphinx>=1.6.5->numpydoc>=0.9.2->napari) (2.7.0)\n",
      "Requirement already satisfied: imagesize in /home/sancere/anaconda3/lib/python3.7/site-packages (from sphinx>=1.6.5->numpydoc>=0.9.2->napari) (1.1.0)\n",
      "Requirement already satisfied: requests>=2.5.0 in /home/sancere/anaconda3/lib/python3.7/site-packages (from sphinx>=1.6.5->numpydoc>=0.9.2->napari) (2.22.0)\n",
      "Requirement already satisfied: packaging in /home/sancere/anaconda3/lib/python3.7/site-packages (from sphinx>=1.6.5->numpydoc>=0.9.2->napari) (19.2)\n",
      "Requirement already satisfied: snowballstemmer>=1.1 in /home/sancere/anaconda3/lib/python3.7/site-packages (from sphinx>=1.6.5->numpydoc>=0.9.2->napari) (2.0.0)\n",
      "Requirement already satisfied: sphinxcontrib-devhelp in /home/sancere/anaconda3/lib/python3.7/site-packages (from sphinx>=1.6.5->numpydoc>=0.9.2->napari) (1.0.1)\n"
     ]
    },
    {
     "name": "stdout",
     "output_type": "stream",
     "text": [
      "Requirement already satisfied: alabaster<0.8,>=0.7 in /home/sancere/anaconda3/lib/python3.7/site-packages (from sphinx>=1.6.5->numpydoc>=0.9.2->napari) (0.7.12)\r\n",
      "Requirement already satisfied: sphinxcontrib-jsmath in /home/sancere/anaconda3/lib/python3.7/site-packages (from sphinx>=1.6.5->numpydoc>=0.9.2->napari) (1.0.1)\r\n",
      "Requirement already satisfied: sphinxcontrib-serializinghtml in /home/sancere/anaconda3/lib/python3.7/site-packages (from sphinx>=1.6.5->numpydoc>=0.9.2->napari) (1.1.3)\r\n",
      "Requirement already satisfied: MarkupSafe>=0.23 in /home/sancere/anaconda3/lib/python3.7/site-packages (from Jinja2>=2.3->numpydoc>=0.9.2->napari) (1.1.1)\r\n",
      "Requirement already satisfied: pytz>=2015.7 in /home/sancere/anaconda3/lib/python3.7/site-packages (from babel!=2.0,>=1.3->sphinx>=1.6.5->numpydoc>=0.9.2->napari) (2019.3)\r\n",
      "Requirement already satisfied: chardet<3.1.0,>=3.0.2 in /home/sancere/anaconda3/lib/python3.7/site-packages (from requests>=2.5.0->sphinx>=1.6.5->numpydoc>=0.9.2->napari) (3.0.4)\r\n",
      "Requirement already satisfied: urllib3!=1.25.0,!=1.25.1,<1.26,>=1.21.1 in /home/sancere/anaconda3/lib/python3.7/site-packages (from requests>=2.5.0->sphinx>=1.6.5->numpydoc>=0.9.2->napari) (1.24.2)\r\n",
      "Requirement already satisfied: certifi>=2017.4.17 in /home/sancere/anaconda3/lib/python3.7/site-packages (from requests>=2.5.0->sphinx>=1.6.5->numpydoc>=0.9.2->napari) (2019.9.11)\r\n",
      "Requirement already satisfied: idna<2.9,>=2.5 in /home/sancere/anaconda3/lib/python3.7/site-packages (from requests>=2.5.0->sphinx>=1.6.5->numpydoc>=0.9.2->napari) (2.8)\r\n"
     ]
    }
   ],
   "source": [
    "!pip install tifffile\n",
    "!pip install napari\n",
    "from tifffile import imread\n",
    "import os\n",
    "import matplotlib.pyplot as plt\n",
    "import sys\n",
    "from utils import normalizeFloatZeroOne, save_tiff_imagej_compatible, MaxProjection\n",
    "import glob\n",
    "import numpy as np\n",
    "try:\n",
    "    from pathlib import Path\n",
    "    Path().expanduser()\n",
    "except (ImportError, AttributeError):\n",
    "        from pathlib2 import Path\n",
    "\n",
    "try:\n",
    "        import tempfile\n",
    "        tempfile.TemporaryDirectory\n",
    "except (ImportError, AttributeError):\n",
    "       from backports import tempfile"
   ]
  },
  {
   "cell_type": "code",
   "execution_count": 13,
   "metadata": {},
   "outputs": [],
   "source": [
    "sourcedir = '/run/media/sancere/TRANSCEND/Claudia/YellowTif/ThreeChannelImages/'\n",
    "resultsdir = '/run/media/sancere/TRANSCEND/Claudia/YellowTifMaxProjected/ThreeChannelImages/'\n",
    "Path(resultsdir).mkdir(exist_ok = True)\n",
    "Raw_path = os.path.join(sourcedir, '*tif')\n",
    "X = glob.glob(Raw_path)\n",
    "axes = 'YX'"
   ]
  },
  {
   "cell_type": "code",
   "execution_count": null,
   "metadata": {},
   "outputs": [],
   "source": [
    "\n",
    "#For Max Projection\n",
    "ZAxis = 0\n",
    "#Total Number of chqnnels\n",
    "Channels = 3\n",
    "for fname in X:\n",
    "    image = imread(fname)\n",
    "    \n",
    "    MaxProjectedImage = MaxProjection(image, axis = ZAxis)\n",
    "    for i in range(0,Channels):\n",
    "    \n",
    "      ChannelImage = MaxProjectedImage[i, :]\n",
    "      NormalizedTransmittedImage = normalizeFloatZeroOne(ChannelImage)\n",
    "      save_tiff_imagej_compatible((resultsdir + \"Channel_\" + str(i) + os.path.basename(fname) ) ,  NormalizedTransmittedImage, axes)\n",
    "\n",
    "\n",
    "  "
   ]
  },
  {
   "cell_type": "code",
   "execution_count": null,
   "metadata": {},
   "outputs": [],
   "source": [
    "plt.imshow(NormalizedTransmittedImage)"
   ]
  },
  {
   "cell_type": "code",
   "execution_count": null,
   "metadata": {},
   "outputs": [],
   "source": []
  }
 ],
 "metadata": {
  "kernelspec": {
   "display_name": "Python 3",
   "language": "python",
   "name": "python3"
  },
  "language_info": {
   "codemirror_mode": {
    "name": "ipython",
    "version": 3
   },
   "file_extension": ".py",
   "mimetype": "text/x-python",
   "name": "python",
   "nbconvert_exporter": "python",
   "pygments_lexer": "ipython3",
   "version": "3.7.4"
  }
 },
 "nbformat": 4,
 "nbformat_minor": 2
}
