{
 "cells": [
  {
   "cell_type": "code",
   "execution_count": 1,
   "metadata": {},
   "outputs": [],
   "source": [
    "\n",
    "import sys\n",
    "import os\n",
    "\n",
    "from glob import glob\n",
    "\n",
    "from tqdm import tqdm\n",
    "from skimage.measure import label\n",
    "import glob\n",
    "\n",
    "import numpy as np\n",
    "\n",
    "from tifffile import imread, imwrite\n",
    "try:\n",
    "    from pathlib import Path\n",
    "    Path().expanduser()\n",
    "except (ImportError,AttributeError):\n",
    "    from pathlib2 import Path\n",
    "try:\n",
    "    import tempfile\n",
    "    tempfile.TemporaryDirectory\n",
    "except (ImportError,AttributeError):\n",
    "    from backports import tempfile"
   ]
  },
  {
   "cell_type": "code",
   "execution_count": 2,
   "metadata": {},
   "outputs": [],
   "source": [
    "Image = '/Users/aimachine/Documents/Membrane-Dg-22-24_PHGFP-H2BRFP_21.tif'\n",
    "DenoiseImage = '/Users/aimachine/Documents/DenoisedMembrane-Dg-22-24_PHGFP-H2BRFP_21.tif'\n",
    "Segmentation = '/Users/aimachine/Documents/LabelMembrane-Dg-22-24_PHGFP-H2BRFP_21.tif'\n",
    "UnStichSegmentation = '/Users/aimachine/Documents/UnLabelMembrane-Dg-22-24_PHGFP-H2BRFP_21.tif'\n",
    "\n"
   ]
  },
  {
   "cell_type": "code",
   "execution_count": 3,
   "metadata": {},
   "outputs": [],
   "source": [
    "from skimage.segmentation import  relabel_sequential\n",
    "from skimage import measure\n",
    "from scipy import spatial\n",
    "def merge_labels_across_volume(labelvol, relabelfunc, FixLabel, threshold=3):\n",
    "    nz, ny, nx = labelvol.shape\n",
    "    res = np.zeros_like(labelvol)\n",
    "    res[0,...] = labelvol[0,...]\n",
    "    backup = labelvol.copy() \n",
    "    if min(FixLabel)>0:\n",
    "      for i in tqdm(range(min(FixLabel),0,-1)):\n",
    "         res[i-1] = relabelfunc(res[i,...], labelvol[i-1,...],threshold=threshold)\n",
    "         labelvol = backup.copy() # restore the input array\n",
    "    if min(FixLabel)!=max(FixLabel) and min(FixLabel)>0:    \n",
    "      for i in tqdm(range(min(FixLabel) - 1, max(FixLabel))):\n",
    "          res[i+1] = relabelfunc(res[i,...], labelvol[i+1,...],threshold=threshold)\n",
    "          labelvol = backup.copy() # restore the input array\n",
    "    \n",
    "    for i in tqdm(range(max(FixLabel), nz - 1)):\n",
    "          res[i+1] = relabelfunc(res[i,...], labelvol[i+1,...],threshold=threshold)\n",
    "          labelvol = backup.copy() # restore the input array\n",
    "    return res\n",
    "\n",
    "def FwdPropZ(previousImage,currentImage,threshold):\n",
    "    # This line ensures non-intersecting label sets\n",
    "    currentImage = relabel_sequential(currentImage,offset=previousImage.max()+1)[0]\n",
    "    # I also don't like modifying the input image, so we take a copy\n",
    "    relabelimage = currentImage.copy()\n",
    "    waterproperties = measure.regionprops(previousImage, previousImage)\n",
    "    indices = [prop.centroid for prop in waterproperties] \n",
    "    labels = [prop.label for prop in waterproperties]\n",
    "    if len(indices) > 0:\n",
    "       tree = spatial.cKDTree(indices)\n",
    "       currentwaterproperties = measure.regionprops(currentImage, currentImage)\n",
    "       currentindices = [prop.centroid for prop in currentwaterproperties] \n",
    "       currentlabels = [prop.label for prop in currentwaterproperties] \n",
    "       \n",
    "       for i in range(0,len(currentindices)):\n",
    "              index = currentindices[i]\n",
    "              #print(f\"index {index}\")\n",
    "              currentlabel = currentlabels[i] \n",
    "              #print(f\"currentlabel {currentlabel}\")\n",
    "\n",
    "              previouspoint = tree.query(index)\n",
    "              #print(f\"prviouspoint {previouspoint}\")\n",
    "              previouslabel = previousImage[int(indices[previouspoint[1]][0]), int(indices[previouspoint[1]][1])]\n",
    "              #print(f\"previouslabels {previouslabel}\")\n",
    "              if previouspoint[0] > threshold:\n",
    "                     relabelimage[np.where(currentImage == currentlabel)] = currentlabel\n",
    "              else:\n",
    "                     relabelimage[np.where(currentImage == currentlabel)] = previouslabel\n",
    "    return relabelimage"
   ]
  },
  {
   "cell_type": "markdown",
   "metadata": {},
   "source": [
    "# Manual corrections to volume will overwrite the volume file"
   ]
  },
  {
   "cell_type": "code",
   "execution_count": null,
   "metadata": {},
   "outputs": [],
   "source": [
    "import napari\n",
    "InitialSeg = imread(Segmentation).copy()\n",
    "with napari.gui_qt():\n",
    "   \n",
    "    \n",
    "    # initialise viewer with Left wing image\n",
    "    viewer = napari.view_image(imread(Image), name='Raw')\n",
    "    denoise_layer = viewer.add_image(imread(DenoiseImage), name='Denoised')\n",
    "    # add the labels\n",
    "    label_layer = viewer.add_labels(imread(Segmentation), name='Volume') \n",
    "    secondlabel_layer = viewer.add_labels(imread(UnStichSegmentation), name='2D') \n",
    "    \n",
    "    \n",
    "    ModifiedArray = viewer.layers['Volume'].data \n",
    "    Name = os.path.abspath(Segmentation)\n",
    "    imwrite((Name ) , ModifiedArray)"
   ]
  },
  {
   "cell_type": "code",
   "execution_count": 202,
   "metadata": {},
   "outputs": [
    {
     "name": "stdout",
     "output_type": "stream",
     "text": [
      "You changed the Label between time 12 and 20\n",
      "Time Location changed: 12 Position changed y: 520.7240839336048 x: 507.1512683996242\n",
      "Time Location changed: 19 Position changed y: 689.6294754371357 x: 217.62531223980017\n",
      "Time Location changed: 20 Position changed y: 692.8885918003565 x: 187.39839572192514\n"
     ]
    }
   ],
   "source": [
    "Changed = InitialSeg - ModifiedArray\n",
    "IntChanged = label(Changed)\n",
    "waterproperties = measure.regionprops(IntChanged, IntChanged)\n",
    "indices = [prop.centroid for prop in waterproperties] \n",
    "if len(np.where(Changed > 0)[0]) > 0:\n",
    " StartTime = min(np.where(Changed > 0)[0])\n",
    " EndTime = max(np.where(Changed > 0)[0]) \n",
    "\n",
    "\n",
    " for index in indices:\n",
    "    print(\"Time Location changed:\", int(index[0]),\"Position changed y:\", index[1], \"x:\", index[2])   "
   ]
  },
  {
   "cell_type": "markdown",
   "metadata": {},
   "source": [
    "# To visialize the 3D select the cube from Napari and use proper scaling to see the label with the image"
   ]
  },
  {
   "cell_type": "code",
   "execution_count": null,
   "metadata": {},
   "outputs": [],
   "source": [
    "scaleZ = 1\n",
    "scaleXY = 0.16\n",
    "with napari.gui_qt():\n",
    "   \n",
    "    \n",
    "    # initialise viewer with Left wing image\n",
    "    viewer = napari.view_image(imread(Image), name='Raw', scale = [scaleZ, scaleXY, scaleXY])\n",
    " \n",
    "    # add the labels\n",
    "    label_layer = viewer.add_labels(ModifiedArray, name='Volume', scale = [scaleZ, scaleXY, scaleXY]) \n",
    "   \n",
    "    "
   ]
  },
  {
   "cell_type": "markdown",
   "metadata": {},
   "source": [
    "# Danger Zone for now"
   ]
  },
  {
   "cell_type": "code",
   "execution_count": 203,
   "metadata": {},
   "outputs": [],
   "source": [
    "FixLabel = []\n",
    "if len(np.where(Changed > 0)[0]) > 0:\n",
    " FixLabel.append(np.where(Changed > 0)[0])\n",
    "else:\n",
    " FixLabel.append(0)   \n",
    "FixLabel = np.unique(FixLabel)\n"
   ]
  },
  {
   "cell_type": "code",
   "execution_count": null,
   "metadata": {},
   "outputs": [
    {
     "name": "stderr",
     "output_type": "stream",
     "text": [
      " 17%|█▋        | 2/12 [00:03<00:15,  1.51s/it]"
     ]
    }
   ],
   "source": [
    "Volumeseg = merge_labels_across_volume(ModifiedArray.astype('uint16'), FwdPropZ, FixLabel,threshold= 10)\n",
    "Name = os.path.abspath(Segmentation)\n",
    "imwrite(Name + \"Experimental\" , Volumeseg)"
   ]
  },
  {
   "cell_type": "code",
   "execution_count": null,
   "metadata": {},
   "outputs": [],
   "source": []
  },
  {
   "cell_type": "code",
   "execution_count": null,
   "metadata": {},
   "outputs": [],
   "source": []
  }
 ],
 "metadata": {
  "kernelspec": {
   "display_name": "Python [conda env:tensorflowEnv36]",
   "language": "python",
   "name": "conda-env-tensorflowEnv36-py"
  },
  "language_info": {
   "codemirror_mode": {
    "name": "ipython",
    "version": 3
   },
   "file_extension": ".py",
   "mimetype": "text/x-python",
   "name": "python",
   "nbconvert_exporter": "python",
   "pygments_lexer": "ipython3",
   "version": "3.6.9"
  }
 },
 "nbformat": 4,
 "nbformat_minor": 4
}
