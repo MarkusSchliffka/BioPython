{
 "cells": [
  {
   "cell_type": "code",
   "execution_count": 11,
   "metadata": {},
   "outputs": [],
   "source": [
    "from tifffile import imread\n",
    "import os\n",
    "import matplotlib.pyplot as plt\n",
    "import sys\n",
    "from utils import normalizeFloatZeroOne, save_tiff_imagej_compatible, MaxProjection\n",
    "import glob\n",
    "import numpy as np\n",
    "try:\n",
    "    from pathlib import Path\n",
    "    Path().expanduser()\n",
    "except (ImportError, AttributeError):\n",
    "        from pathlib2 import Path\n",
    "\n",
    "try:\n",
    "        import tempfile\n",
    "        tempfile.TemporaryDirectory\n",
    "except (ImportError, AttributeError):\n",
    "       from backports import tempfile"
   ]
  },
  {
   "cell_type": "code",
   "execution_count": 12,
   "metadata": {},
   "outputs": [],
   "source": [
    "sourcedir = '/Users/aimachine/Claudia/Transmitted/Original/'\n",
    "resultsdir = '/Users/aimachine/Claudia/Transmitted/'\n",
    "Path(resultsdir).mkdir(exist_ok = True)\n",
    "Raw_path = os.path.join(sourcedir, '*tif')\n",
    "X = glob.glob(Raw_path)\n",
    "axes = 'YX'"
   ]
  },
  {
   "cell_type": "code",
   "execution_count": 13,
   "metadata": {},
   "outputs": [],
   "source": [
    "All3DImages = []\n",
    "All2DImages = []\n",
    "NameID2D = []\n",
    "NameID3D = []\n",
    "for fname in X:\n",
    "    image = imread(fname)\n",
    "    if len(image.shape) == 3:\n",
    "        NameID3D.append(os.path.basename(fname))\n",
    "        All3DImages.append(image)\n",
    "    if len(image.shape) == 2:\n",
    "        NameID2D.append(os.path.basename(fname))\n",
    "        All2DImages.append(image)\n",
    "        \n",
    "        \n",
    "        "
   ]
  },
  {
   "cell_type": "code",
   "execution_count": 14,
   "metadata": {},
   "outputs": [],
   "source": [
    "#for i in range(0, len(All2DImages)):\n",
    "        #save_tiff_imagej_compatible((resultsdir + \"NewImagesfr2d\" + str(i) + '.tif' ) ,  All2DImages[i], axes)\n"
   ]
  },
  {
   "cell_type": "code",
   "execution_count": 15,
   "metadata": {},
   "outputs": [],
   "source": [
    "for idx in range(0, len(All3DImages)):\n",
    "     for i in range(0, All3DImages[idx].shape[0]):\n",
    "        save_tiff_imagej_compatible((resultsdir + \"Original\" + str(i) + str(idx) + '.tif') ,  All3DImages[idx][i], axes)\n"
   ]
  },
  {
   "cell_type": "code",
   "execution_count": null,
   "metadata": {},
   "outputs": [],
   "source": []
  }
 ],
 "metadata": {
  "kernelspec": {
   "display_name": "Python [conda env:tensorflowEnv36]",
   "language": "python",
   "name": "conda-env-tensorflowEnv36-py"
  },
  "language_info": {
   "codemirror_mode": {
    "name": "ipython",
    "version": 3
   },
   "file_extension": ".py",
   "mimetype": "text/x-python",
   "name": "python",
   "nbconvert_exporter": "python",
   "pygments_lexer": "ipython3",
   "version": "3.6.9"
  }
 },
 "nbformat": 4,
 "nbformat_minor": 2
}
