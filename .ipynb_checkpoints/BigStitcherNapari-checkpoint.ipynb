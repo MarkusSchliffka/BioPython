{
 "cells": [
  {
   "cell_type": "code",
   "execution_count": 1,
   "metadata": {},
   "outputs": [],
   "source": [
    "import os\n",
    "import glob\n",
    "import matplotlib.pyplot as plt\n",
    "from pathlib import Path\n",
    "import h5py\n",
    "import napari\n",
    "from qtpy.QtWidgets import QComboBox\n",
    "import numpy as np\n",
    "%gui qt"
   ]
  },
  {
   "cell_type": "code",
   "execution_count": 2,
   "metadata": {},
   "outputs": [],
   "source": [
    "Boxname = 'Pyramid_Resolutions'\n",
    "ChannelBoxname = 'Channels'\n",
    "\n",
    "\n",
    "def stitcher_image_add(resolution_id,channel_id, resolution_levels, channel_combinations, filename, viewer):\n",
    "    \n",
    "    if channel_id != 'Channels' and resolution_id != 'Pyramid_Resolutions':\n",
    "            with h5py.File(filename, 'r') as fd:\n",
    "                for layer in list(viewer.layers):\n",
    "                    if 'Illumination_1' in layer.name or layer.name in 'Illumination_1':\n",
    "                            viewer.layers.remove(layer)\n",
    "                    if 'Illumination_2' in layer.name or layer.name in 'Illumination_2':\n",
    "                            viewer.layers.remove(layer)        \n",
    "                            \n",
    "                img_1 = fd['/t00000/'+ channel_combinations[channel_id][0] + '/' +str(resolution_levels[resolution_id])+'/cells'][...]\n",
    "                print('reading_image_first')\n",
    "                img_2 = fd['/t00000/'+ channel_combinations[channel_id][1] + '/' +str(resolution_levels[resolution_id])+'/cells'][...]\n",
    "                print('reading_image_second')\n",
    "                viewer.add_image(img_1, name = channel_id + 'Illumination_1' )\n",
    "                viewer.add_image(img_2, name = channel_id + 'Illumination_2' )"
   ]
  },
  {
   "cell_type": "code",
   "execution_count": 3,
   "metadata": {},
   "outputs": [
    {
     "name": "stderr",
     "output_type": "stream",
     "text": [
      "WARNING: DirectWrite: CreateFontFaceFromHDC() failed (Indicates an error in an input file such as a font file.) for QFontDef(Family=\"\", pointsize=12, pixelsize=16, styleHint=5, weight=50, stretch=100, hintingPreference=0) LOGFONT(\"MS Sans Serif\", lfWidth=0, lfHeight=-16) dpi=96\n",
      "C:\\Users\\rando\\anaconda3\\envs\\naparienv\\lib\\site-packages\\napari_tools_menu\\__init__.py:165: FutureWarning: Public access to Window.qt_viewer is deprecated and will be removed in\n",
      "v0.5.0. It is considered an \"implementation detail\" of the napari\n",
      "application, not part of the napari viewer model. If your use case\n",
      "requires access to qt_viewer, please open an issue to discuss.\n",
      "  self.tools_menu = ToolsMenu(self, self.qt_viewer.viewer)\n"
     ]
    },
    {
     "data": {
      "text/plain": [
       "<napari._qt.widgets.qt_viewer_dock_widget.QtViewerDockWidget at 0x232e1153280>"
      ]
     },
     "execution_count": 3,
     "metadata": {},
     "output_type": "execute_result"
    }
   ],
   "source": [
    "\n",
    "resultsdir = 'C:/Users/rando/Downloads/big_stitcher_project/Original_tif/Stitched/Napari_results/'\n",
    "Path(resultsdir).mkdir(exist_ok = True)\n",
    "filename = \"C:/Users/rando/Downloads/big_stitcher_project/Original_tif/Stitched/dataset_stiched_registered.h5\"\n",
    "\n",
    "viewer = napari.Viewer()\n",
    "\n",
    "    \n",
    "    \n",
    "resolution_levels = {'Original': 0, 'Downsample2/2/1': 1, 'Downsample4/4/2':2, 'Downsample8/8/4':3, 'Downsample16/16/8':4,\n",
    "                    'Downsample32/32/16':5}\n",
    "resolution_ids = []\n",
    "\n",
    "channel_combinations = {'First': ['s00', 's01'], 'Second': ['s02','s03'], 'Third': ['s04', 's05'], 'Fourth': ['s06', 's07'],\n",
    "                       'Fifth': ['s08', 's09'] }\n",
    "channel_ids = []\n",
    "\n",
    "for (k,v) in resolution_levels.items():\n",
    "    resolution_ids.append(k)\n",
    "for (k,v) in channel_combinations.items():\n",
    "    channel_ids.append(k)\n",
    "\n",
    "\n",
    "resolutionidbox = QComboBox()   \n",
    "resolutionidbox.addItem(Boxname)  \n",
    "\n",
    "channelidbox = QComboBox()   \n",
    "channelidbox.addItem(ChannelBoxname)\n",
    "\n",
    "for i in range(len(resolution_ids)):\n",
    "    resolutionidbox.addItem(resolution_ids[i])\n",
    "\n",
    "for i in range(len(channel_ids)):\n",
    "    channelidbox.addItem(channel_ids[i])    \n",
    "\n",
    "resolutionidbox.currentIndexChanged.connect(\n",
    "             lambda trackid = resolutionidbox: stitcher_image_add(\n",
    "\n",
    "                     resolutionidbox.currentText(),\n",
    "                     channelidbox.currentText(),\n",
    "                     resolution_levels,\n",
    "                     channel_combinations, filename,\n",
    "                     viewer\n",
    "            )\n",
    "        )  \n",
    "channelidbox.currentIndexChanged.connect(\n",
    "             lambda trackid = channelidbox: stitcher_image_add(\n",
    "\n",
    "                     resolutionidbox.currentText(),\n",
    "                     channelidbox.currentText(),\n",
    "                     resolution_levels,\n",
    "                     channel_combinations, filename, viewer\n",
    "            )\n",
    "        )\n",
    "viewer.window.add_dock_widget(resolutionidbox, name=\"Resolutions\", area='left') \n",
    "viewer.window.add_dock_widget(channelidbox, name=\"Channels\", area='left')\n"
   ]
  }
 ],
 "metadata": {
  "kernelspec": {
   "display_name": "Python 3 (ipykernel)",
   "language": "python",
   "name": "python3"
  },
  "language_info": {
   "codemirror_mode": {
    "name": "ipython",
    "version": 3
   },
   "file_extension": ".py",
   "mimetype": "text/x-python",
   "name": "python",
   "nbconvert_exporter": "python",
   "pygments_lexer": "ipython3",
   "version": "3.9.0"
  }
 },
 "nbformat": 4,
 "nbformat_minor": 2
}
