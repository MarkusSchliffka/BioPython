{
 "cells": [
  {
   "cell_type": "code",
   "execution_count": 2,
   "metadata": {},
   "outputs": [],
   "source": [
    "from tifffile import imread\n",
    "import matplotlib.pyplot as plt\n",
    "import os\n",
    "import sys\n",
    "from utils import NormalizeFloat, save_tiff_imagej_compatible,WatershedImage\n",
    "from utils import MedianFilter, LocalThreshold3D, LocalThreshold2D,OtsuThreshold2D, Canny3D, Canny,BackGroundCorrection3D,BackGroundCorrection2D\n",
    "from utils import MaxProjection,count_white,fill_label_holes, VarianceFilterTime, MidSlices, normalizeZeroOne, showImageNapari,Embryo_plot, SelectSlice, BinaryDilation\n",
    "import glob\n",
    "import numpy as np\n",
    "from bokeh.plotting import figure, show, output_notebook\n",
    "from bokeh.models import Range1d\n",
    "try:\n",
    "    from pathlib import Path\n",
    "    Path().expanduser()\n",
    "except (ImportError, AttributeError):\n",
    "        from pathlib2 import Path\n",
    "\n",
    "try:\n",
    "        import tempfile\n",
    "        tempfile.TemporaryDirectory\n",
    "except (ImportError, AttributeError):\n",
    "       from backports import tempfile\n",
    "from scipy import ndimage as ndi\n",
    "from skimage.filters import roberts, sobel, scharr, prewitt, gaussian\n",
    "from scipy.ndimage import gaussian_filter\n",
    "from skimage.morphology import watershed\n",
    "from skimage.feature import peak_local_max, canny\n",
    "\n",
    "from skimage.segmentation import find_boundaries,find_boundaries, relabel_sequential\n",
    "from scipy.ndimage.morphology import distance_transform_edt, binary_fill_holes, binary_dilation\n",
    "from skimage.exposure import rescale_intensity\n",
    "from skimage import data, io\n",
    "\n",
    "\n",
    "from skimage.morphology import remove_small_objects, binary_erosion\n",
    "\n",
    "#!pip install napari\n",
    "import napari\n"
   ]
  },
  {
   "cell_type": "code",
   "execution_count": 3,
   "metadata": {},
   "outputs": [],
   "source": [
    "sourcedir = '/Users/aimachine/Documents/OzEmbryo/'\n",
    "resultsdir = '/Users/aimachine/Documents/OzEmbryo/Results/'\n",
    "Path(resultsdir).mkdir(exist_ok = True)\n",
    "Raw_path = os.path.join(sourcedir, '*tif')\n",
    "X = glob.glob(Raw_path)\n",
    "axes = 'TYX'"
   ]
  },
  {
   "cell_type": "code",
   "execution_count": 4,
   "metadata": {},
   "outputs": [
    {
     "name": "stdout",
     "output_type": "stream",
     "text": [
      "C2-ReCompaction_e2_2.tif (121, 792, 901) 3 1 0 0\n",
      "C2-CaFree_z1.tif (121, 941, 941) 3 2 0 0\n"
     ]
    }
   ],
   "source": [
    "All4Dimages = []\n",
    "All5Dimages = []\n",
    "All3Dimages = []\n",
    "NameID = []\n",
    "for fname in X:\n",
    "    \n",
    "    NameID.append(os.path.basename(fname))\n",
    "    image = imread(fname)\n",
    "    if len(image.shape) == 3:\n",
    "        All3Dimages.append(image)\n",
    "    if len(image.shape) == 4:\n",
    "        All4Dimages.append(image)\n",
    "    if len(image.shape) > 4:\n",
    "        All5Dimages.append(image)\n",
    "    \n",
    "    print(os.path.basename(fname), image.shape, len(image.shape), len(All3Dimages), len(All4Dimages), len(All5Dimages))"
   ]
  },
  {
   "cell_type": "code",
   "execution_count": 5,
   "metadata": {},
   "outputs": [],
   "source": [
    "idx = 1\n",
    "\n",
    "channel = 1\n",
    "\n",
    "if len(All5Dimages) > 0:\n",
    " FiveDimage = All5Dimages[idx]\n",
    " print(FiveDimage.shape)\n",
    "\n",
    " #Select Central Z region to do the max projection\n",
    "\n",
    " FourDimage = SelectSlice(FiveDimage, axis = 1, slicenumber = 23)\n",
    "\n",
    " print(FourDimage.shape)\n",
    " ThreeDimage = FourDimage[:,0,channel,:]\n",
    " print(ThreeDimage.shape)\n",
    " TotalTimePoints = ThreeDimage.shape[0]  \n",
    " #Image shape now is TYX\n",
    " ThreeDimage = NormalizeFloat(ThreeDimage, 1, 99.8)\n",
    " for i in range(0,(ThreeDimage.shape[0])):\n",
    "        ThreeDimage[i,:,:] =  normalizeZeroOne(ThreeDimage[i,:,:])"
   ]
  },
  {
   "cell_type": "code",
   "execution_count": 6,
   "metadata": {},
   "outputs": [
    {
     "name": "stdout",
     "output_type": "stream",
     "text": [
      "(121, 941, 941)\n"
     ]
    }
   ],
   "source": [
    "#If you only have 3D image else skip this block\n",
    "\n",
    "idx = 1\n",
    "if len(All3Dimages) > 0:\n",
    " ThreeDimage = All3Dimages[idx]\n",
    " TotalTimePoints = ThreeDimage.shape[0] \n",
    " ThreeDimage = NormalizeFloat(ThreeDimage, 1, 99.8)\n",
    " for i in range(0,(ThreeDimage.shape[0])):\n",
    "        ThreeDimage[i,:,:] =  normalizeZeroOne(ThreeDimage[i,:,:])\n",
    "        \n",
    " print(ThreeDimage.shape)        "
   ]
  },
  {
   "cell_type": "code",
   "execution_count": 7,
   "metadata": {},
   "outputs": [],
   "source": [
    "blur_radius = (25,25)\n",
    "\n",
    "Size_remove = 1000\n",
    "TwoDCorrectedThreeDimage = np.zeros([ThreeDimage.shape[0],ThreeDimage.shape[1], ThreeDimage.shape[2]]) \n",
    "TwoDMedianThreeDimage = np.zeros([ThreeDimage.shape[0],ThreeDimage.shape[1], ThreeDimage.shape[2]]) \n",
    "TwoDBinaryThreeDimage = np.zeros([ThreeDimage.shape[0],ThreeDimage.shape[1], ThreeDimage.shape[2]]) \n",
    "CannyThreeDimage = np.zeros([ThreeDimage.shape[0],ThreeDimage.shape[1], ThreeDimage.shape[2]]) \n",
    "\n",
    "median_filter_radius = (8,8)\n",
    "for j in range(0, ThreeDimage.shape[0]):\n",
    "    \n",
    "    TwoDCorrectedThreeDimage[j,:] = BackGroundCorrection2D(ThreeDimage[j,:], blur_radius) \n",
    "    TwoDMedianThreeDimage[j,:] = MedianFilter(TwoDCorrectedThreeDimage[j,:], median_filter_radius)\n",
    "    \n",
    "    TwoDBinaryThreeDimage[j,:] = OtsuThreshold2D(TwoDMedianThreeDimage[j,:], size = Size_remove)\n",
    "    CannyThreeDimage[j,:] = Canny(TwoDBinaryThreeDimage[j,:], sigma = 3)\n"
   ]
  },
  {
   "cell_type": "code",
   "execution_count": 18,
   "metadata": {},
   "outputs": [],
   "source": [
    "TotalTimePoints = ThreeDimage.shape[0] \n",
    "\n",
    "TwoDBlurThreeDdistance = np.zeros([TwoDDilatedThreeDimage.shape[0],TwoDDilatedThreeDimage.shape[1], TwoDDilatedThreeDimage.shape[2]]) \n",
    "\n",
    "\n",
    "for j in range(0, TotalTimePoints):\n",
    " \n",
    " TwoDBlurThreeDdistance[j,:] = ndi.distance_transform_edt(np.logical_not((CannyThreeDimage[j,:])))  \n"
   ]
  },
  {
   "cell_type": "code",
   "execution_count": 19,
   "metadata": {},
   "outputs": [],
   "source": [
    "showImageNapari(ThreeDimage,TwoDDilatedThreeDimage)\n"
   ]
  },
  {
   "cell_type": "code",
   "execution_count": 20,
   "metadata": {},
   "outputs": [],
   "source": [
    "Seed_dist = 50\n",
    "labels = np.zeros([TwoDBlurThreeDdistance.shape[0],TwoDBlurThreeDdistance.shape[1], TwoDBlurThreeDdistance.shape[2]])\n",
    "for j in range(0, TotalTimePoints):\n",
    " labels[j,:] = WatershedImage(TwoDBlurThreeDdistance[j,:], 5,5, min_distance = Seed_dist ) \n",
    " "
   ]
  },
  {
   "cell_type": "code",
   "execution_count": 21,
   "metadata": {},
   "outputs": [],
   "source": [
    "showImageNapari(ThreeDimage,labels)"
   ]
  },
  {
   "cell_type": "code",
   "execution_count": 22,
   "metadata": {},
   "outputs": [
    {
     "data": {
      "image/png": "[encoded data removed]",
      "text/plain": [
       "<Figure size 432x288 with 1 Axes>"
      ]
     },
     "metadata": {
      "needs_background": "light"
     },
     "output_type": "display_data"
    }
   ],
   "source": [
    "Time = []\n",
    "Embryos = []\n",
    "for j in range(0, labels.shape[0]):\n",
    "     Area = count_white(labels[j])\n",
    "     if j == 0:\n",
    "        Areastart = Area\n",
    "        \n",
    "     Time.append(j)\n",
    "     Embryos.append(Area/Areastart) \n",
    "\n",
    "Embryo_plot(Time, Embryos)"
   ]
  },
  {
   "cell_type": "code",
   "execution_count": null,
   "metadata": {},
   "outputs": [],
   "source": []
  }
 ],
 "metadata": {
  "kernelspec": {
   "display_name": "tensorflowEnv36",
   "language": "python",
   "name": "myenv"
  },
  "language_info": {
   "codemirror_mode": {
    "name": "ipython",
    "version": 3
   },
   "file_extension": ".py",
   "mimetype": "text/x-python",
   "name": "python",
   "nbconvert_exporter": "python",
   "pygments_lexer": "ipython3",
   "version": "3.6.9"
  }
 },
 "nbformat": 4,
 "nbformat_minor": 2
}
