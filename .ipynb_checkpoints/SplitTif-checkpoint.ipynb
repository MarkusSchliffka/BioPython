{
 "cells": [
  {
   "cell_type": "code",
   "execution_count": 5,
   "metadata": {},
   "outputs": [],
   "source": [
    "from tifffile import imread, imwrite\n",
    "import os\n",
    "import matplotlib.pyplot as plt\n",
    "import sys\n",
    "from utils import normalizeFloatZeroOne, MaxProjection\n",
    "import glob\n",
    "import numpy as np\n",
    "try:\n",
    "    from pathlib import Path\n",
    "    Path().expanduser()\n",
    "except (ImportError, AttributeError):\n",
    "        from pathlib2 import Path\n",
    "\n",
    "try:\n",
    "        import tempfile\n",
    "        tempfile.TemporaryDirectory\n",
    "except (ImportError, AttributeError):\n",
    "       from backports import tempfile"
   ]
  },
  {
   "cell_type": "code",
   "execution_count": 6,
   "metadata": {},
   "outputs": [],
   "source": [
    "sourcedir = '/Users/aimachine/Documents/RealMask/'\n",
    "savedir = '/Users/aimachine/Documents/RealMask/Split/'\n",
    "\n",
    "axes = 'YX'\n",
    "Path(savedir).mkdir(exist_ok=True)\n"
   ]
  },
  {
   "cell_type": "code",
   "execution_count": 7,
   "metadata": {},
   "outputs": [
    {
     "name": "stdout",
     "output_type": "stream",
     "text": [
      "(82, 967, 516)\n"
     ]
    }
   ],
   "source": [
    "Raw_path = os.path.join(sourcedir, '*tif')\n",
    "X = glob.glob(Raw_path)\n",
    "for fname in X:\n",
    "    image = imread(fname)\n",
    "    Name = os.path.basename(os.path.splitext(fname)[0])\n",
    "    print(image.shape)\n",
    "    for i in range(0,image.shape[0]):\n",
    "         \n",
    "         imwrite((savedir + Name + '-' + str(i)   + '.tif') ,  image[i,:])\n"
   ]
  },
  {
   "cell_type": "code",
   "execution_count": null,
   "metadata": {},
   "outputs": [],
   "source": []
  }
 ],
 "metadata": {
  "kernelspec": {
   "display_name": "Python [conda env:tensorflowEnv36]",
   "language": "python",
   "name": "conda-env-tensorflowEnv36-py"
  },
  "language_info": {
   "codemirror_mode": {
    "name": "ipython",
    "version": 3
   },
   "file_extension": ".py",
   "mimetype": "text/x-python",
   "name": "python",
   "nbconvert_exporter": "python",
   "pygments_lexer": "ipython3",
   "version": "3.6.9"
  }
 },
 "nbformat": 4,
 "nbformat_minor": 2
}
