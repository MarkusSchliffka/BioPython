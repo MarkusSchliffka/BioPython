{
 "cells": [
  {
   "cell_type": "code",
   "execution_count": 1,
   "metadata": {},
   "outputs": [],
   "source": [
    "import os\n",
    "import glob\n",
    "from tifffile import imread\n",
    "from utils import save_tiff_imagej_compatible, invert, MakeLabels, normalizeFloatZeroOne,save_8bit_tiff_imagej_compatible\n",
    "import imageio\n",
    "from skimage.measure import label\n",
    "import matplotlib.pyplot as plt\n",
    "try:\n",
    "    from pathlib import Path\n",
    "    Path().expanduser()\n",
    "except (ImportError, AttributeError):\n",
    "        from pathlib2 import Path\n",
    "\n",
    "try:\n",
    "        import tempfile\n",
    "        tempfile.TemporaryDirectory\n",
    "except (ImportError, AttributeError):\n",
    "       from backports import tempfile"
   ]
  },
  {
   "cell_type": "code",
   "execution_count": 3,
   "metadata": {},
   "outputs": [],
   "source": [
    "Binarydir = '/Volumes/TRANSCEND/VicSegmentation/Binary/'\n",
    "Integerresultsdir = '/Volumes/TRANSCEND/VicSegmentation/Integer/'\n",
    "Path(Integerresultsdir).mkdir(exist_ok = True)\n",
    "Raw_path = os.path.join(Binarydir, '*tif')\n",
    "X = glob.glob(Raw_path)\n",
    "axes = 'YX'"
   ]
  },
  {
   "cell_type": "code",
   "execution_count": 4,
   "metadata": {},
   "outputs": [
    {
     "name": "stdout",
     "output_type": "stream",
     "text": [
      "/Volumes/TRANSCEND/VicSegmentation/Binary/results_AzotKO2_crop_0200.tif\n",
      "/Volumes/TRANSCEND/VicSegmentation/Binary/results_AzotKO2_crop_0199.tif\n",
      "/Volumes/TRANSCEND/VicSegmentation/Binary/results_AzotKO2_crop_0198.tif\n",
      "/Volumes/TRANSCEND/VicSegmentation/Binary/results_AzotKO2_crop_0197.tif\n",
      "/Volumes/TRANSCEND/VicSegmentation/Binary/results_AzotKO2_crop_0196.tif\n",
      "/Volumes/TRANSCEND/VicSegmentation/Binary/results_AzotKO2_crop_0195.tif\n",
      "/Volumes/TRANSCEND/VicSegmentation/Binary/results_AzotKO2_crop_0194.tif\n",
      "/Volumes/TRANSCEND/VicSegmentation/Binary/results_AzotKO2_crop_0193.tif\n",
      "/Volumes/TRANSCEND/VicSegmentation/Binary/results_AzotKO2_crop_0192.tif\n",
      "/Volumes/TRANSCEND/VicSegmentation/Binary/results_AzotKO2_crop_0191.tif\n",
      "/Volumes/TRANSCEND/VicSegmentation/Binary/results_AzotKO2_crop_0190.tif\n",
      "/Volumes/TRANSCEND/VicSegmentation/Binary/results_AzotKO2_crop_0189.tif\n",
      "/Volumes/TRANSCEND/VicSegmentation/Binary/results_AzotKO2_crop_0188.tif\n",
      "/Volumes/TRANSCEND/VicSegmentation/Binary/results_AzotKO2_crop_0187.tif\n",
      "/Volumes/TRANSCEND/VicSegmentation/Binary/results_AzotKO2_crop_0186.tif\n",
      "/Volumes/TRANSCEND/VicSegmentation/Binary/results_AzotKO2_crop_0185.tif\n",
      "/Volumes/TRANSCEND/VicSegmentation/Binary/results_AzotKO2_crop_0184.tif\n",
      "/Volumes/TRANSCEND/VicSegmentation/Binary/results_AzotKO2_crop_0183.tif\n",
      "/Volumes/TRANSCEND/VicSegmentation/Binary/results_AzotKO2_crop_0182.tif\n",
      "/Volumes/TRANSCEND/VicSegmentation/Binary/results_AzotKO2_crop_0181.tif\n",
      "/Volumes/TRANSCEND/VicSegmentation/Binary/results_AzotKO2_crop_0180.tif\n",
      "/Volumes/TRANSCEND/VicSegmentation/Binary/results_AzotKO2_crop_0179.tif\n",
      "/Volumes/TRANSCEND/VicSegmentation/Binary/results_AzotKO2_crop_0178.tif\n",
      "/Volumes/TRANSCEND/VicSegmentation/Binary/results_AzotKO2_crop_0177.tif\n",
      "/Volumes/TRANSCEND/VicSegmentation/Binary/results_AzotKO2_crop_0176.tif\n",
      "/Volumes/TRANSCEND/VicSegmentation/Binary/results_AzotKO2_crop_0175.tif\n",
      "/Volumes/TRANSCEND/VicSegmentation/Binary/results_AzotKO2_crop_0174.tif\n",
      "/Volumes/TRANSCEND/VicSegmentation/Binary/results_AzotKO2_crop_0173.tif\n",
      "/Volumes/TRANSCEND/VicSegmentation/Binary/results_AzotKO2_crop_0172.tif\n",
      "/Volumes/TRANSCEND/VicSegmentation/Binary/results_AzotKO2_crop_0171.tif\n",
      "/Volumes/TRANSCEND/VicSegmentation/Binary/results_AzotKO2_crop_0170.tif\n",
      "/Volumes/TRANSCEND/VicSegmentation/Binary/results_AzotKO2_crop_0169.tif\n",
      "/Volumes/TRANSCEND/VicSegmentation/Binary/results_AzotKO2_crop_0168.tif\n",
      "/Volumes/TRANSCEND/VicSegmentation/Binary/results_AzotKO2_crop_0167.tif\n",
      "/Volumes/TRANSCEND/VicSegmentation/Binary/results_AzotKO2_crop_0166.tif\n",
      "/Volumes/TRANSCEND/VicSegmentation/Binary/results_AzotKO2_crop_0165.tif\n",
      "/Volumes/TRANSCEND/VicSegmentation/Binary/results_AzotKO2_crop_0164.tif\n",
      "/Volumes/TRANSCEND/VicSegmentation/Binary/results_AzotKO2_crop_0163.tif\n",
      "/Volumes/TRANSCEND/VicSegmentation/Binary/results_AzotKO2_crop_0162.tif\n",
      "/Volumes/TRANSCEND/VicSegmentation/Binary/results_AzotKO2_crop_0161.tif\n",
      "/Volumes/TRANSCEND/VicSegmentation/Binary/results_AzotKO2_crop_0160.tif\n",
      "/Volumes/TRANSCEND/VicSegmentation/Binary/results_AzotKO2_crop_0159.tif\n",
      "/Volumes/TRANSCEND/VicSegmentation/Binary/results_AzotKO2_crop_0158.tif\n",
      "/Volumes/TRANSCEND/VicSegmentation/Binary/results_AzotKO2_crop_0157.tif\n",
      "/Volumes/TRANSCEND/VicSegmentation/Binary/results_AzotKO2_crop_0156.tif\n",
      "/Volumes/TRANSCEND/VicSegmentation/Binary/results_AzotKO2_crop_0155.tif\n",
      "/Volumes/TRANSCEND/VicSegmentation/Binary/results_AzotKO2_crop_0154.tif\n",
      "/Volumes/TRANSCEND/VicSegmentation/Binary/results_AzotKO2_crop_0153.tif\n",
      "/Volumes/TRANSCEND/VicSegmentation/Binary/results_AzotKO2_crop_0152.tif\n",
      "/Volumes/TRANSCEND/VicSegmentation/Binary/results_AzotKO2_crop_0151.tif\n",
      "/Volumes/TRANSCEND/VicSegmentation/Binary/results_AzotKO2_crop_0150.tif\n",
      "/Volumes/TRANSCEND/VicSegmentation/Binary/results_AzotKO2_crop_0149.tif\n",
      "/Volumes/TRANSCEND/VicSegmentation/Binary/results_AzotKO2_crop_0148.tif\n",
      "/Volumes/TRANSCEND/VicSegmentation/Binary/results_AzotKO2_crop_0147.tif\n",
      "/Volumes/TRANSCEND/VicSegmentation/Binary/results_AzotKO2_crop_0146.tif\n",
      "/Volumes/TRANSCEND/VicSegmentation/Binary/results_AzotKO2_crop_0145.tif\n",
      "/Volumes/TRANSCEND/VicSegmentation/Binary/results_AzotKO2_crop_0144.tif\n",
      "/Volumes/TRANSCEND/VicSegmentation/Binary/results_AzotKO2_crop_0143.tif\n",
      "/Volumes/TRANSCEND/VicSegmentation/Binary/results_AzotKO2_crop_0142.tif\n",
      "/Volumes/TRANSCEND/VicSegmentation/Binary/results_AzotKO2_crop_0141.tif\n",
      "/Volumes/TRANSCEND/VicSegmentation/Binary/results_AzotKO2_crop_0140.tif\n",
      "/Volumes/TRANSCEND/VicSegmentation/Binary/results_AzotKO2_crop_0139.tif\n",
      "/Volumes/TRANSCEND/VicSegmentation/Binary/results_AzotKO2_crop_0138.tif\n",
      "/Volumes/TRANSCEND/VicSegmentation/Binary/results_AzotKO2_crop_0137.tif\n",
      "/Volumes/TRANSCEND/VicSegmentation/Binary/results_AzotKO2_crop_0136.tif\n",
      "/Volumes/TRANSCEND/VicSegmentation/Binary/results_AzotKO2_crop_0135.tif\n",
      "/Volumes/TRANSCEND/VicSegmentation/Binary/results_AzotKO2_crop_0134.tif\n",
      "/Volumes/TRANSCEND/VicSegmentation/Binary/results_AzotKO2_crop_0133.tif\n",
      "/Volumes/TRANSCEND/VicSegmentation/Binary/results_AzotKO2_crop_0132.tif\n",
      "/Volumes/TRANSCEND/VicSegmentation/Binary/results_AzotKO2_crop_0131.tif\n",
      "/Volumes/TRANSCEND/VicSegmentation/Binary/results_AzotKO2_crop_0130.tif\n",
      "/Volumes/TRANSCEND/VicSegmentation/Binary/results_AzotKO2_crop_0129.tif\n",
      "/Volumes/TRANSCEND/VicSegmentation/Binary/results_AzotKO2_crop_0128.tif\n",
      "/Volumes/TRANSCEND/VicSegmentation/Binary/results_AzotKO2_crop_0127.tif\n"
     ]
    },
    {
     "ename": "KeyboardInterrupt",
     "evalue": "",
     "output_type": "error",
     "traceback": [
      "\u001b[0;31m---------------------------------------------------------------------------\u001b[0m",
      "\u001b[0;31mKeyboardInterrupt\u001b[0m                         Traceback (most recent call last)",
      "\u001b[0;32m<ipython-input-4-c2b2b0543308>\u001b[0m in \u001b[0;36m<module>\u001b[0;34m\u001b[0m\n\u001b[1;32m      6\u001b[0m \u001b[0;34m\u001b[0m\u001b[0m\n\u001b[1;32m      7\u001b[0m             \u001b[0mBinaryImage\u001b[0m \u001b[0;34m=\u001b[0m \u001b[0mnormalizeFloatZeroOne\u001b[0m\u001b[0;34m(\u001b[0m\u001b[0mBinaryImage\u001b[0m\u001b[0;34m)\u001b[0m\u001b[0;34m\u001b[0m\u001b[0;34m\u001b[0m\u001b[0m\n\u001b[0;32m----> 8\u001b[0;31m             \u001b[0mIntegerImage\u001b[0m \u001b[0;34m=\u001b[0m \u001b[0mMakeLabels\u001b[0m\u001b[0;34m(\u001b[0m\u001b[0mBinaryImage\u001b[0m\u001b[0;34m)\u001b[0m\u001b[0;34m\u001b[0m\u001b[0;34m\u001b[0m\u001b[0m\n\u001b[0m\u001b[1;32m      9\u001b[0m \u001b[0;34m\u001b[0m\u001b[0m\n\u001b[1;32m     10\u001b[0m \u001b[0;34m\u001b[0m\u001b[0m\n",
      "\u001b[0;32m~/BioPython/utils.py\u001b[0m in \u001b[0;36mMakeLabels\u001b[0;34m(image)\u001b[0m\n\u001b[1;32m    247\u001b[0m   \u001b[0mlabelclean\u001b[0m \u001b[0;34m=\u001b[0m \u001b[0mremove_big_objects\u001b[0m\u001b[0;34m(\u001b[0m\u001b[0mlabelimage\u001b[0m\u001b[0;34m,\u001b[0m \u001b[0mmax_size\u001b[0m \u001b[0;34m=\u001b[0m \u001b[0;36m5000\u001b[0m\u001b[0;34m)\u001b[0m\u001b[0;34m\u001b[0m\u001b[0;34m\u001b[0m\u001b[0m\n\u001b[1;32m    248\u001b[0m \u001b[0;34m\u001b[0m\u001b[0m\n\u001b[0;32m--> 249\u001b[0;31m   \u001b[0mnonormimg\u001b[0m\u001b[0;34m,\u001b[0m \u001b[0mforward_map\u001b[0m\u001b[0;34m,\u001b[0m \u001b[0minverse_map\u001b[0m \u001b[0;34m=\u001b[0m \u001b[0mrelabel_sequential\u001b[0m\u001b[0;34m(\u001b[0m\u001b[0mlabelclean\u001b[0m\u001b[0;34m)\u001b[0m\u001b[0;34m\u001b[0m\u001b[0;34m\u001b[0m\u001b[0m\n\u001b[0m\u001b[1;32m    250\u001b[0m   \u001b[0;31m#nonormimg = maximum_filter(nonormimg, 5)\u001b[0m\u001b[0;34m\u001b[0m\u001b[0;34m\u001b[0m\u001b[0;34m\u001b[0m\u001b[0m\n\u001b[1;32m    251\u001b[0m   \u001b[0;32mreturn\u001b[0m \u001b[0mnonormimg\u001b[0m\u001b[0;34m\u001b[0m\u001b[0;34m\u001b[0m\u001b[0m\n",
      "\u001b[0;32m~/miniconda3/envs/tensorflowEnv36/lib/python3.6/site-packages/skimage/segmentation/_join.py\u001b[0m in \u001b[0;36mrelabel_sequential\u001b[0;34m(label_field, offset)\u001b[0m\n\u001b[1;32m    127\u001b[0m         \u001b[0mlabel_field\u001b[0m \u001b[0;34m=\u001b[0m \u001b[0mlabel_field\u001b[0m\u001b[0;34m.\u001b[0m\u001b[0mastype\u001b[0m\u001b[0;34m(\u001b[0m\u001b[0mnew_type\u001b[0m\u001b[0;34m)\u001b[0m\u001b[0;34m\u001b[0m\u001b[0;34m\u001b[0m\u001b[0m\n\u001b[1;32m    128\u001b[0m         \u001b[0mm\u001b[0m \u001b[0;34m=\u001b[0m \u001b[0mm\u001b[0m\u001b[0;34m.\u001b[0m\u001b[0mastype\u001b[0m\u001b[0;34m(\u001b[0m\u001b[0mnew_type\u001b[0m\u001b[0;34m)\u001b[0m  \u001b[0;31m# Ensures m is an integer\u001b[0m\u001b[0;34m\u001b[0m\u001b[0;34m\u001b[0m\u001b[0m\n\u001b[0;32m--> 129\u001b[0;31m     \u001b[0mlabels\u001b[0m \u001b[0;34m=\u001b[0m \u001b[0mnp\u001b[0m\u001b[0;34m.\u001b[0m\u001b[0munique\u001b[0m\u001b[0;34m(\u001b[0m\u001b[0mlabel_field\u001b[0m\u001b[0;34m)\u001b[0m\u001b[0;34m\u001b[0m\u001b[0;34m\u001b[0m\u001b[0m\n\u001b[0m\u001b[1;32m    130\u001b[0m     \u001b[0mlabels0\u001b[0m \u001b[0;34m=\u001b[0m \u001b[0mlabels\u001b[0m\u001b[0;34m[\u001b[0m\u001b[0mlabels\u001b[0m \u001b[0;34m!=\u001b[0m \u001b[0;36m0\u001b[0m\u001b[0;34m]\u001b[0m\u001b[0;34m\u001b[0m\u001b[0;34m\u001b[0m\u001b[0m\n\u001b[1;32m    131\u001b[0m     \u001b[0mrequired_type\u001b[0m \u001b[0;34m=\u001b[0m \u001b[0mnp\u001b[0m\u001b[0;34m.\u001b[0m\u001b[0mmin_scalar_type\u001b[0m\u001b[0;34m(\u001b[0m\u001b[0moffset\u001b[0m \u001b[0;34m+\u001b[0m \u001b[0mlen\u001b[0m\u001b[0;34m(\u001b[0m\u001b[0mlabels0\u001b[0m\u001b[0;34m)\u001b[0m\u001b[0;34m)\u001b[0m\u001b[0;34m\u001b[0m\u001b[0;34m\u001b[0m\u001b[0m\n",
      "\u001b[0;32m<__array_function__ internals>\u001b[0m in \u001b[0;36munique\u001b[0;34m(*args, **kwargs)\u001b[0m\n",
      "\u001b[0;32m~/miniconda3/envs/tensorflowEnv36/lib/python3.6/site-packages/numpy/lib/arraysetops.py\u001b[0m in \u001b[0;36munique\u001b[0;34m(ar, return_index, return_inverse, return_counts, axis)\u001b[0m\n\u001b[1;32m    260\u001b[0m     \u001b[0mar\u001b[0m \u001b[0;34m=\u001b[0m \u001b[0mnp\u001b[0m\u001b[0;34m.\u001b[0m\u001b[0masanyarray\u001b[0m\u001b[0;34m(\u001b[0m\u001b[0mar\u001b[0m\u001b[0;34m)\u001b[0m\u001b[0;34m\u001b[0m\u001b[0;34m\u001b[0m\u001b[0m\n\u001b[1;32m    261\u001b[0m     \u001b[0;32mif\u001b[0m \u001b[0maxis\u001b[0m \u001b[0;32mis\u001b[0m \u001b[0;32mNone\u001b[0m\u001b[0;34m:\u001b[0m\u001b[0;34m\u001b[0m\u001b[0;34m\u001b[0m\u001b[0m\n\u001b[0;32m--> 262\u001b[0;31m         \u001b[0mret\u001b[0m \u001b[0;34m=\u001b[0m \u001b[0m_unique1d\u001b[0m\u001b[0;34m(\u001b[0m\u001b[0mar\u001b[0m\u001b[0;34m,\u001b[0m \u001b[0mreturn_index\u001b[0m\u001b[0;34m,\u001b[0m \u001b[0mreturn_inverse\u001b[0m\u001b[0;34m,\u001b[0m \u001b[0mreturn_counts\u001b[0m\u001b[0;34m)\u001b[0m\u001b[0;34m\u001b[0m\u001b[0;34m\u001b[0m\u001b[0m\n\u001b[0m\u001b[1;32m    263\u001b[0m         \u001b[0;32mreturn\u001b[0m \u001b[0m_unpack_tuple\u001b[0m\u001b[0;34m(\u001b[0m\u001b[0mret\u001b[0m\u001b[0;34m)\u001b[0m\u001b[0;34m\u001b[0m\u001b[0;34m\u001b[0m\u001b[0m\n\u001b[1;32m    264\u001b[0m \u001b[0;34m\u001b[0m\u001b[0m\n",
      "\u001b[0;32m~/miniconda3/envs/tensorflowEnv36/lib/python3.6/site-packages/numpy/lib/arraysetops.py\u001b[0m in \u001b[0;36m_unique1d\u001b[0;34m(ar, return_index, return_inverse, return_counts)\u001b[0m\n\u001b[1;32m    308\u001b[0m         \u001b[0maux\u001b[0m \u001b[0;34m=\u001b[0m \u001b[0mar\u001b[0m\u001b[0;34m[\u001b[0m\u001b[0mperm\u001b[0m\u001b[0;34m]\u001b[0m\u001b[0;34m\u001b[0m\u001b[0;34m\u001b[0m\u001b[0m\n\u001b[1;32m    309\u001b[0m     \u001b[0;32melse\u001b[0m\u001b[0;34m:\u001b[0m\u001b[0;34m\u001b[0m\u001b[0;34m\u001b[0m\u001b[0m\n\u001b[0;32m--> 310\u001b[0;31m         \u001b[0mar\u001b[0m\u001b[0;34m.\u001b[0m\u001b[0msort\u001b[0m\u001b[0;34m(\u001b[0m\u001b[0;34m)\u001b[0m\u001b[0;34m\u001b[0m\u001b[0;34m\u001b[0m\u001b[0m\n\u001b[0m\u001b[1;32m    311\u001b[0m         \u001b[0maux\u001b[0m \u001b[0;34m=\u001b[0m \u001b[0mar\u001b[0m\u001b[0;34m\u001b[0m\u001b[0;34m\u001b[0m\u001b[0m\n\u001b[1;32m    312\u001b[0m     \u001b[0mmask\u001b[0m \u001b[0;34m=\u001b[0m \u001b[0mnp\u001b[0m\u001b[0;34m.\u001b[0m\u001b[0mempty\u001b[0m\u001b[0;34m(\u001b[0m\u001b[0maux\u001b[0m\u001b[0;34m.\u001b[0m\u001b[0mshape\u001b[0m\u001b[0;34m,\u001b[0m \u001b[0mdtype\u001b[0m\u001b[0;34m=\u001b[0m\u001b[0mnp\u001b[0m\u001b[0;34m.\u001b[0m\u001b[0mbool_\u001b[0m\u001b[0;34m)\u001b[0m\u001b[0;34m\u001b[0m\u001b[0;34m\u001b[0m\u001b[0m\n",
      "\u001b[0;31mKeyboardInterrupt\u001b[0m: "
     ]
    }
   ],
   "source": [
    "\n",
    "filesRaw = glob.glob(Raw_path)\n",
    "for fname in filesRaw:\n",
    "            BinaryImage = imread(fname)\n",
    "            \n",
    "            InvertedBinaryImage = invert(BinaryImage)\n",
    "            BinaryImage = normalizeFloatZeroOne(BinaryImage)\n",
    "            IntegerImage = MakeLabels(BinaryImage)\n",
    "            \n",
    "            \n",
    "            Name = os.path.basename(os.path.splitext(fname)[0])\n",
    "            \n",
    "              \n",
    "            save_8bit_tiff_imagej_compatible((Integerresultsdir  + Name + '.tif' ) , IntegerImage, axes)    \n",
    "  \n",
    "    "
   ]
  },
  {
   "cell_type": "code",
   "execution_count": null,
   "metadata": {},
   "outputs": [],
   "source": [
    "  \n"
   ]
  },
  {
   "cell_type": "code",
   "execution_count": null,
   "metadata": {},
   "outputs": [],
   "source": [
    "  \n",
    "  "
   ]
  }
 ],
 "metadata": {
  "kernelspec": {
   "display_name": "Python [conda env:tensorflowEnv36]",
   "language": "python",
   "name": "conda-env-tensorflowEnv36-py"
  },
  "language_info": {
   "codemirror_mode": {
    "name": "ipython",
    "version": 3
   },
   "file_extension": ".py",
   "mimetype": "text/x-python",
   "name": "python",
   "nbconvert_exporter": "python",
   "pygments_lexer": "ipython3",
   "version": "3.6.9"
  }
 },
 "nbformat": 4,
 "nbformat_minor": 2
}
