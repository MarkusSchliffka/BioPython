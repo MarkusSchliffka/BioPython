{
 "cells": [
  {
   "cell_type": "code",
   "execution_count": 5,
   "metadata": {},
   "outputs": [],
   "source": [
    "import os\n",
    "import glob\n",
    "from tifffile import imread, imwrite\n",
    "import numpy as np\n",
    "import imageio\n",
    "from skimage.measure import label\n",
    "import matplotlib.pyplot as plt\n",
    "from utils import CCLabels, normalizeFloatZeroOne, invert\n",
    "from tqdm import tqdm\n",
    "try:\n",
    "    from pathlib import Path\n",
    "    Path().expanduser()\n",
    "except (ImportError, AttributeError):\n",
    "        from pathlib2 import Path\n",
    "\n",
    "try:\n",
    "        import tempfile\n",
    "        tempfile.TemporaryDirectory\n",
    "except (ImportError, AttributeError):\n",
    "       from backports import tempfile"
   ]
  },
  {
   "cell_type": "code",
   "execution_count": 2,
   "metadata": {},
   "outputs": [],
   "source": [
    "Binarydir = '/Users/aimachine/Binary/Seg/'\n",
    "Integerresultsdir = '/Users/aimachine/Integer/'\n",
    "Path(Integerresultsdir).mkdir(exist_ok = True)\n",
    "Raw_path = os.path.join(Binarydir, '*tif')\n",
    "X = glob.glob(Raw_path)\n",
    "axes = 'YX'"
   ]
  },
  {
   "cell_type": "code",
   "execution_count": 7,
   "metadata": {},
   "outputs": [
    {
     "name": "stdout",
     "output_type": "stream",
     "text": [
      "(200, 1953, 4230)\n"
     ]
    },
    {
     "name": "stderr",
     "output_type": "stream",
     "text": [
      "100%|██████████| 200/200 [02:18<00:00,  1.44it/s]\n"
     ]
    }
   ],
   "source": [
    "\n",
    "filesRaw = glob.glob(Raw_path)\n",
    "for fname in filesRaw:\n",
    "            BinaryImage = imread(fname)\n",
    "            print(BinaryImage.shape)\n",
    "            IntegerImage = np.zeros([BinaryImage.shape[0],BinaryImage.shape[1],BinaryImage.shape[2] ])\n",
    "            Name = os.path.basename(os.path.splitext(fname)[0])\n",
    "            for i in tqdm(range(0, (BinaryImage.shape[0]))):\n",
    "              \n",
    "                IntegerImage[i,:] = CCLabels(BinaryImage[i,:])\n",
    "                \n",
    "            \n",
    "            imwrite((Integerresultsdir  + Name + '.tif' ) , IntegerImage.astype('uint16'))    \n",
    "  \n",
    "    "
   ]
  },
  {
   "cell_type": "code",
   "execution_count": null,
   "metadata": {},
   "outputs": [],
   "source": [
    "     \n"
   ]
  },
  {
   "cell_type": "code",
   "execution_count": null,
   "metadata": {},
   "outputs": [],
   "source": [
    "  \n",
    "  "
   ]
  }
 ],
 "metadata": {
  "kernelspec": {
   "display_name": "Python [conda env:tensorflowEnv36]",
   "language": "python",
   "name": "conda-env-tensorflowEnv36-py"
  },
  "language_info": {
   "codemirror_mode": {
    "name": "ipython",
    "version": 3
   },
   "file_extension": ".py",
   "mimetype": "text/x-python",
   "name": "python",
   "nbconvert_exporter": "python",
   "pygments_lexer": "ipython3",
   "version": "3.6.9"
  }
 },
 "nbformat": 4,
 "nbformat_minor": 2
}
