{
 "cells": [
  {
   "cell_type": "code",
   "execution_count": 1,
   "metadata": {},
   "outputs": [],
   "source": [
    "import os\n",
    "import glob\n",
    "from tifffile import imread\n",
    "from utils import save_tiff_imagej_compatible, invert, MakeLabels,WatershedLabels, normalizeFloatZeroOne,save_8bit_tiff_imagej_compatible\n",
    "import imageio\n",
    "from skimage.measure import label\n",
    "import matplotlib.pyplot as plt\n",
    "try:\n",
    "    from pathlib import Path\n",
    "    Path().expanduser()\n",
    "except (ImportError, AttributeError):\n",
    "        from pathlib2 import Path\n",
    "\n",
    "try:\n",
    "        import tempfile\n",
    "        tempfile.TemporaryDirectory\n",
    "except (ImportError, AttributeError):\n",
    "       from backports import tempfile"
   ]
  },
  {
   "cell_type": "code",
   "execution_count": 2,
   "metadata": {},
   "outputs": [],
   "source": [
    "Binarydir = '/Volumes/TRANSCEND/VicSegmentation/Binary/'\n",
    "Integerresultsdir = '/Volumes/TRANSCEND/VicSegmentation/WatershedInteger/'\n",
    "Path(Integerresultsdir).mkdir(exist_ok = True)\n",
    "Raw_path = os.path.join(Binarydir, '*tif')\n",
    "X = glob.glob(Raw_path)\n",
    "axes = 'YX'"
   ]
  },
  {
   "cell_type": "code",
   "execution_count": null,
   "metadata": {},
   "outputs": [
    {
     "name": "stderr",
     "output_type": "stream",
     "text": [
      "/Users/aimachine/BioPython/utils.py:524: UserWarning: Converting data type from 'int64' to ImageJ-compatible 'int16'.\n",
      "  warnings.warn(\"Converting data type from '%s' to ImageJ-compatible '%s'.\" % (t, np.dtype(t_new)))\n",
      "/Users/aimachine/BioPython/utils.py:359: FutureWarning: Using a non-tuple sequence for multidimensional indexing is deprecated; use `arr[tuple(seq)]` instead of `arr[seq]`. In the future this will be interpreted as an array index, `arr[np.array(seq)]`, which will result either in an error or a different result.\n",
      "  x = x[slices]\n"
     ]
    }
   ],
   "source": [
    "\n",
    "filesRaw = glob.glob(Raw_path)\n",
    "for fname in filesRaw:\n",
    "            BinaryImage = imread(fname)\n",
    "            \n",
    "            InvertedBinaryImage = invert(BinaryImage)\n",
    "            BinaryImage = normalizeFloatZeroOne(BinaryImage)\n",
    "            IntegerImage = WatershedLabels(BinaryImage)\n",
    "            \n",
    "            \n",
    "            Name = os.path.basename(os.path.splitext(fname)[0])\n",
    "            \n",
    "              \n",
    "            save_tiff_imagej_compatible((Integerresultsdir  + Name + '.tif' ) , IntegerImage, axes)    \n",
    "  \n",
    "    "
   ]
  },
  {
   "cell_type": "code",
   "execution_count": null,
   "metadata": {},
   "outputs": [],
   "source": [
    "  \n"
   ]
  },
  {
   "cell_type": "code",
   "execution_count": null,
   "metadata": {},
   "outputs": [],
   "source": [
    "  \n",
    "  "
   ]
  }
 ],
 "metadata": {
  "kernelspec": {
   "display_name": "Python [conda env:tensorflowEnv36]",
   "language": "python",
   "name": "conda-env-tensorflowEnv36-py"
  },
  "language_info": {
   "codemirror_mode": {
    "name": "ipython",
    "version": 3
   },
   "file_extension": ".py",
   "mimetype": "text/x-python",
   "name": "python",
   "nbconvert_exporter": "python",
   "pygments_lexer": "ipython3",
   "version": "3.6.9"
  }
 },
 "nbformat": 4,
 "nbformat_minor": 2
}
