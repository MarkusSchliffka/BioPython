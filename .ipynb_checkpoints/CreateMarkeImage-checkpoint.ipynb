{
 "cells": [
  {
   "cell_type": "code",
   "execution_count": 22,
   "metadata": {},
   "outputs": [],
   "source": [
    "import pandas as pd\n",
    "import napari\n",
    "import glob\n",
    "import os\n",
    "import cv2\n",
    "import numpy as np\n",
    "from skimage.measure import label\n",
    "from tifffile import imread, imwrite"
   ]
  },
  {
   "cell_type": "code",
   "execution_count": 32,
   "metadata": {},
   "outputs": [],
   "source": [
    "sourceimage = '/home/sancere/VarunNewton/Lucas2Varun/BIG6/TimelapseBIG6.tif'\n",
    "csv_file = '/home/sancere/VarunNewton/Lucas2Varun/CSV_forBIGS/BIG6/All_Cells_Markers_TXY.csv'\n",
    "save_dir = '/home/sancere/VarunNewton/Lucas2Varun/BIG6/'"
   ]
  },
  {
   "cell_type": "code",
   "execution_count": 33,
   "metadata": {},
   "outputs": [],
   "source": [
    "image =  imread(sourceimage)\n",
    "Name = os.path.basename(os.path.splitext(sourceimage)[0])\n",
    "time, Sx, Sy =   np.loadtxt(csv_file, delimiter = ',', skiprows = 0, unpack = True)\n",
    "\n",
    "DynamicImage = np.zeros([image.shape[0], image.shape[1], image.shape[2]])\n",
    "f = open(csv_file)\n",
    "numlines = len(f.readlines())\n",
    "if numlines > 1:\n",
    "        \n",
    "    for t in range(0, len(time) ):\n",
    "       if time[t] < image.shape[0]:  \n",
    "             \n",
    "                location = (int(Sx[t]), int(Sy[t]))\n",
    "            \n",
    "                cv2.circle(DynamicImage[int(time[t]) - 1,:] , location, 2,(255,0,0), thickness = -1 )    \n",
    "for i in range(0, DynamicImage.shape[0]):\n",
    "  DynamicImage[i,:] = label(DynamicImage[i,:])        \n",
    "imwrite((save_dir + Name + 'Markers' + '.tif'  ) , DynamicImage.astype('uint16'))            "
   ]
  },
  {
   "cell_type": "code",
   "execution_count": null,
   "metadata": {},
   "outputs": [],
   "source": []
  },
  {
   "cell_type": "code",
   "execution_count": null,
   "metadata": {},
   "outputs": [],
   "source": []
  }
 ],
 "metadata": {
  "kernelspec": {
   "display_name": "Python 3",
   "language": "python",
   "name": "python3"
  },
  "language_info": {
   "codemirror_mode": {
    "name": "ipython",
    "version": 3
   },
   "file_extension": ".py",
   "mimetype": "text/x-python",
   "name": "python",
   "nbconvert_exporter": "python",
   "pygments_lexer": "ipython3",
   "version": "3.7.4"
  }
 },
 "nbformat": 4,
 "nbformat_minor": 2
}
