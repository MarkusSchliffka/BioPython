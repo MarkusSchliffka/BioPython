{
 "cells": [
  {
   "cell_type": "code",
   "execution_count": 1,
   "metadata": {},
   "outputs": [],
   "source": [
    "from tifffile import imread\n",
    "import os\n",
    "import matplotlib.pyplot as plt\n",
    "import sys\n",
    "from utils import ConvolveGaussian, save_tiff_imagej_compatible, MaxProjection\n",
    "import glob\n",
    "import numpy as np\n",
    "try:\n",
    "    from pathlib import Path\n",
    "    Path().expanduser()\n",
    "except (ImportError, AttributeError):\n",
    "        from pathlib2 import Path\n",
    "\n",
    "try:\n",
    "        import tempfile\n",
    "        tempfile.TemporaryDirectory\n",
    "except (ImportError, AttributeError):#\n",
    "       from backports import tempfile"
   ]
  },
  {
   "cell_type": "code",
   "execution_count": 34,
   "metadata": {},
   "outputs": [],
   "source": [
    "sourceimage = '/Users/aimachine/Claudia/Transmitted/Original/TransmittedLight11_Probabilities.tif'\n",
    "resultsdir = '/Users/aimachine/Claudia/Transmitted/Original/Splith5/'\n",
    "Path(resultsdir).mkdir(exist_ok = True)\n",
    "\n",
    "axes = 'YX'\n",
    "CellLength = 1000\n",
    "FilterSize = 0.3 * CellLength\n",
    "STD = 0.1 * CellLength"
   ]
  },
  {
   "cell_type": "code",
   "execution_count": 35,
   "metadata": {},
   "outputs": [],
   "source": [
    "image = imread(sourceimage)\n",
    "ConvolvedBoundaryImage = ConvolveGaussian(image, FilterSize, STD)\n",
    "Name = os.path.basename(os.path.splitext(sourceimage)[0])\n",
    "save_tiff_imagej_compatible((resultsdir + \"EdgeMap\"+ Name + '.tif' ) ,  ConvolvedBoundaryImage, axes)\n",
    "    "
   ]
  },
  {
   "cell_type": "code",
   "execution_count": 13,
   "metadata": {},
   "outputs": [],
   "source": [
    "image = imread(sourceimage)\n",
    "ConvolvedBoundaryImage = np.zeros([image.shape[0], image.shape[1], image.shape[2]])\n",
    "for i in range(0, image.shape[0]):\n",
    "      ConvolvedBoundaryImage[i,:] = ConvolveGaussian(image[i,:], FilterSize, STD)\n",
    "      Name = os.path.basename(os.path.splitext(sourceimage)[0])\n",
    "      save_tiff_imagej_compatible((resultsdir + \"EdgeMap\"+ Name + str(i) + '.tif' ) ,  ConvolvedBoundaryImage[i,:], axes)\n",
    "    "
   ]
  },
  {
   "cell_type": "code",
   "execution_count": null,
   "metadata": {},
   "outputs": [],
   "source": []
  }
 ],
 "metadata": {
  "kernelspec": {
   "display_name": "Python [conda env:tensorflowEnv36]",
   "language": "python",
   "name": "conda-env-tensorflowEnv36-py"
  },
  "language_info": {
   "codemirror_mode": {
    "name": "ipython",
    "version": 3
   },
   "file_extension": ".py",
   "mimetype": "text/x-python",
   "name": "python",
   "nbconvert_exporter": "python",
   "pygments_lexer": "ipython3",
   "version": "3.6.9"
  }
 },
 "nbformat": 4,
 "nbformat_minor": 2
}
