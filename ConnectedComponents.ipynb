{
 "cells": [
  {
   "cell_type": "code",
   "execution_count": 1,
   "metadata": {},
   "outputs": [],
   "source": [
    "import os\n",
    "import glob\n",
    "from tifffile import imread\n",
    "from utils import save_tiff_imagej_compatible, invert, MakeLabels, normalizeFloatZeroOne,save_8bit_tiff_imagej_compatible\n",
    "import imageio\n",
    "from skimage.measure import label\n",
    "import matplotlib.pyplot as plt\n",
    "try:\n",
    "    from pathlib import Path\n",
    "    Path().expanduser()\n",
    "except (ImportError, AttributeError):\n",
    "        from pathlib2 import Path\n",
    "\n",
    "try:\n",
    "        import tempfile\n",
    "        tempfile.TemporaryDirectory\n",
    "except (ImportError, AttributeError):\n",
    "       from backports import tempfile"
   ]
  },
  {
   "cell_type": "code",
   "execution_count": 3,
   "metadata": {},
   "outputs": [],
   "source": [
    "Binarydir = '/Volumes/TRANSCEND/VicSegmentation/Binary/'\n",
    "Integerresultsdir = '/Volumes/TRANSCEND/VicSegmentation/Integer/'\n",
    "Path(Integerresultsdir).mkdir(exist_ok = True)\n",
    "Raw_path = os.path.join(Binarydir, '*tif')\n",
    "X = glob.glob(Raw_path)\n",
    "axes = 'YX'"
   ]
  },
  {
   "cell_type": "code",
   "execution_count": null,
   "metadata": {},
   "outputs": [],
   "source": [
    "\n",
    "filesRaw = glob.glob(Raw_path)\n",
    "for fname in filesRaw:\n",
    "            BinaryImage = imread(fname)\n",
    "            \n",
    "            InvertedBinaryImage = invert(BinaryImage)\n",
    "            BinaryImage = normalizeFloatZeroOne(BinaryImage)\n",
    "            IntegerImage = MakeLabels(BinaryImage)\n",
    "            \n",
    "            \n",
    "            Name = os.path.basename(os.path.splitext(fname)[0])\n",
    "            \n",
    "              \n",
    "            save_8bit_tiff_imagej_compatible((Integerresultsdir  + Name + '.tif' ) , IntegerImage, axes)    \n",
    "  \n",
    "    "
   ]
  },
  {
   "cell_type": "code",
   "execution_count": null,
   "metadata": {},
   "outputs": [],
   "source": [
    "  \n"
   ]
  },
  {
   "cell_type": "code",
   "execution_count": null,
   "metadata": {},
   "outputs": [],
   "source": [
    "  \n",
    "  "
   ]
  }
 ],
 "metadata": {
  "kernelspec": {
   "display_name": "Python [conda env:tensorflowEnv36]",
   "language": "python",
   "name": "conda-env-tensorflowEnv36-py"
  },
  "language_info": {
   "codemirror_mode": {
    "name": "ipython",
    "version": 3
   },
   "file_extension": ".py",
   "mimetype": "text/x-python",
   "name": "python",
   "nbconvert_exporter": "python",
   "pygments_lexer": "ipython3",
   "version": "3.6.9"
  }
 },
 "nbformat": 4,
 "nbformat_minor": 2
}
