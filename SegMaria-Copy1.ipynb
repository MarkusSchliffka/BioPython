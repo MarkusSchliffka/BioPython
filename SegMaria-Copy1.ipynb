{
 "cells": [
  {
   "cell_type": "code",
   "execution_count": 1,
   "metadata": {},
   "outputs": [
    {
     "name": "stderr",
     "output_type": "stream",
     "text": [
      "Using TensorFlow backend.\n"
     ]
    }
   ],
   "source": [
    "\n",
    "import sys\n",
    "import os\n",
    "os.environ[\"CUDA_VISIBLE_DEVICES\"]=\"0\"\n",
    "from glob import glob\n",
    "from keras import backend as K\n",
    "sys.path.append(\"../NEAT\")\n",
    "from tqdm import tqdm\n",
    "import cv2\n",
    "from keras.models import Model, load_model\n",
    "from NEATModels import yolo_loss, Concat\n",
    "from stardist.models import StarDist2D\n",
    "from csbdeep.models import Config, CARE\n",
    "from csbdeep.utils import normalize\n",
    "from NEATUtils import helpers, NMS, MultiModelPrediction\n",
    "from NEATUtils.helpers import smallzero_pad, WatershedwithMask, fill_label_holes,MaxProjectDist, multiplot,Integer_to_border\n",
    "import glob\n",
    "from skimage.filters import threshold_otsu\n",
    "from scipy.ndimage.morphology import binary_fill_holes\n",
    "import numpy as np\n",
    "from skimage.morphology import remove_small_objects\n",
    "from tifffile import imread, imwrite\n",
    "try:\n",
    "    from pathlib import Path\n",
    "    Path().expanduser()\n",
    "except (ImportError,AttributeError):\n",
    "    from pathlib2 import Path\n",
    "try:\n",
    "    import tempfile\n",
    "    tempfile.TemporaryDirectory\n",
    "except (ImportError,AttributeError):\n",
    "    from backports import tempfile"
   ]
  },
  {
   "cell_type": "code",
   "execution_count": 2,
   "metadata": {},
   "outputs": [],
   "source": [
    "#Path to your model directory\n",
    "ModelDirectory = '/home/sancere/VarunNewton/CurieDeepLearningModels/O-NEATweights/'\n",
    "#Path to timelapse image directory\n",
    "MovieDirectory =  '//home/sancere/VarunCom/commun/Maria_to_Varun/Pcna4b/Rotated/'\n",
    "ResultsDirectory = MovieDirectory +  '/VarunResults/'\n",
    "\n",
    "\n",
    "SegmentationMaskModel = 'DrosMaskBin1'\n",
    "SegmentationStarModel = 'LucasDrosSmartSeeds'\n",
    "\n"
   ]
  },
  {
   "cell_type": "code",
   "execution_count": 3,
   "metadata": {},
   "outputs": [
    {
     "name": "stdout",
     "output_type": "stream",
     "text": [
      "Loading network weights from 'weights_best.h5'.\n",
      "Couldn't load thresholds from 'thresholds.json', using default values. (Call 'optimize_thresholds' to change that.)\n",
      "Using default values: prob_thresh=0.5, nms_thresh=0.4.\n",
      "Loading network weights from 'weights_best.h5'.\n"
     ]
    }
   ],
   "source": [
    "\n",
    "model = StarDist2D(config = None, name = SegmentationStarModel, basedir = ModelDirectory)\n",
    "UnetModel = CARE(config = None, name = SegmentationMaskModel, basedir = ModelDirectory)\n"
   ]
  },
  {
   "cell_type": "code",
   "execution_count": null,
   "metadata": {},
   "outputs": [],
   "source": [
    "\n"
   ]
  },
  {
   "cell_type": "code",
   "execution_count": 4,
   "metadata": {
    "scrolled": false
   },
   "outputs": [],
   "source": [
    "Path(ResultsDirectory).mkdir(exist_ok = True)\n",
    "Path(ResultsDirectory + '/Mask/').mkdir(exist_ok = True)\n",
    "Raw_path = os.path.join(MovieDirectory, '*tif')\n",
    "X = glob.glob(Raw_path)\n",
    "axes = 'TYX'\n",
    "axis_norm = (0,1)\n",
    "\n",
    "for fname in X:\n",
    "    image = imread(fname)\n",
    "    \n",
    "    \n",
    "    x = image\n",
    "    originalX = x.shape[0]\n",
    "    originalY = x.shape[1]  \n",
    "\n",
    "    #Get Name\n",
    "    Name = os.path.basename(os.path.splitext(fname)[0])\n",
    "\n",
    "    #UNET Prediction\n",
    "\n",
    "    Segmented = UnetModel.predict(x,'YX')\n",
    "    thresh = threshold_otsu(Segmented) \n",
    "    Binary = Segmented > thresh\n",
    "    Finalimage = Binary\n",
    "\n",
    "\n",
    "    #Stardist Prediction\n",
    "\n",
    "    x = normalize(x,1,99.8,axis=axis_norm)\n",
    "    x = smallzero_pad(x, 64, 64)\n",
    "\n",
    "    MidImage, details = model.predict_instances(x)\n",
    "    StarImage = MidImage[:originalX, :originalY]\n",
    "\n",
    "    smallprob, smalldist = model.predict(x)\n",
    "    grid = model.config.grid\n",
    "    midprob = cv2.resize(smallprob, dsize=(smallprob.shape[1] * grid[1] , smallprob.shape[0] * grid[0] ))\n",
    "    middist = cv2.resize(smalldist, dsize=(smalldist.shape[1] * grid[1] , smalldist.shape[0] * grid[0] ))\n",
    "    dist = MaxProjectDist(middist)\n",
    "    prob = dist[:originalX, :originalY]\n",
    "    Watershed, Markers = WatershedwithMask(prob,StarImage,Finalimage,  model.config.grid)\n",
    "\n",
    "    Watershed = Integer_to_border(Watershed)\n",
    "              \n",
    "            #Save different method segmentation\n",
    "                   unhashable type: 'numpy.ndarray' list\n",
    "    imwrite((ResultsDirectory  + Name+ '.tif' ) , Watershed.astype('uint8'))\n",
    "    imwrite((ResultsDirectory+ '/Mask/'  + Name+ '.tif' ) , Finalimage.astype('uint8'))\n",
    "        \n",
    "    #filelist = glob.glob(ResultsDirectory + '*' +  (os.path.splitext(os.path.basename(fname))[0] + '.csv'))\n",
    "    #for filepath in filelist:\n",
    "      #os.remove(filepath)\n",
    "    \n",
    "    \n",
    "    #print(\"Obtaining Dynamic events\")\n",
    "    #MultiModelPrediction.SegDynamicEvents(image,Watershed, fname, CubicModels, Categories_Name,\n",
    "                            #Mode,n_tiles, ResultsDirectory,TrainshapeX, TrainshapeY, TimeFrames)\n",
    "    #print(\"Obtaining Static events\")\n",
    "    #MultiModelPrediction.StaticEvents(image, fname, StaticModels, StaticCategories_Name, StaticCutoffDistance,\n",
    "                           #n_tiles, ResultsDirectory,TrainshapeX, TrainshapeY) \n",
    "    \n",
    "\n",
    "    \n",
    "    \n"
   ]
  },
  {
   "cell_type": "code",
   "execution_count": null,
   "metadata": {},
   "outputs": [],
   "source": []
  },
  {
   "cell_type": "code",
   "execution_count": null,
   "metadata": {},
   "outputs": [],
   "source": []
  }
 ],
 "metadata": {
  "kernelspec": {
   "display_name": "Python 3",
   "language": "python",
   "name": "python3"
  },
  "language_info": {
   "codemirror_mode": {
    "name": "ipython",
    "version": 3
   },
   "file_extension": ".py",
   "mimetype": "text/x-python",
   "name": "python",
   "nbconvert_exporter": "python",
   "pygments_lexer": "ipython3",
   "version": "3.6.10"
  }
 },
 "nbformat": 4,
 "nbformat_minor": 2
}
