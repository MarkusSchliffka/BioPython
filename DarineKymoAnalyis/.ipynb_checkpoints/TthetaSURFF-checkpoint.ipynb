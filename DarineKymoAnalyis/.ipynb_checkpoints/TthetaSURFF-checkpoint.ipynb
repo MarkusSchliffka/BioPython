{
 "cells": [
  {
   "cell_type": "code",
   "execution_count": 1,
   "metadata": {},
   "outputs": [],
   "source": [
    "import sys\n",
    "sys.path.append(\"../\")\n",
    "import numpy as np\n",
    "import os\n",
    "import glob\n",
    "import cv2\n",
    "import csv\n",
    "from scipy.signal import find_peaks\n",
    "from utils import Tsurff, tripleplot\n",
    "import pandas as pd\n",
    "from tifffile import imread, imwrite\n",
    "import matplotlib.pyplot as plt\n",
    "from pathlib import Path\n",
    "import napari\n",
    "from numpy import diff, polyfit"
   ]
  },
  {
   "cell_type": "code",
   "execution_count": 2,
   "metadata": {},
   "outputs": [],
   "source": [
    "Embryo = '/Users/aimachine/Dpachys_10/Dpachys_control.tif'\n",
    "EmbryoSeg = '/Users/aimachine/Dpachys_10/SegDpachys_control.tif'\n",
    "savedir = '/Users/aimachine/Dpachys_10/Results/'\n",
    "Path(savedir).mkdir(exist_ok = True)\n",
    "Xcalibration = 0.034\n",
    "Timeunit = 10\n",
    "theta = 10\n",
    "fitdegree = 10"
   ]
  },
  {
   "cell_type": "code",
   "execution_count": 3,
   "metadata": {},
   "outputs": [
    {
     "name": "stderr",
     "output_type": "stream",
     "text": [
      "100%|██████████| 370/370 [10:56<00:00,  1.77s/it]\n"
     ]
    }
   ],
   "source": [
    "ListMaps, Clock, time = Tsurff(Embryo,EmbryoSeg, theta,Timeunit)"
   ]
  },
  {
   "cell_type": "code",
   "execution_count": null,
   "metadata": {},
   "outputs": [],
   "source": [
    "with napari.gui_qt():\n",
    "              viewer = napari.view_image(imread(Embryo), name='TSURFF')\n",
    "              viewer.add_labels(Clock) "
   ]
  },
  {
   "cell_type": "code",
   "execution_count": null,
   "metadata": {},
   "outputs": [],
   "source": [
    "AnteriorAngles = [0,10,20,30,40,50,60,70,80,90,100,110,120 ]\n",
    "PosteriorAngles = [200,210,220,230, 240,250,260, 270,280, 330]\n"
   ]
  },
  {
   "cell_type": "code",
   "execution_count": null,
   "metadata": {
    "scrolled": false
   },
   "outputs": [],
   "source": [
    "AnteriorAveragePoly = 0\n",
    "for i in range(0, len(ListMaps)):\n",
    "    \n",
    "    AngleHashmap = ListMaps[i]\n",
    "    for (angle,timeddistance) in AngleHashmap.items():\n",
    "         \n",
    "        for i in range(0, len(AnteriorAngles)):\n",
    "                \n",
    "                if angle == str(AnteriorAngles[i]):\n",
    "                        deformation = diff(timeddistance) * Xcalibration/Timeunit\n",
    "                        coefficients = polyfit(time[1:], deformation, fitdegree)\n",
    "                        poly = np.poly1d(coefficients)\n",
    "                        plt.plot(time[1:],deformation)\n",
    "                        Anteriornew_x = np.linspace(time[1:][0], time[1:][-1])\n",
    "                        Anteriornew_y = poly(Anteriornew_x)\n",
    "                        AnteriorAveragePoly = AnteriorAveragePoly + Anteriornew_y\n",
    "                        plt.plot(Anteriornew_x,Anteriornew_y)\n",
    "                        plt.title( 'Angle = ' + str(angle))\n",
    "                        plt.show()\n",
    "                        \n",
    "plt.plot(Anteriornew_x,AnteriorAveragePoly)    \n",
    "print('Anterior Deformation:', 'Mean = ',np.mean(AnteriorAveragePoly), 'Standard Deviation = ', np.std(AnteriorAveragePoly))\n",
    "                        "
   ]
  },
  {
   "cell_type": "code",
   "execution_count": null,
   "metadata": {
    "scrolled": false
   },
   "outputs": [],
   "source": [
    "PosteriorAveragePoly = 0\n",
    "for i in range(0, len(ListMaps)):\n",
    "    \n",
    "    AngleHashmap = ListMaps[i]\n",
    "    for (angle,timeddistance) in AngleHashmap.items():\n",
    "         \n",
    "        for i in range(0, len(PosteriorAngles)):\n",
    "                \n",
    "                if angle == str(PosteriorAngles[i]):\n",
    "                        deformation = diff(timeddistance) * Xcalibration/Timeunit\n",
    "                        coefficients = polyfit(time[1:], deformation, fitdegree)\n",
    "                        poly = np.poly1d(coefficients)\n",
    "                        plt.plot(time[1:],deformation)\n",
    "                        Posteriornew_x = np.linspace(time[1:][0], time[1:][-1])\n",
    "                        Posteriornew_y = poly(Posteriornew_x)\n",
    "                        PosteriorAveragePoly = PosteriorAveragePoly + Posteriornew_y\n",
    "                        plt.plot(Posteriornew_x,Posteriornew_y)\n",
    "                        plt.title( 'Angle = ' + str(angle))\n",
    "                        plt.show()\n",
    "                        \n",
    "                       \n",
    "plt.plot(Posteriornew_x,PosteriorAveragePoly)    \n",
    "print('Anterior Deformation:', 'Mean = ',np.mean(PosteriorAveragePoly), 'Standard Deviation = ', np.std(PosteriorAveragePoly))\n",
    "                        "
   ]
  },
  {
   "cell_type": "code",
   "execution_count": null,
   "metadata": {},
   "outputs": [],
   "source": [
    "plt.plot(Posteriornew_x,PosteriorAveragePoly - AnteriorAveragePoly) "
   ]
  },
  {
   "cell_type": "code",
   "execution_count": null,
   "metadata": {},
   "outputs": [],
   "source": []
  }
 ],
 "metadata": {
  "kernelspec": {
   "display_name": "Python [conda env:NapariTrack]",
   "language": "python",
   "name": "conda-env-NapariTrack-py"
  },
  "language_info": {
   "codemirror_mode": {
    "name": "ipython",
    "version": 3
   },
   "file_extension": ".py",
   "mimetype": "text/x-python",
   "name": "python",
   "nbconvert_exporter": "python",
   "pygments_lexer": "ipython3",
   "version": "3.9.0"
  }
 },
 "nbformat": 4,
 "nbformat_minor": 4
}
