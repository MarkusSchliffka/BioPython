{
 "cells": [
  {
   "cell_type": "markdown",
   "metadata": {},
   "source": [
    "# In this notebook we use napari to correct the segmentation mistakes.\n",
    "\n"
   ]
  },
  {
   "cell_type": "code",
   "execution_count": 7,
   "metadata": {},
   "outputs": [],
   "source": [
    "import sys\n",
    "import os\n",
    "import numpy as np\n",
    "import glob\n",
    "from tifffile import imread, imwrite\n",
    "from scipy.ndimage.morphology import binary_fill_holes\n",
    "from scipy.ndimage.measurements import find_objects\n",
    "from scipy.ndimage import maximum_filter, minimum_filter\n",
    "from skimage.morphology import remove_small_objects\n",
    "from skimage.measure import label\n",
    "import napari\n",
    "try:\n",
    "    from pathlib import Path\n",
    "    Path().expanduser()\n",
    "except (ImportError,AttributeError):\n",
    "    from pathlib2 import Path\n",
    "class Updater:\n",
    "    def __init__(self, viewer, segimage, Name):\n",
    "           \n",
    "             self.viewer = viewer\n",
    "             self.segimage = segimage\n",
    "             self.time  = int(self.viewer.dims.point[0])\n",
    "             self.viewer.dims.events.axis.connect(self.update_slider)\n",
    "    def update_slider(self, event):\n",
    "                  \n",
    "                          self.time = int(self.viewer.dims.point[0])\n",
    "                          labels = label(self.segimage[self.time,:])\n",
    "                          if labels.max() == 0:\n",
    "                               if self.time > 0:\n",
    "                                 self.segimage[self.time,:] = self.segimage[self.time - 1,:] \n"
   ]
  },
  {
   "cell_type": "code",
   "execution_count": 8,
   "metadata": {},
   "outputs": [],
   "source": [
    "Imagedir = '/Users/aimachine/Buds/'\n",
    "\n",
    "\n",
    "SegmentationDir = '/Users/aimachine/Buds/BlackMask/'\n",
    "\n",
    "Path(SegmentationDir).mkdir(exist_ok=True)\n"
   ]
  },
  {
   "cell_type": "code",
   "execution_count": null,
   "metadata": {},
   "outputs": [
    {
     "name": "stdout",
     "output_type": "stream",
     "text": [
      "/Users/aimachine/Buds/97E_mask_TRL_Images.tif\n"
     ]
    },
    {
     "name": "stderr",
     "output_type": "stream",
     "text": [
      "/Users/aimachine/miniconda3/envs/tensorflowEnv36/lib/python3.6/site-packages/napari/utils/events/event.py:694: FutureWarning: emitter axis is deprecated, current_step provided instead\n",
      "  category=FutureWarning,\n"
     ]
    }
   ],
   "source": [
    "Raw_path = os.path.join(Imagedir, '*tif')\n",
    "\n",
    "filesRaw = glob.glob(Raw_path)\n",
    "filesRaw.sort\n",
    "LayerName = 'Segmentation'\n",
    "for fname in filesRaw:\n",
    "            print(fname)\n",
    "            image = imread(fname)\n",
    "            Name = (os.path.basename(os.path.splitext(fname)[0]))\n",
    "            with napari.gui_qt():\n",
    "   \n",
    "             \n",
    "                viewer = napari.view_image(image, name='Raw')\n",
    "                Segimage = np.zeros_like(image) \n",
    "                \n",
    "                label_layer = viewer.add_labels(Segimage.astype('uint16'), name= LayerName) \n",
    "                update = Updater(viewer,viewer.layers[LayerName].data , Name)\n",
    "                \n",
    "            ModifiedArray = viewer.layers[LayerName].data \n",
    "            imwrite((SegmentationDir +   Name + '.tif' ) , (ModifiedArray.astype('uint16'))) "
   ]
  },
  {
   "cell_type": "code",
   "execution_count": null,
   "metadata": {},
   "outputs": [],
   "source": []
  },
  {
   "cell_type": "code",
   "execution_count": null,
   "metadata": {},
   "outputs": [],
   "source": []
  }
 ],
 "metadata": {
  "kernelspec": {
   "display_name": "Python [conda env:tensorflowEnv36]",
   "language": "python",
   "name": "conda-env-tensorflowEnv36-py"
  },
  "language_info": {
   "codemirror_mode": {
    "name": "ipython",
    "version": 3
   },
   "file_extension": ".py",
   "mimetype": "text/x-python",
   "name": "python",
   "nbconvert_exporter": "python",
   "pygments_lexer": "ipython3",
   "version": "3.6.9"
  }
 },
 "nbformat": 4,
 "nbformat_minor": 2
}
