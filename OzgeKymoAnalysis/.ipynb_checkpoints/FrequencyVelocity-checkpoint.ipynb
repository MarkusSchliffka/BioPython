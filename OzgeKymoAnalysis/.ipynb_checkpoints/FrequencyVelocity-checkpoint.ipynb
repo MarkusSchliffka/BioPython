{
 "cells": [
  {
   "cell_type": "code",
   "execution_count": null,
   "metadata": {},
   "outputs": [],
   "source": [
    "import sys\n",
    "sys.path.append(\"../\")\n",
    "import numpy as np\n",
    "import os\n",
    "import glob\n",
    "import cv2\n",
    "import csv\n",
    "from scipy.signal import find_peaks\n",
    "from utils import KymoMomentum, KymoTime, ErrorMeassgeCats\n",
    "import pandas as pd\n",
    "from tifffile import imread, imwrite\n",
    "import matplotlib.pyplot as plt\n",
    "from pathlib import Path\n"
   ]
  },
  {
   "cell_type": "code",
   "execution_count": null,
   "metadata": {},
   "outputs": [],
   "source": [
    "Kymo = '/home/kapoorlab/Downloads/Darine/Dpachys_10/DistanceMethodCurvature_Dpachys_controlTrackID1.tif'\n",
    "savedir = '/home/kapoorlab/Downloads/'\n",
    "try:\n",
    "  Path(savedir).mkdir(exist_ok = True)\n",
    "except :\n",
    "    raise ValueError(\"No\")\n",
    "Time_unit = 5\n",
    "Xcalibration = 0.212\n",
    "#Remove zero end of kymograph\n",
    "cutEnd = 300\n",
    "#This is what makes a peak a peak, the height of peaks around this main peak height threshold\n",
    "Heightthreshold = 0.005\n",
    "\n"
   ]
  },
  {
   "cell_type": "code",
   "execution_count": null,
   "metadata": {
    "scrolled": false
   },
   "outputs": [],
   "source": [
    "Kymoimage = imread(Kymo)\n",
    "Kymoimage = Kymoimage[:Kymoimage.shape[0]-cutEnd,:]\n",
    "Name = os.path.basename(os.path.splitext(Kymo)[0])\n",
    "peakKX = KymoMomentum(Kymoimage,Xcalibration,savedir, threshold = Heightthreshold)\n",
    "\n",
    "peakWT = KymoTime(Kymoimage, Time_unit,savedir, threshold = Heightthreshold)\n",
    "\n",
    "Velocity = 0\n",
    "if peakKX > 0:\n",
    " Velocity = peakWT/peakKX\n",
    "\n",
    "print(\"Estimated Velocity\", Velocity, 'um/s')\n",
    "\n",
    "df = pd.DataFrame([[Name,Velocity]],columns =['Experiment', 'Velocity'])\n",
    "df.to_csv(savedir + Name + 'Velocity' +  '.csv', index = False)  "
   ]
  },
  {
   "cell_type": "code",
   "execution_count": null,
   "metadata": {},
   "outputs": [],
   "source": []
  },
  {
   "cell_type": "code",
   "execution_count": null,
   "metadata": {},
   "outputs": [],
   "source": []
  }
 ],
 "metadata": {
  "kernelspec": {
   "display_name": "Python [conda env:NapariTrack]",
   "language": "python",
   "name": "conda-env-NapariTrack-py"
  },
  "language_info": {
   "codemirror_mode": {
    "name": "ipython",
    "version": 3
   },
   "file_extension": ".py",
   "mimetype": "text/x-python",
   "name": "python",
   "nbconvert_exporter": "python",
   "pygments_lexer": "ipython3",
   "version": "3.9.0"
  }
 },
 "nbformat": 4,
 "nbformat_minor": 2
}
