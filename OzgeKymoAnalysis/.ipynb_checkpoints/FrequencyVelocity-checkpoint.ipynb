{
 "cells": [
  {
   "cell_type": "code",
   "execution_count": 10,
   "metadata": {},
   "outputs": [],
   "source": [
    "from IPython.core.magic import register_cell_magic\n",
    "\n",
    "import sys\n",
    "sys.path.append(\"../\")\n",
    "import numpy as np\n",
    "import os\n",
    "import glob\n",
    "import cv2\n",
    "import csv\n",
    "from scipy.signal import find_peaks\n",
    "from utils import KymoMomentum, KymoTime, ErrorMeassgeCats\n",
    "import pandas as pd\n",
    "from tifffile import imread, imwrite\n",
    "import matplotlib.pyplot as plt\n",
    "from pathlib import Path\n",
    "@register_cell_magic('CatPlease')\n",
    "def handle(line, cell):\n",
    "    try:\n",
    "        exec(cell)\n",
    "    except:\n",
    "        ErrorMeassgeCats()\n"
   ]
  },
  {
   "cell_type": "code",
   "execution_count": 12,
   "metadata": {},
   "outputs": [
    {
     "name": "stderr",
     "output_type": "stream",
     "text": [
      "../utils.py:96: UserWarning: No parser was explicitly specified, so I'm using the best available HTML parser for this system (\"lxml\"). This usually isn't a problem, but if you run this code on another system, or in a different virtual environment, it may use a different parser and behave differently.\n",
      "\n",
      "The code that caused this warning is on line 96 of the file ../utils.py. To get rid of this warning, pass the additional argument 'features=\"lxml\"' to the BeautifulSoup constructor.\n",
      "\n",
      "  soup = BeautifulSoup(u.read())\n"
     ]
    },
    {
     "name": "stdout",
     "output_type": "stream",
     "text": [
      "https://res.cloudinary.com/twenty20/private_images/t_reshot-300/v1588713992/photosp/e5e78899-8385-4bfc-9279-603ced4141be/e5e78899-8385-4bfc-9279-603ced4141be.jpg\n",
      "You have an error in the code, enjoy looking at this picture and contact your ground control to major Tom\n"
     ]
    }
   ],
   "source": [
    "%%handle\n",
    "Kymo = '/home/kapoorlab/Downloads/Darine/Dpachys_10/DistanceMethodCurvature_Dpachys_controlTrackID1.tif'\n",
    "savedir = '/home/kapoorlab/Downloads/'\n",
    "Path(savedir).mkdir(exist_ok = True)\n",
    "\n",
    "Time_unit = 5\n",
    "Xcalibration = 0.212\n",
    "#Remove zero end of kymograph\n",
    "cutEnd = 300\n",
    "#This is what makes a peak a peak, the height of peaks around this main peak height threshold\n",
    "Heightthreshold = 0.005\n",
    "\n"
   ]
  },
  {
   "cell_type": "code",
   "execution_count": null,
   "metadata": {
    "scrolled": false
   },
   "outputs": [],
   "source": [
    "Kymoimage = imread(Kymo)\n",
    "Kymoimage = Kymoimage[:Kymoimage.shape[0]-cutEnd,:]\n",
    "Name = os.path.basename(os.path.splitext(Kymo)[0])\n",
    "peakKX = KymoMomentum(Kymoimage,Xcalibration,savedir, threshold = Heightthreshold)\n",
    "\n",
    "peakWT = KymoTime(Kymoimage, Time_unit,savedir, threshold = Heightthreshold)\n",
    "\n",
    "Velocity = 0\n",
    "if peakKX > 0:\n",
    " Velocity = peakWT/peakKX\n",
    "\n",
    "print(\"Estimated Velocity\", Velocity, 'um/s')\n",
    "\n",
    "df = pd.DataFrame([[Name,Velocity]],columns =['Experiment', 'Velocity'])\n",
    "df.to_csv(savedir + Name + 'Velocity' +  '.csv', index = False)  "
   ]
  },
  {
   "cell_type": "code",
   "execution_count": null,
   "metadata": {},
   "outputs": [],
   "source": []
  },
  {
   "cell_type": "code",
   "execution_count": null,
   "metadata": {},
   "outputs": [],
   "source": []
  }
 ],
 "metadata": {
  "kernelspec": {
   "display_name": "Python 3",
   "language": "python",
   "name": "python3"
  },
  "language_info": {
   "codemirror_mode": {
    "name": "ipython",
    "version": 3
   },
   "file_extension": ".py",
   "mimetype": "text/x-python",
   "name": "python",
   "nbconvert_exporter": "python",
   "pygments_lexer": "ipython3",
   "version": "3.7.4"
  }
 },
 "nbformat": 4,
 "nbformat_minor": 2
}
