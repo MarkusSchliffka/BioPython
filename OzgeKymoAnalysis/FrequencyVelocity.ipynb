{
 "cells": [
  {
   "cell_type": "code",
   "execution_count": null,
   "metadata": {},
   "outputs": [],
   "source": [
    "import sys\n",
    "sys.path.append(\"../\")\n",
    "import numpy as np\n",
    "import os\n",
    "import glob\n",
    "import cv2\n",
    "import csv\n",
    "from scipy.signal import find_peaks\n",
    "from utils import KymoMomentum, KymoTime\n",
    "import pandas as pd\n",
    "from tifffile import imread, imwrite\n",
    "import matplotlib.pyplot as plt\n",
    "try:\n",
    "    from pathlib import Path\n",
    "    Path().expanduser()\n",
    "except (ImportError, AttributeError):\n",
    "        from pathlib2 import Path\n",
    "\n",
    "try:\n",
    "        import tempfile\n",
    "        tempfile.TemporaryDirectory\n",
    "except (ImportError, AttributeError):\n",
    "       from backports import tempfile"
   ]
  },
  {
   "cell_type": "code",
   "execution_count": null,
   "metadata": {},
   "outputs": [],
   "source": [
    "Kymo = '/Users/aimachine/Curvature_C2-20180824_HVJEfusion_8x16_R64umTrackID1.tif'\n",
    "savedir = '/Users/aimachine/Downloads/'\n",
    "Time_unit = 10\n",
    "Xcalibration = 0.034\n",
    "\n",
    "Path(savedir).mkdir(exist_ok = True)\n"
   ]
  },
  {
   "cell_type": "code",
   "execution_count": null,
   "metadata": {
    "scrolled": false
   },
   "outputs": [],
   "source": [
    "Kymoimage = imread(Kymo)\n",
    "\n",
    "Name = os.path.basename(os.path.splitext(Kymo)[0])\n",
    "peakKX = KymoMomentum(Kymoimage,Xcalibration, threshold = Heightthreshold)\n",
    "\n",
    "peakWT = KymoTime(Kymoimage, Time_unit, threshold = Heightthreshold)\n",
    "\n",
    "Velocity = 0\n",
    "if peakKX > 0:\n",
    " Velocity = peakWT/peakKX\n",
    "\n",
    "print(\"Estimated Velocity\", Velocity, 'um/s')\n",
    "\n",
    "df = pd.DataFrame([[Name,Velocity]],columns =['Experiment', 'Velocity'])\n",
    "df.to_csv(savedir + Name + 'Velocity' +  '.csv', index = False)  "
   ]
  },
  {
   "cell_type": "code",
   "execution_count": null,
   "metadata": {},
   "outputs": [],
   "source": []
  },
  {
   "cell_type": "code",
   "execution_count": null,
   "metadata": {},
   "outputs": [],
   "source": []
  }
 ],
 "metadata": {
  "kernelspec": {
   "display_name": "Python 3",
   "language": "python",
   "name": "python3"
  },
  "language_info": {
   "codemirror_mode": {
    "name": "ipython",
    "version": 3
   },
   "file_extension": ".py",
   "mimetype": "text/x-python",
   "name": "python",
   "nbconvert_exporter": "python",
   "pygments_lexer": "ipython3",
   "version": "3.8.5"
  }
 },
 "nbformat": 4,
 "nbformat_minor": 2
}
