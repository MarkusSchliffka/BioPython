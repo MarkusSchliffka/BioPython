{
 "cells": [
  {
   "cell_type": "code",
   "execution_count": 1,
   "metadata": {},
   "outputs": [],
   "source": [
    "import pandas as pd\n",
    "import napari\n",
    "import glob\n",
    "import numpy as np\n",
    "from tifffile import imread"
   ]
  },
  {
   "cell_type": "code",
   "execution_count": 2,
   "metadata": {},
   "outputs": [],
   "source": [
    "sourceimage = '/Users/aimachine/Documents/VicData/Movie3.tif'\n",
    "Apoptosiscsv_file = '/Users/aimachine/Downloads/PredictionMultiModelCSVResults/ApoptosisLocationMovie3.csv'\n"
   ]
  },
  {
   "cell_type": "code",
   "execution_count": 4,
   "metadata": {},
   "outputs": [],
   "source": [
    "Raw =  imread(sourceimage)\n",
    "\n",
    "time, sx, sy, dx, dy, prob =   np.loadtxt(Apoptosiscsv_file, delimiter = ',', skiprows = 1, unpack = True)\n",
    "\n",
    "dfevent = pd.DataFrame(list(zip(time,sx,sy,dx,dy,prob)), columns =['Time', 'SX', 'SY', 'DX', 'DY', 'Prob'])\n",
    "\n",
    "cutoff = 0.99999\n",
    "StaticEventlist = []\n",
    "DynamicEventlist = []\n",
    "for i in range(0,len(dfevent['Prob'])):\n",
    "   if dfevent['Prob'][i] > cutoff: \n",
    "     StaticEventlist.append([dfevent['Time'][i],dfevent['SY'][i],dfevent['SX'][i]])\n",
    "     DynamicEventlist.append([dfevent['Time'][i],dfevent['DY'][i],dfevent['DX'][i]])\n",
    "    \n",
    "with napari.gui_qt():\n",
    "\n",
    "        viewer = napari.view_image(Raw, name = 'Image')\n",
    "        if len(StaticEventlist) > 0:\n",
    "         layerStatic = viewer.add_points(\n",
    "         np.asarray(StaticEventlist),\n",
    "         size= 4 , edge_color='green',\n",
    "         face_color='green')\n",
    "        if len(DynamicEventlist)>0:\n",
    "         layerDynamic = viewer.add_points(\n",
    "         np.asarray(DynamicEventlist),\n",
    "         size= 4 , edge_color='red',\n",
    "         face_color='red')\n",
    "        \n",
    "         "
   ]
  },
  {
   "cell_type": "code",
   "execution_count": null,
   "metadata": {},
   "outputs": [],
   "source": []
  },
  {
   "cell_type": "code",
   "execution_count": null,
   "metadata": {},
   "outputs": [],
   "source": []
  }
 ],
 "metadata": {
  "kernelspec": {
   "display_name": "tensorflowEnv36",
   "language": "python",
   "name": "myenv"
  },
  "language_info": {
   "codemirror_mode": {
    "name": "ipython",
    "version": 3
   },
   "file_extension": ".py",
   "mimetype": "text/x-python",
   "name": "python",
   "nbconvert_exporter": "python",
   "pygments_lexer": "ipython3",
   "version": "3.6.9"
  }
 },
 "nbformat": 4,
 "nbformat_minor": 2
}
