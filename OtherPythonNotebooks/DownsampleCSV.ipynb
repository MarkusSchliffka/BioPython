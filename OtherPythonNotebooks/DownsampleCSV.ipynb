{
 "cells": [
  {
   "cell_type": "code",
   "execution_count": 15,
   "metadata": {},
   "outputs": [],
   "source": [
    "import os\n",
    "from pathlib import Path\n",
    "import pandas as pd\n",
    "import csv\n",
    "import glob"
   ]
  },
  {
   "cell_type": "code",
   "execution_count": 33,
   "metadata": {},
   "outputs": [
    {
     "name": "stdout",
     "output_type": "stream",
     "text": [
      "/home/sancere/Kepler/FinalONEATTraining/Bin2ONeatCSV/Test\n",
      "ONEATFlo_pupe1_s1_s2_s3_s4_movNormal.csv\r\n"
     ]
    }
   ],
   "source": [
    "CSVDir = '/home/sancere/Kepler/FinalONEATTraining/Bin2ONeatCSV/Test'\n",
    "Csv_path = os.path.join(CSVDir, '*csv')\n",
    "%cd '/home/sancere/Kepler/FinalONEATTraining/Bin2ONeatCSV/Test'\n",
    "!ls"
   ]
  },
  {
   "cell_type": "code",
   "execution_count": 41,
   "metadata": {},
   "outputs": [
    {
     "name": "stdout",
     "output_type": "stream",
     "text": [
      "/home/sancere/Kepler/FinalONEATTraining/Bin2ONeatCSV/Test/ONEATFlo_pupe1_s1_s2_s3_s4_movNormal.csv\n",
      "1 371 209 2\n",
      "129 346 1187 2\n",
      "131 226 1788 2\n",
      "131 227 1817 2\n",
      "131 363 1841 2\n",
      "132 363 1841 2\n",
      "133 346 1198 2\n",
      "71 446 1346 2\n",
      "141 347 1282 2\n",
      "141 291 1293 2\n",
      "142 427 1344 2\n",
      "142 332 1215 2\n",
      "142 441 1366 2\n",
      "79 376 378 2\n",
      "143 216 1471 2\n",
      "144 307 554 2\n",
      "80 364 1784 2\n",
      "17 377 223 2\n",
      "145 214 1755 2\n",
      "82 439 1365 2\n",
      "146 439 1295 2\n",
      "84 402 386 2\n",
      "149 425 562 2\n",
      "149 376 1732 2\n",
      "90 411 386 2\n",
      "154 355 1872 2\n",
      "154 288 1311 2\n",
      "156 216 1874 2\n",
      "157 437 1333 2\n",
      "157 327 1887 2\n",
      "158 211 1476 2\n",
      "31 378 259 2\n",
      "96 413 386 2\n",
      "162 342 1087 2\n",
      "99 432 1371 2\n",
      "163 395 1821 2\n",
      "163 375 1828 2\n",
      "163 360 1840 2\n",
      "163 208 1798 2\n",
      "165 334 1882 2\n",
      "165 370 1770 2\n",
      "39 376 259 2\n",
      "169 366 1886 2\n",
      "106 335 1155 2\n",
      "107 354 1109 2\n",
      "174 379 1868 2\n",
      "174 354 1838 2\n",
      "112 330 1036 2\n",
      "112 351 1238 2\n",
      "49 376 259 2\n",
      "115 228 1696 2\n",
      "119 348 1824 2\n",
      "119 220 1399 2\n",
      "120 231 1785 2\n",
      "120 231 1758 2\n",
      "121 411 1370 2\n",
      "121 365 1139 2\n",
      "122 438 1445 2\n",
      "122 455 1450 2\n",
      "125 335 1193 2\n",
      "125 348 1188 2\n",
      "125 444 1338 2\n"
     ]
    }
   ],
   "source": [
    "Header = [\"T\",\"Y\",\"X\",\"Angle\"]\n",
    "writer.writerow(Header)\n",
    "filesCsv = glob.glob(Csv_path)\n",
    "filesCsv.sort\n",
    "for csvfname in filesCsv:\n",
    "     print(csvfname)\n",
    "     CsvName =  os.path.basename(os.path.splitext(csvfname)[0])\n",
    "    \n",
    "     writer = csv.writer(open(CSVDir + '/Test' + '/' + CsvName + \".csv\", \"a\"))   \n",
    "     dataset = pd.read_csv(csvfname)\n",
    "     time = dataset[dataset.keys()[0]][1:]\n",
    "     y = dataset[dataset.keys()[1]][1:]//2\n",
    "     x = dataset[dataset.keys()[2]][1:]//2\n",
    "     angle = dataset[dataset.keys()[3]][1:]\n",
    "     \n",
    "     for t in range(1,len(time)):\n",
    "         print(time[t],y[t],x[t],angle[t])   \n",
    "         writer.writerow([time[t],y[t],x[t],angle[t]])"
   ]
  },
  {
   "cell_type": "code",
   "execution_count": null,
   "metadata": {},
   "outputs": [],
   "source": []
  }
 ],
 "metadata": {
  "kernelspec": {
   "display_name": "Python 3 (ipykernel)",
   "language": "python",
   "name": "python3"
  },
  "language_info": {
   "codemirror_mode": {
    "name": "ipython",
    "version": 3
   },
   "file_extension": ".py",
   "mimetype": "text/x-python",
   "name": "python",
   "nbconvert_exporter": "python",
   "pygments_lexer": "ipython3",
   "version": "3.9.0"
  }
 },
 "nbformat": 4,
 "nbformat_minor": 2
}
