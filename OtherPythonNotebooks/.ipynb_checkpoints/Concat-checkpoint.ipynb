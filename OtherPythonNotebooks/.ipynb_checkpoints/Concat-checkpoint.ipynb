{
 "cells": [
  {
   "cell_type": "code",
   "execution_count": 12,
   "metadata": {},
   "outputs": [],
   "source": [
    "import os\n",
    "import glob\n",
    "from natsort import natsorted\n",
    "from tiffile import imread, imwrite\n",
    "import numpy as np\n",
    "from pathlib import Path\n"
   ]
  },
  {
   "cell_type": "code",
   "execution_count": 52,
   "metadata": {},
   "outputs": [],
   "source": [
    "smallimageDIR = '/home/kapoorlab/BudRawConcat/SmallMaxBudtif/'\n",
    "bigimageDIR = '/home/kapoorlab/BudRawConcat/MaxBudtif/'\n",
    "savedir = '/home/kapoorlab/BudRawConcat/'"
   ]
  },
  {
   "cell_type": "code",
   "execution_count": 53,
   "metadata": {},
   "outputs": [
    {
     "name": "stdout",
     "output_type": "stream",
     "text": [
      "Small Image number 31\n",
      "Big Image number 17\n"
     ]
    }
   ],
   "source": [
    "Raw_path = os.path.join(smallimageDIR, '*tif')\n",
    "\n",
    "filesRaw = glob.glob(Raw_path)\n",
    "filesRaw = natsorted(filesRaw)\n",
    "\n",
    "SmallTimeImage = []\n",
    "for fname in filesRaw:\n",
    "    \n",
    "    image = imread(fname)\n",
    "    resizeimage = np.zeros([1900, 1450])\n",
    "    resizeimage[0:image.shape[0], 0:image.shape[1]] = image\n",
    "    SmallTimeImage.append(resizeimage)\n",
    "\n",
    "print('Small Image number',len(SmallTimeImage))        \n",
    "Raw_path = os.path.join(bigimageDIR, '*tif')\n",
    "\n",
    "filesRaw = glob.glob(Raw_path)\n",
    "filesRaw = natsorted(filesRaw)\n",
    "\n",
    "BigTimeImage = []\n",
    "for fname in filesRaw:\n",
    "    image = imread(fname)\n",
    "    resizeimage = np.zeros([1900,1900])\n",
    "    resizeimage[0:image.shape[0], 0:image.shape[1]] = image\n",
    "    BigTimeImage.append(resizeimage)\n",
    "    \n",
    "print('Big Image number',len(BigTimeImage))    "
   ]
  },
  {
   "cell_type": "code",
   "execution_count": 54,
   "metadata": {},
   "outputs": [
    {
     "name": "stdout",
     "output_type": "stream",
     "text": [
      "(31, 1900, 1450) (17, 1900, 1900)\n"
     ]
    }
   ],
   "source": [
    "startX = 370\n",
    "smallimage = np.asarray(SmallTimeImage)\n",
    "bigimage = np.asarray(BigTimeImage)\n",
    "print(smallimage.shape, bigimage.shape)\n",
    "smalltime = smallimage.shape[0]\n",
    "bigtime = bigimage.shape[0]\n",
    "\n",
    "emptyimage = np.zeros([bigtime + smalltime, bigimage.shape[1], bigimage.shape[2]])\n",
    "\n",
    "for i in range(0, smalltime):\n",
    "    \n",
    "    emptyimage[i,:, startX:startX + smallimage.shape[2]] = smallimage[i,:]\n",
    "    \n",
    "for i in range(smalltime, bigtime + smalltime):\n",
    "    emptyimage[i, :] = bigimage[i - smalltime,:]\n"
   ]
  },
  {
   "cell_type": "code",
   "execution_count": 55,
   "metadata": {},
   "outputs": [],
   "source": [
    "imwrite((savedir + '/'+ 'Concat' + '.tif'), emptyimage.astype('float32'))"
   ]
  },
  {
   "cell_type": "code",
   "execution_count": null,
   "metadata": {},
   "outputs": [],
   "source": []
  },
  {
   "cell_type": "code",
   "execution_count": null,
   "metadata": {},
   "outputs": [],
   "source": []
  }
 ],
 "metadata": {
  "kernelspec": {
   "display_name": "Python 3",
   "language": "python",
   "name": "python3"
  },
  "language_info": {
   "codemirror_mode": {
    "name": "ipython",
    "version": 3
   },
   "file_extension": ".py",
   "mimetype": "text/x-python",
   "name": "python",
   "nbconvert_exporter": "python",
   "pygments_lexer": "ipython3",
   "version": "3.8.3"
  }
 },
 "nbformat": 4,
 "nbformat_minor": 2
}
