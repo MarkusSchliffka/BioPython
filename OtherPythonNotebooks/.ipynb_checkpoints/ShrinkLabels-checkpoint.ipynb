{
 "cells": [
  {
   "cell_type": "code",
   "execution_count": null,
   "metadata": {},
   "outputs": [],
   "source": [
    "from tifffile import imread, imwrite\n",
    "import os\n",
    "import glob\n",
    "from tqdm import tqdm\n",
    "from tifffile import imread\n",
    "import matplotlib.pyplot as plt\n",
    "from pathlib import Path\n",
    "from scipy.ndimage.morphology import binary_erosion\n",
    "import numpy as np\n",
    "from scipy import ndimage\n",
    "from skimage.measure import label, regionprops"
   ]
  },
  {
   "cell_type": "code",
   "execution_count": null,
   "metadata": {},
   "outputs": [],
   "source": [
    "def erode_labels(segmentation, erosion_iterations):\n",
    "    # create empty list where the eroded masks can be saved to\n",
    "    list_of_eroded_masks = list()\n",
    "    regions = regionprops(segmentation)\n",
    "    def erode_mask(segmentation_labels, label_id, erosion_iterations):\n",
    "        \n",
    "        only_current_label_id = np.where(segmentation_labels == label_id, 1, 0)\n",
    "        eroded = ndimage.binary_erosion(only_current_label_id, iterations = erosion_iterations)\n",
    "        relabeled_eroded = np.where(eroded == 1, label_id, 0)\n",
    "        return(relabeled_eroded)\n",
    "\n",
    "    for i in range(len(regions)):\n",
    "        label_id = regions[i].label\n",
    "        list_of_eroded_masks.append(erode_mask(segmentation, i, erosion_iterations))\n",
    "\n",
    "    # convert list of numpy arrays to stacked numpy array\n",
    "    final_array_labelled = np.stack(list_of_eroded_masks)\n",
    "\n",
    "    # max_IP to reduce the stack of arrays, each containing one labelled region, to a single 2D np array. \n",
    "    final_array_labelled = np.sum(final_array, axis = 0)\n",
    "    return(final_array_labelled)"
   ]
  },
  {
   "cell_type": "code",
   "execution_count": null,
   "metadata": {},
   "outputs": [],
   "source": [
    "sourcedir = '/home/sancere/Kepler/CurieTrainingDatasets/LightSheetTraining/RealMask/'\n",
    "resultsdir = '/home/sancere/Kepler/CurieTrainingDatasets/LightSheetTraining/ErodeBinaryMask/'\n",
    "Path(resultsdir).mkdir(exist_ok = True)\n",
    "Raw_path = os.path.join(sourcedir, '*tif')\n",
    "X = glob.glob(Raw_path)\n",
    "erosion_iterations = 2\n",
    "for fname in X:\n",
    "\n",
    "    Image = imread(fname)\n",
    "    Name = os.path.basename(os.path.splitext(fname)[0])\n",
    "    ErodedImage =  erode_labels(Image, erosion_iterations)\n",
    "    ErodedImage = ErodedImage > 0\n",
    "    imwrite((resultsdir + Name + '.tif') , ErodedImage.astype('uint16'))"
   ]
  },
  {
   "cell_type": "code",
   "execution_count": null,
   "metadata": {},
   "outputs": [],
   "source": []
  }
 ],
 "metadata": {
  "kernelspec": {
   "display_name": "Python 3",
   "language": "python",
   "name": "python3"
  },
  "language_info": {
   "codemirror_mode": {
    "name": "ipython",
    "version": 3
   },
   "file_extension": ".py",
   "mimetype": "text/x-python",
   "name": "python",
   "nbconvert_exporter": "python",
   "pygments_lexer": "ipython3",
   "version": "3.7.0"
  }
 },
 "nbformat": 4,
 "nbformat_minor": 2
}
