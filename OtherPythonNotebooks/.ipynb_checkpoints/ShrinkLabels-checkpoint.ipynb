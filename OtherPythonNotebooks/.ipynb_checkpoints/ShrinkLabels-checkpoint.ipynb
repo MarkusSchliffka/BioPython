{
 "cells": [
  {
   "cell_type": "code",
   "execution_count": 1,
   "metadata": {},
   "outputs": [],
   "source": [
    "from tifffile import imread, imwrite\n",
    "import os\n",
    "import glob\n",
    "from tqdm import tqdm\n",
    "from tifffile import imread\n",
    "import matplotlib.pyplot as plt\n",
    "from pathlib import Path\n",
    "from scipy.ndimage.morphology import binary_erosion\n",
    "import numpy as np\n",
    "from scipy import ndimage\n",
    "from skimage.measure import label, regionprops"
   ]
  },
  {
   "cell_type": "code",
   "execution_count": 2,
   "metadata": {},
   "outputs": [],
   "source": [
    "def erode_labels(segmentation, erosion_iterations):\n",
    "    # create empty list where the eroded masks can be saved to\n",
    "    list_of_eroded_masks = list()\n",
    "    regions = regionprops(segmentation)\n",
    "    erode = np.zeros(segmentation.shape)\n",
    "    def erode_mask(segmentation_labels, label_id, erosion_iterations):\n",
    "        \n",
    "        only_current_label_id = np.where(segmentation_labels == label_id, 1, 0)\n",
    "        eroded = ndimage.binary_erosion(only_current_label_id, iterations = erosion_iterations)\n",
    "        relabeled_eroded = np.where(eroded == 1, label_id, 0)\n",
    "        return(relabeled_eroded)\n",
    "\n",
    "    for i in range(len(regions)):\n",
    "        label_id = regions[i].label\n",
    "        erode = erode + erode_mask(segmentation, label_id, erosion_iterations)\n",
    "\n",
    "    # convert list of numpy arrays to stacked numpy array\n",
    "    return erode"
   ]
  },
  {
   "cell_type": "code",
   "execution_count": null,
   "metadata": {},
   "outputs": [],
   "source": [
    "sourcedir = '/Users/aimachine/sample_segmented_data/Orignal_and_Ground_truth/RealMask/'\n",
    "resultsdir = '/Users/aimachine/sample_segmented_data/Orignal_and_Ground_truth/BinaryMask/'\n",
    "Path(resultsdir).mkdir(exist_ok = True)\n",
    "Raw_path = os.path.join(sourcedir, '*tif')\n",
    "X = glob.glob(Raw_path)\n",
    "erosion_iterations = 2\n",
    "for fname in X:\n",
    "\n",
    "    Image = imread(fname)\n",
    "    Name = os.path.basename(os.path.splitext(fname)[0])\n",
    "    ErodedImage =  erode_labels(Image, erosion_iterations)\n",
    "    ErodedImage = ErodedImage > 0\n",
    "    imwrite((resultsdir + Name + '.tif') , ErodedImage.astype('uint16'))"
   ]
  },
  {
   "cell_type": "code",
   "execution_count": null,
   "metadata": {},
   "outputs": [],
   "source": []
  }
 ],
 "metadata": {
  "kernelspec": {
   "display_name": "Python [conda env:tensorflowGPU]",
   "language": "python",
   "name": "conda-env-tensorflowGPU-py"
  },
  "language_info": {
   "codemirror_mode": {
    "name": "ipython",
    "version": 3
   },
   "file_extension": ".py",
   "mimetype": "text/x-python",
   "name": "python",
   "nbconvert_exporter": "python",
   "pygments_lexer": "ipython3",
   "version": "3.8.5"
  }
 },
 "nbformat": 4,
 "nbformat_minor": 2
}
