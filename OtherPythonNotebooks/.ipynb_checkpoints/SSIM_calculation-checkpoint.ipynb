{
 "cells": [
  {
   "cell_type": "code",
   "execution_count": 2,
   "id": "0aef74e3",
   "metadata": {},
   "outputs": [],
   "source": [
    "\n",
    "from tifffile import imread \n",
    "from skimage.metrics import structural_similarity as ssim"
   ]
  },
  {
   "cell_type": "code",
   "execution_count": 6,
   "id": "2ad3b765",
   "metadata": {},
   "outputs": [
    {
     "name": "stdout",
     "output_type": "stream",
     "text": [
      "For model prediction A, the similarity between the images is:  0.9580488946961191\n",
      "For model prediction B, the similarity between the images is:  0.9580488970212679\n",
      "For model prediction C, the similarity between the images is:  0.9576112670068625\n"
     ]
    }
   ],
   "source": [
    "PredictionA = imread('/home/sancere/Kepler/ClaudiaTracking/Mari/training/quality_control/input/d4f32prediction/d4f32care3d_c2_8.tif')\n",
    "PredictionB = imread('/home/sancere/Kepler/ClaudiaTracking/Mari/training/quality_control/input/d4f48prediction/d4f48care3d_c2_8.tif')\n",
    "PredictionC = imread('/home/sancere/Kepler/ClaudiaTracking/Mari/training/quality_control/input/Mari_model_prediction/mari_modelcare3d_c2_8.tif')\n",
    "\n",
    "Control = imread('/home/sancere/Kepler/ClaudiaTracking/Mari/training/quality_control/output/care3d_c2_8.tif')\n",
    "\n",
    "\n",
    "\n",
    "\n",
    "\n",
    "Structural_SimilarityA = ssim(PredictionA, Control, data_range = PredictionA.max() - PredictionA.min())\n",
    "print('For model prediction A, the similarity between the images is: ', Structural_SimilarityA )\n",
    "\n",
    "Structural_SimilarityB = ssim(PredictionB, Control, data_range = PredictionB.max() - PredictionB.min())\n",
    "print('For model prediction B, the similarity between the images is: ', Structural_SimilarityB )\n",
    "\n",
    "Structural_SimilarityC = ssim(PredictionC, Control, data_range = PredictionC.max() - PredictionC.min())\n",
    "print('For model prediction C, the similarity between the images is: ', Structural_SimilarityC )\n",
    "\n"
   ]
  },
  {
   "cell_type": "code",
   "execution_count": null,
   "id": "83d9c8fc",
   "metadata": {},
   "outputs": [],
   "source": []
  }
 ],
 "metadata": {
  "kernelspec": {
   "display_name": "Python 3",
   "language": "python",
   "name": "python3"
  },
  "language_info": {
   "codemirror_mode": {
    "name": "ipython",
    "version": 3
   },
   "file_extension": ".py",
   "mimetype": "text/x-python",
   "name": "python",
   "nbconvert_exporter": "python",
   "pygments_lexer": "ipython3",
   "version": "3.8.8"
  }
 },
 "nbformat": 4,
 "nbformat_minor": 5
}
