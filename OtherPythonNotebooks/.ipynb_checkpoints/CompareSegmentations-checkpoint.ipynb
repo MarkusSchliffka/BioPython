{
 "cells": [
  {
   "cell_type": "markdown",
   "metadata": {
    "id": "_SbD44i4lkzB"
   },
   "source": [
    "# In this notebook we use napari to compare Segmentations on 3D\n",
    "\n",
    "(Same file names in all the folders)"
   ]
  },
  {
   "cell_type": "code",
   "execution_count": 44,
   "metadata": {
    "id": "EEUraEJ4lkzC"
   },
   "outputs": [],
   "source": [
    "import sys\n",
    "import os\n",
    "\n",
    "import numpy as np\n",
    "\n",
    "import glob\n",
    "from natsort import natsorted\n",
    "from tifffile import imread, imwrite\n",
    "from scipy.ndimage.morphology import binary_fill_holes\n",
    "from scipy.ndimage.measurements import find_objects\n",
    "from scipy.ndimage import maximum_filter, minimum_filter\n",
    "from skimage.morphology import remove_small_objects\n",
    "import napari\n",
    "from pathlib import Path\n",
    "\n",
    "%gui qt"
   ]
  },
  {
   "cell_type": "code",
   "execution_count": 49,
   "metadata": {
    "id": "pDTPKsT0lkzD"
   },
   "outputs": [],
   "source": [
    "Imagedir = '/Users/aimachine/Results/Denoised/'\n",
    "\n",
    "SegmentationDirA = '/Users/aimachine/Results/SmartSeedsMask/'\n",
    "\n",
    "SegmentationDirB = '/Users/aimachine/sample_segmented_data/Orignal_and_Ground_truth/Test/GT/'\n",
    "\n",
    "scalez = 2\n",
    "scalex = 1\n",
    "scaley = 1"
   ]
  },
  {
   "cell_type": "code",
   "execution_count": 50,
   "metadata": {
    "id": "zq_kK058lkzD",
    "outputId": "77f81b05-1a8c-4c25-d2cf-96ed3f418bb3"
   },
   "outputs": [
    {
     "name": "stdout",
     "output_type": "stream",
     "text": [
      "test\n"
     ]
    },
    {
     "name": "stderr",
     "output_type": "stream",
     "text": [
      "/Users/aimachine/opt/anaconda3/envs/testenv/lib/python3.9/site-packages/napari/_vispy/vispy_camera.py:109: RuntimeWarning: divide by zero encountered in true_divide\n",
      "  zoom = np.min(canvas_size / scale)\n"
     ]
    }
   ],
   "source": [
    "Raw_path = os.path.join(Imagedir, '*tif')\n",
    "\n",
    "Seg_pathA = os.path.join(SegmentationDirA, '*tif')\n",
    "\n",
    "Seg_pathB = os.path.join(SegmentationDirB, '*tif')\n",
    "\n",
    "filesRaw = glob.glob(Raw_path)\n",
    "\n",
    "filesSegA = glob.glob(Seg_pathA)\n",
    "\n",
    "filesSegB = glob.glob(Seg_pathB)\n",
    "\n",
    "RawImages = []\n",
    "SegAImages = []\n",
    "SegBImages = []\n",
    "for fname in filesRaw:\n",
    "  for secondname in filesSegA:\n",
    "          for thirdname in filesSegB:      \n",
    "                \n",
    "                 Name = os.path.basename(os.path.splitext(fname)[0])\n",
    "                 SegAName = os.path.basename(os.path.splitext(secondname)[0])\n",
    "                 SegBName = os.path.basename(os.path.splitext(thirdname)[0])\n",
    "                 if Name == SegAName and Name == SegBName:\n",
    "                        \n",
    "                        image = imread(fname)\n",
    "                        SegAimage = imread(secondname)\n",
    "                        SegBimage = imread(thirdname)\n",
    "                        RawImages.append(image)\n",
    "                        SegAImages.append(SegAimage)\n",
    "                        SegBImages.append(SegBimage)\n",
    "                        print(Name)\n",
    "RawImages = np.asarray(RawImages)\n",
    "SegAImages = np.asarray(SegAImages)\n",
    "SegBImages = np.asarray(SegBImages)\n",
    " \n",
    "\n",
    "\n",
    "\n",
    "viewer = napari.view_image(RawImages, name='Raw', scale = [1, scalez, scaley, scalex])\n",
    "\n",
    "label_layerA = viewer.add_labels(SegAImages, name= 'VollSeg', scale = [1, scalez, scaley, scalex]) \n",
    "\n",
    "label_layerB = viewer.add_labels(SegBImages, name= 'GT', scale = [1, scalez, scaley, scalex]) "
   ]
  },
  {
   "cell_type": "code",
   "execution_count": null,
   "metadata": {
    "id": "-JbmYFo1lkzE"
   },
   "outputs": [],
   "source": []
  },
  {
   "cell_type": "code",
   "execution_count": null,
   "metadata": {
    "id": "wNknIldxlkzE"
   },
   "outputs": [],
   "source": []
  }
 ],
 "metadata": {
  "colab": {
   "collapsed_sections": [],
   "name": "CompareGreenCells.ipynb",
   "provenance": []
  },
  "kernelspec": {
   "display_name": "Python [conda env:testenv]",
   "language": "python",
   "name": "conda-env-testenv-py"
  },
  "language_info": {
   "codemirror_mode": {
    "name": "ipython",
    "version": 3
   },
   "file_extension": ".py",
   "mimetype": "text/x-python",
   "name": "python",
   "nbconvert_exporter": "python",
   "pygments_lexer": "ipython3",
   "version": "3.9.0"
  }
 },
 "nbformat": 4,
 "nbformat_minor": 1
}
