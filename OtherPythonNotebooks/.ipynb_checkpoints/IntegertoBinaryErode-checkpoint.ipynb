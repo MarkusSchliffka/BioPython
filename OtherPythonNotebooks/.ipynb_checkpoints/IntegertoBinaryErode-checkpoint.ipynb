{
 "cells": [
  {
   "cell_type": "code",
   "execution_count": 9,
   "metadata": {},
   "outputs": [],
   "source": [
    "import numpy as np\n",
    "import os\n",
    "import glob\n",
    "from tifffile import imread\n",
    "import matplotlib.pyplot as plt\n",
    "from pathlib import Path\n",
    "from skimage.measure import label, regionprops\n",
    "from scipy.ndimage.morphology import binary_erosion"
   ]
  },
  {
   "cell_type": "code",
   "execution_count": 10,
   "metadata": {},
   "outputs": [
    {
     "ename": "ValueError",
     "evalue": "operands could not be broadcast together with shapes (770,459,470) (770,459) ",
     "output_type": "error",
     "traceback": [
      "\u001b[0;31m---------------------------------------------------------------------------\u001b[0m",
      "\u001b[0;31mValueError\u001b[0m                                Traceback (most recent call last)",
      "\u001b[0;32m<ipython-input-10-7b6d40775aae>\u001b[0m in \u001b[0;36m<module>\u001b[0;34m\u001b[0m\n\u001b[1;32m     18\u001b[0m         \u001b[0mCopyImage\u001b[0m\u001b[0;34m[\u001b[0m\u001b[0mCopyImage\u001b[0m \u001b[0;34m==\u001b[0m \u001b[0mlabel\u001b[0m\u001b[0;34m]\u001b[0m \u001b[0;34m=\u001b[0m \u001b[0;36m1\u001b[0m\u001b[0;34m\u001b[0m\u001b[0;34m\u001b[0m\u001b[0m\n\u001b[1;32m     19\u001b[0m         \u001b[0merodedimage\u001b[0m \u001b[0;34m=\u001b[0m \u001b[0mbinary_erosion\u001b[0m\u001b[0;34m(\u001b[0m\u001b[0mCopyImage\u001b[0m\u001b[0;34m)\u001b[0m\u001b[0;34m\u001b[0m\u001b[0;34m\u001b[0m\u001b[0m\n\u001b[0;32m---> 20\u001b[0;31m         \u001b[0mBinaryImage\u001b[0m \u001b[0;34m=\u001b[0m \u001b[0merodedimage\u001b[0m \u001b[0;34m+\u001b[0m \u001b[0mBinaryImage\u001b[0m\u001b[0;34m\u001b[0m\u001b[0;34m\u001b[0m\u001b[0m\n\u001b[0m\u001b[1;32m     21\u001b[0m         \u001b[0mCopyImage\u001b[0m \u001b[0;34m=\u001b[0m \u001b[0mImage\u001b[0m\u001b[0;34m\u001b[0m\u001b[0;34m\u001b[0m\u001b[0m\n\u001b[1;32m     22\u001b[0m \u001b[0;34m\u001b[0m\u001b[0m\n",
      "\u001b[0;31mValueError\u001b[0m: operands could not be broadcast together with shapes (770,459,470) (770,459) "
     ]
    }
   ],
   "source": [
    "sourcedir = '/home/sancere/Kepler/CurieTrainingDatasets/LightSheetTraining/RealMask/'\n",
    "resultsdir = '/home/sancere/Kepler/CurieTrainingDatasets/LightSheetTraining/BetterBinaryMask/'\n",
    "Path(resultsdir).mkdir(exist_ok = True)\n",
    "Raw_path = os.path.join(sourcedir, '*tif')\n",
    "X = glob.glob(Raw_path)\n",
    "for fname in X:\n",
    "\n",
    "    Image = imread(fname)\n",
    "    Name = os.path.basename(os.path.splitext(fname)[0])\n",
    "    Image = Image.astype('uint16')\n",
    "    CopyImage = Image\n",
    "    BinaryImage = np.zeros([Image.shape[0], Image.shape[1],Image.shape[2]])\n",
    "    props = regionprops(Image, Image)\n",
    "    for prop in props:\n",
    "        \n",
    "        label = prop.label\n",
    "        CopyImage[CopyImage != label] = 0\n",
    "        CopyImage[CopyImage == label] = 1\n",
    "        erodedimage = binary_erosion(CopyImage)\n",
    "        BinaryImage = erodedimage + BinaryImage\n",
    "        CopyImage = Image\n",
    "        \n",
    "    imwrite(resultdir + Name + '.tif', BinaryImage)    "
   ]
  },
  {
   "cell_type": "code",
   "execution_count": null,
   "metadata": {},
   "outputs": [],
   "source": []
  }
 ],
 "metadata": {
  "kernelspec": {
   "display_name": "Python 3",
   "language": "python",
   "name": "python3"
  },
  "language_info": {
   "codemirror_mode": {
    "name": "ipython",
    "version": 3
   },
   "file_extension": ".py",
   "mimetype": "text/x-python",
   "name": "python",
   "nbconvert_exporter": "python",
   "pygments_lexer": "ipython3",
   "version": "3.7.4"
  }
 },
 "nbformat": 4,
 "nbformat_minor": 2
}
