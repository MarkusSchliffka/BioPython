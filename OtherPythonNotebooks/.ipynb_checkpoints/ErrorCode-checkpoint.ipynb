{
 "cells": [
  {
   "cell_type": "markdown",
   "metadata": {},
   "source": [
    "# Instead of error message we show you cute pictures while you contact the ground control of your programs"
   ]
  },
  {
   "cell_type": "code",
   "execution_count": 107,
   "metadata": {},
   "outputs": [
    {
     "name": "stdout",
     "output_type": "stream",
     "text": [
      "https://res.cloudinary.com/twenty20/private_images/t_reshot-300/v1588713240/photosp/2196898c-b0de-4350-9f36-5dd9558902d2/2196898c-b0de-4350-9f36-5dd9558902d2.jpg\n",
      "You have an error in the code, enjoy looking at this picture and contact us\n"
     ]
    }
   ],
   "source": [
    "from PIL import Image\n",
    "from bs4 import BeautifulSoup\n",
    "import urllib.parse\n",
    "from urllib.request import urlopen,Request\n",
    "import random\n",
    "from IPython.display import display\n",
    "\n",
    "Urls = [\"https://www.reshot.com/free-stock-photos/cat/\",\"https://www.reshot.com/free-stock-photos/puppy/\",\"https://www.reshot.com/free-stock-photos/wildlife/\"]\n",
    "url = random.choice(Urls)\n",
    "requester = {'User-Agent': 'Mozilla/5.0'}\n",
    "req=Request(url,headers=requester)\n",
    "u =urlopen(req)\n",
    "\n",
    "\n",
    "soup = BeautifulSoup(u.read())\n",
    "\n",
    "\n",
    "\n",
    "links = soup.find_all('a')\n",
    "\n",
    "images =[]\n",
    "for img in soup.findAll('img'):\n",
    "    images.append(img.get('src'))\n",
    "img=random.choice(images)\n",
    "print(img)\n",
    "urllib.request.urlretrieve(img, \"error.png\")  \n",
    "img = Image.open(\"error.png\")\n",
    "print(\"You have an error in the code, enjoy looking at this picture and contact your ground control to major Tom\")\n",
    "img.show()\n",
    " "
   ]
  },
  {
   "cell_type": "code",
   "execution_count": null,
   "metadata": {},
   "outputs": [],
   "source": []
  }
 ],
 "metadata": {
  "kernelspec": {
   "display_name": "Python [conda env:NapariTrack]",
   "language": "python",
   "name": "conda-env-NapariTrack-py"
  },
  "language_info": {
   "codemirror_mode": {
    "name": "ipython",
    "version": 3
   },
   "file_extension": ".py",
   "mimetype": "text/x-python",
   "name": "python",
   "nbconvert_exporter": "python",
   "pygments_lexer": "ipython3",
   "version": "3.9.0"
  }
 },
 "nbformat": 4,
 "nbformat_minor": 4
}
