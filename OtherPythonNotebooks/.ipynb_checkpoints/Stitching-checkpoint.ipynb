{
 "cells": [
  {
   "cell_type": "code",
   "execution_count": 3,
   "metadata": {},
   "outputs": [],
   "source": [
    "\n",
    "import os\n",
    "import glob\n",
    "from natsort import natsorted\n",
    "from tifffile import imread, imwrite\n",
    "import numpy as np\n",
    "from pathlib import Path\n"
   ]
  },
  {
   "cell_type": "code",
   "execution_count": 44,
   "metadata": {},
   "outputs": [],
   "source": [
    "ImageRight = '/Users/aimachine/Claudia_Tracking/Concatenate/Stitching/148E_Day5_tp1.tif'\n",
    "ImageLeft = '/Users/aimachine/Claudia_Tracking/Concatenate/Stitching/148E_Day4_tp120.tif'\n",
    "savedir = '/Users/aimachine/Claudia_Tracking/Concatenate/Stitching/'"
   ]
  },
  {
   "cell_type": "code",
   "execution_count": 45,
   "metadata": {},
   "outputs": [
    {
     "name": "stdout",
     "output_type": "stream",
     "text": [
      "(48, 3, 1024, 1024) (48, 3, 1024, 1024)\n",
      "(48, 3, 1130, 1572)\n"
     ]
    }
   ],
   "source": [
    "imageleft = imread(ImageLeft)\n",
    "imageright = imread(ImageRight)\n",
    "print(imageleft.shape, imageright.shape)\n",
    "upperY = 106\n",
    "leftX = 476\n",
    "#Image has 3 channels\n",
    "sizeY = int(imageleft.shape[2]+ upperY)\n",
    "sizeX = int(imageleft.shape[3] + imageright.shape[3] - leftX)\n",
    "stitchedimage = np.zeros([imageleft.shape[0], imageleft.shape[1],sizeY,sizeX])\n",
    "print(stitchedimage.shape)\n",
    "for i in range(0, stitchedimage.shape[1]):\n",
    "     \n",
    "     #First rectangle   \n",
    "     stitchedimage[:,i,upperY:stitchedimage.shape[2],0:leftX] = imageleft[:,i,0:imageleft.shape[2],0:leftX]\n",
    "     #Second rectangle\n",
    "     stitchedimage[:,i,0:stitchedimage.shape[2] - upperY,leftX:imageright.shape[3] + leftX] = imageright[:,i,0:imageright.shape[2],0:imageright.shape[3]]\n",
    "     #Tiny rectange\n",
    "     stitchedimage[:,i,stitchedimage.shape[2] - upperY:,leftX:imageright.shape[3]] = imageleft[:,i,imageleft.shape[2] - upperY:,leftX:imageleft.shape[3]]\n",
    "\n",
    "imwrite(savedir + '/' + 'ConcatedRaw' + '.tif' , stitchedimage.astype('float32'))"
   ]
  },
  {
   "cell_type": "code",
   "execution_count": 46,
   "metadata": {},
   "outputs": [],
   "source": [
    "ImageRight = '/Users/aimachine/Claudia_Tracking/Concatenate/StitchingMask/148E_Day5_TRLmask.tif'\n",
    "ImageLeft = '/Users/aimachine/Claudia_Tracking/Concatenate/StitchingMask/148E_Day4_TRLmask.tif'\n",
    "savedir = '/Users/aimachine/Claudia_Tracking/Concatenate/Stitching/'"
   ]
  },
  {
   "cell_type": "code",
   "execution_count": 72,
   "metadata": {},
   "outputs": [
    {
     "name": "stdout",
     "output_type": "stream",
     "text": [
      "(120, 1024, 1024) (129, 1024, 1024)\n",
      "(249, 1130, 1572)\n"
     ]
    }
   ],
   "source": [
    "imageleft = imread(ImageLeft)\n",
    "imageright = imread(ImageRight)\n",
    "print(imageleft.shape, imageright.shape)\n",
    "sizeY = int(imageleft.shape[1] + upperY)\n",
    "sizeX = int(imageleft.shape[2] + imageright.shape[2] - leftX )\n",
    "stitchedimage = np.zeros([imageleft.shape[0] + imageright.shape[0], sizeY,sizeX])\n",
    "print(stitchedimage.shape)\n",
    "stitchedimage[0:imageleft.shape[0],upperY:stitchedimage.shape[1],0:imageleft.shape[2]] = imageleft[0:imageleft.shape[0],0:imageleft.shape[1],0:]\n",
    "stitchedimage[imageleft.shape[0]:,:stitchedimage.shape[1] - upperY ,leftX: imageright.shape[2] + leftX] = imageright[:imageright.shape[0],0:imageright.shape[1],0:imageright.shape[2]]\n",
    "\n",
    "stitchedimage[imageleft.shape[0]:,upperY:stitchedimage.shape[1],:imageleft.shape[2]] = imageleft[imageleft.shape[0]-1,:,:]\n",
    "stitchedimage[imageleft.shape[0]:,:stitchedimage.shape[1] - upperY,leftX:imageleft.shape[2]+leftX] = imageright[:imageright.shape[0],:,:stitchedimage.shape[2] - leftX]\n",
    "\n",
    "imwrite(savedir + '/' + 'ConcatedMask' + '.tif' , stitchedimage.astype('uint16'))"
   ]
  },
  {
   "cell_type": "code",
   "execution_count": null,
   "metadata": {},
   "outputs": [],
   "source": []
  }
 ],
 "metadata": {
  "kernelspec": {
   "display_name": "Python [conda env:testenv]",
   "language": "python",
   "name": "conda-env-testenv-py"
  },
  "language_info": {
   "codemirror_mode": {
    "name": "ipython",
    "version": 3
   },
   "file_extension": ".py",
   "mimetype": "text/x-python",
   "name": "python",
   "nbconvert_exporter": "python",
   "pygments_lexer": "ipython3",
   "version": "3.9.0"
  }
 },
 "nbformat": 4,
 "nbformat_minor": 2
}
