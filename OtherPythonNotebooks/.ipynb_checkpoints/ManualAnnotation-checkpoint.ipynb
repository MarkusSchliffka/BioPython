{
 "cells": [
  {
   "cell_type": "code",
   "execution_count": null,
   "id": "c0d18852",
   "metadata": {},
   "outputs": [],
   "source": [
    "import napari\n",
    "import os\n",
    "import glob\n",
    "from napari.utils import nbscreenshot\n",
    "from pathlib import Path\n",
    "from tifffile import imread\n",
    "%gui qt\n"
   ]
  },
  {
   "cell_type": "code",
   "execution_count": null,
   "id": "cdfb0a90",
   "metadata": {},
   "outputs": [],
   "source": [
    "sourcedir = '/home/TifFiles/'\n",
    "resultsdir = '/home/CsvFiles/'\n",
    "Path(resultsdir).mkdir(exist_ok = True)\n",
    "Raw_path = os.path.join(sourcedir, '*TIF')\n",
    "X = glob.glob(Raw_path)\n",
    "Bigaxes = 'TYX'\n",
    "Cadherine = 'BestZCadherine'\n",
    "Nuclei = 'BestZNuclei'\n",
    "OutofFocus = 'OutofFocus'\n",
    "fname = X[0]\n",
    "image = imread(fname)\n",
    "Name = os.path.basename(os.path.splitext(fname)[0])\n",
    "# Create an empty viewer   \n",
    "viewer = napari.view_image(image, name= Name, rgb=False)\n",
    "\n",
    "# add the first points layer for BestZCadherine Z point\n",
    "viewer.add_points(name= Cadherine, face_color='red', n_dimensional=True)\n",
    "\n",
    "# add the second points layer for BestZNucleig Z point\n",
    "viewer.add_points(name= Nuclei, face_color='blue', n_dimensional=True)\n",
    "\n",
    "# add the second points layer for BestZNucleig Z point\n",
    "viewer.add_points(name= OutofFocus, face_color='green', n_dimensional=True)\n",
    "\n",
    "# programatically enter add mode for both Points layers to enable editing\n",
    "\n",
    "viewer.layers[Cadherine].mode = 'add'\n",
    "viewer.layers[Nuclei].mode = 'add'\n",
    "viewer.layers[OutofFocus].mode = 'add'"
   ]
  },
  {
   "cell_type": "code",
   "execution_count": null,
   "id": "686fd8ef",
   "metadata": {},
   "outputs": [],
   "source": [
    "viewer.layers[Cadherine].save(resultsdir + '/' + Cadherine + Name +  '.csv', plugin='builtins');\n",
    "viewer.layers[Nuclei].save(resultsdir + '/' +Nuclei + Name +  '.csv', plugin='builtins');\n",
    "viewer.layers[OutofFocus].save(resultsdir + '/' +OutofFocus + Name +  '.csv', plugin='builtins');"
   ]
  }
 ],
 "metadata": {
  "kernelspec": {
   "display_name": "Python [conda env:tensorflowGPU] *",
   "language": "python",
   "name": "conda-env-tensorflowGPU-py"
  },
  "language_info": {
   "codemirror_mode": {
    "name": "ipython",
    "version": 3
   },
   "file_extension": ".py",
   "mimetype": "text/x-python",
   "name": "python",
   "nbconvert_exporter": "python",
   "pygments_lexer": "ipython3",
   "version": "3.7.10"
  }
 },
 "nbformat": 4,
 "nbformat_minor": 5
}
