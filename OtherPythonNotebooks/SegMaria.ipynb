{
 "cells": [
  {
   "cell_type": "code",
   "execution_count": 1,
   "metadata": {},
   "outputs": [
    {
     "name": "stderr",
     "output_type": "stream",
     "text": [
      "Using TensorFlow backend.\n"
     ]
    }
   ],
   "source": [
    "\n",
    "import sys\n",
    "import os\n",
    "os.environ[\"CUDA_VISIBLE_DEVICES\"]=\"1\"\n",
    "from glob import glob\n",
    "from keras import backend as K\n",
    "sys.path.append(\"../NEAT\")\n",
    "from tqdm import tqdm\n",
    "import cv2\n",
    "from keras.models import Model, load_model\n",
    "from NEATModels import yolo_loss, Concat\n",
    "from stardist.models import StarDist2D\n",
    "from csbdeep.models import Config, CARE\n",
    "from csbdeep.utils import normalize\n",
    "from NEATUtils import helpers, NMS, MultiModelPrediction\n",
    "from NEATUtils.helpers import smallzero_pad, WatershedwithMask, fill_label_holes,MaxProjectDist, multiplot,Integer_to_border\n",
    "import glob\n",
    "from skimage.filters import threshold_otsu\n",
    "from scipy.ndimage.morphology import binary_fill_holes\n",
    "import numpy as np\n",
    "from skimage.morphology import remove_small_objects\n",
    "from tifffile import imread, imwrite\n",
    "try:\n",
    "    from pathlib import Path\n",
    "    Path().expanduser()\n",
    "except (ImportError,AttributeError):\n",
    "    from pathlib2 import Path\n",
    "try:\n",
    "    import tempfile\n",
    "    tempfile.TemporaryDirectory\n",
    "except (ImportError,AttributeError):\n",
    "    from backports import tempfile"
   ]
  },
  {
   "cell_type": "code",
   "execution_count": 2,
   "metadata": {},
   "outputs": [],
   "source": [
    "#Path to your model directory\n",
    "ModelDirectory = '/home/sancere/VarunNewton/CurieDeepLearningModels/O-NEATweights/'\n",
    "#Path to timelapse image directory\n",
    "MovieDirectory =  '/home/sancere/VarunCom/commun/Fl4-2-Var/Membrane/'\n",
    "ResultsDirectory = MovieDirectory +  '/VarunResults/'\n",
    "\n",
    "DenoisingModel = 'BorialisS1S2FlorisMidNoiseModel'\n",
    "SegmentationMaskModel = 'DrosophilaMaskSegmentationCARE'\n",
    "SegmentationStarModel = 'LucasDrosSmartSeeds'\n",
    "\n"
   ]
  },
  {
   "cell_type": "code",
   "execution_count": 3,
   "metadata": {},
   "outputs": [
    {
     "name": "stdout",
     "output_type": "stream",
     "text": [
      "Loading network weights from 'weights_best.h5'.\n",
      "Loading network weights from 'weights_best.h5'.\n",
      "Couldn't load thresholds from 'thresholds.json', using default values. (Call 'optimize_thresholds' to change that.)\n",
      "Using default values: prob_thresh=0.5, nms_thresh=0.4.\n",
      "Loading network weights from 'weights_best.h5'.\n"
     ]
    }
   ],
   "source": [
    "\n",
    "Noisemodel = CARE(config = None, name = DenoisingModel, basedir = ModelDirectory)\n",
    "model = StarDist2D(config = None, name = SegmentationStarModel, basedir = ModelDirectory)\n",
    "UnetModel = CARE(config = None, name = SegmentationMaskModel, basedir = ModelDirectory)\n"
   ]
  },
  {
   "cell_type": "code",
   "execution_count": null,
   "metadata": {},
   "outputs": [],
   "source": [
    "\n"
   ]
  },
  {
   "cell_type": "code",
   "execution_count": 4,
   "metadata": {
    "scrolled": false
   },
   "outputs": [
    {
     "name": "stdout",
     "output_type": "stream",
     "text": [
      "Membrane-Dg-22-24_PHGFP-H2BRFP_21\n"
     ]
    },
    {
     "name": "stderr",
     "output_type": "stream",
     "text": [
      "100%|██████████| 16/16 [00:12<00:00,  1.32it/s]  \n",
      "100%|██████████| 60/60 [07:18<00:00,  7.31s/it]\n"
     ]
    }
   ],
   "source": [
    "Path(ResultsDirectory).mkdir(exist_ok = True)\n",
    "Path(ResultsDirectory + '/Mask/').mkdir(exist_ok = True)\n",
    "Path(ResultsDirectory + '/Denoised/').mkdir(exist_ok = True)\n",
    "Raw_path = os.path.join(MovieDirectory, '*tif')\n",
    "X = glob.glob(Raw_path)\n",
    "axes = 'ZYX'\n",
    "axis_norm = (0,1)\n",
    "\n",
    "for fname in X:\n",
    "    image = imread(fname)\n",
    "    Name = os.path.basename(os.path.splitext(fname)[0])\n",
    "    print(Name)\n",
    "    \n",
    "    x = Noisemodel.predict(image, axes, n_tiles = (1, 4, 4))\n",
    "    \n",
    "    originalX = x.shape[1]\n",
    "    originalY = x.shape[2]  \n",
    "\n",
    "    #Get Name\n",
    "    \n",
    "    imwrite((ResultsDirectory + '/Denoised/' + Name+ '.tif' ) , x)\n",
    "    #UNET Prediction\n",
    "    Finalimage = np.zeros([x.shape[0], x.shape[1], x.shape[2]])\n",
    "    Zseg = np.zeros([x.shape[0], x.shape[1], x.shape[2]])\n",
    "    Volumeseg = np.zeros([x.shape[0], x.shape[1], x.shape[2]])\n",
    "    for i in tqdm(range(0,x.shape[0])): \n",
    "                Segmented = UnetModel.predict(x[i,:],'YX')\n",
    "                thresh = threshold_otsu(Segmented) \n",
    "                Binary = Segmented > thresh\n",
    "                Finalimage[i,:] = Binary\n",
    "\n",
    "\n",
    "                #Stardist Prediction\n",
    "\n",
    "                x[i,:] = normalize(x[i,:],1,99.8,axis=axis_norm)\n",
    "                x[i,:] = smallzero_pad(x[i,:], 64, 64)\n",
    "\n",
    "                MidImage, details = model.predict_instances(x[i,:])\n",
    "                StarImage = MidImage[:originalX, :originalY]\n",
    "\n",
    "                smallprob, smalldist = model.predict(x[i,:])\n",
    "                grid = model.config.grid\n",
    "                midprob = cv2.resize(smallprob, dsize=(smallprob.shape[1] * grid[1] , smallprob.shape[0] * grid[0] ))\n",
    "                middist = cv2.resize(smalldist, dsize=(smalldist.shape[1] * grid[1] , smalldist.shape[0] * grid[0] ))\n",
    "                dist = MaxProjectDist(middist)\n",
    "                prob = dist[:originalX, :originalY]\n",
    "                Watershed, Markers = WatershedwithMask(prob,StarImage,Finalimage[i,:],  model.config.grid)\n",
    "                Volumeseg[i,:] = Watershed\n",
    "                Zseg[i,:] = Integer_to_border(Watershed)\n",
    "\n",
    "    #Save different method segmentation\n",
    "\n",
    "    imwrite((ResultsDirectory  + Name+ '.tif' ) , Zseg.astype('uint8'))\n",
    "    imwrite((ResultsDirectory+ '/Mask/'  + Name+ '.tif' ) , Finalimage.astype('uint8'))\n",
    "    imwrite((ResultsDirectory  + 'UnLabel' + Name + '.tif' ) , Volumeseg.astype('float32'))\n",
    "\n",
    "    \n",
    "    \n"
   ]
  },
  {
   "cell_type": "code",
   "execution_count": null,
   "metadata": {},
   "outputs": [],
   "source": []
  },
  {
   "cell_type": "code",
   "execution_count": 5,
   "metadata": {},
   "outputs": [],
   "source": [
    "from skimage.segmentation import  relabel_sequential\n",
    "from skimage import measure\n",
    "from scipy import spatial\n",
    "def merge_labels_across_volume(labelvol, relabelfunc, threshold=3):\n",
    "    nz, ny, nx = labelvol.shape\n",
    "    res = np.zeros_like(labelvol)\n",
    "    res[0,...] = labelvol[0,...]\n",
    "    backup = labelvol.copy() # kapoors code modifies the input array\n",
    "    for i in tqdm(range(nz-1)):\n",
    "        res[i+1] = relabelfunc(res[i,...], labelvol[i+1,...],threshold=threshold)\n",
    "        labelvol = backup.copy() # restore the input array\n",
    "    return res\n",
    "\n",
    "def RelabelZ(previousImage, currentImage,threshold):\n",
    "    # This line ensures non-intersecting label sets\n",
    "    currentImage = relabel_sequential(currentImage,offset=previousImage.max()+1)[0]\n",
    "    # I also don't like modifying the input image, so we take a copy\n",
    "    relabelimage = currentImage.copy()\n",
    "    waterproperties = measure.regionprops(previousImage, previousImage)\n",
    "    indices = [prop.centroid for prop in waterproperties] \n",
    "    labels = [prop.label for prop in waterproperties]\n",
    "    if len(indices) > 0:\n",
    "       tree = spatial.cKDTree(indices)\n",
    "       currentwaterproperties = measure.regionprops(currentImage, currentImage)\n",
    "       currentindices = [prop.centroid for prop in currentwaterproperties] \n",
    "       currentlabels = [prop.label for prop in currentwaterproperties] \n",
    "       if len(currentindices) > 0: \n",
    "           for i in range(0,len(currentindices)):\n",
    "               index = currentindices[i]\n",
    "               #print(f\"index {index}\")\n",
    "               currentlabel = currentlabels[i] \n",
    "               #print(f\"currentlabel {currentlabel}\")\n",
    "               if currentlabel > 0:\n",
    "                      previouspoint = tree.query(index)\n",
    "                      #print(f\"prviouspoint {previouspoint}\")\n",
    "                      previouslabel = previousImage[int(indices[previouspoint[1]][0]), int(indices[previouspoint[1]][1])]\n",
    "                      #print(f\"previouslabels {previouslabel}\")\n",
    "                      if previouspoint[0] > threshold:\n",
    "                             relabelimage[np.where(currentImage == currentlabel)] = currentlabel\n",
    "                      else:\n",
    "                             relabelimage[np.where(currentImage == currentlabel)] = previouslabel\n",
    "    return relabelimage"
   ]
  },
  {
   "cell_type": "code",
   "execution_count": 6,
   "metadata": {},
   "outputs": [
    {
     "name": "stderr",
     "output_type": "stream",
     "text": [
      "100%|██████████| 59/59 [01:36<00:00,  1.64s/it]\n"
     ]
    }
   ],
   "source": [
    "Volumeseg = merge_labels_across_volume(Volumeseg.astype('uint16'), RelabelZ, threshold= 10)\n",
    "imwrite((ResultsDirectory  + 'Label' + Name + '.tif' ) , Volumeseg.astype('float32'))"
   ]
  },
  {
   "cell_type": "code",
   "execution_count": 7,
   "metadata": {},
   "outputs": [],
   "source": [
    "import napari\n",
    "with napari.gui_qt():\n",
    "   \n",
    "\n",
    "    # initialise viewer with Left wing image\n",
    "    viewer = napari.view_image(x, name='Raw', scale = [1,0.16,0.16])\n",
    "\n",
    "    # add the labels\n",
    "    label_layer = viewer.add_labels(Volumeseg, name='Volume', scale = [1,0.16,0.16]) "
   ]
  },
  {
   "cell_type": "code",
   "execution_count": 9,
   "metadata": {},
   "outputs": [
    {
     "name": "stderr",
     "output_type": "stream",
     "text": [
      "100%|██████████| 59/59 [01:37<00:00,  1.66s/it]\n"
     ]
    }
   ],
   "source": [
    "Segmentation = '/home/sancere/VarunCom/commun/Fl4-2-Var/Membrane/VarunResults/UnLabelMembrane-Dg-22-24_PHGFP-H2BRFP_21.tif'\n",
    "Volumeseg = merge_labels_across_volume(imread(Segmentation).astype('uint16'), RelabelZ, threshold= 10)\n",
    "imwrite((ResultsDirectory  + 'Label' + Name + '.tif' ) , Volumeseg.astype('float32'))"
   ]
  },
  {
   "cell_type": "code",
   "execution_count": null,
   "metadata": {},
   "outputs": [],
   "source": []
  }
 ],
 "metadata": {
  "kernelspec": {
   "display_name": "Python 3",
   "language": "python",
   "name": "python3"
  },
  "language_info": {
   "codemirror_mode": {
    "name": "ipython",
    "version": 3
   },
   "file_extension": ".py",
   "mimetype": "text/x-python",
   "name": "python",
   "nbconvert_exporter": "python",
   "pygments_lexer": "ipython3",
   "version": "3.6.10"
  }
 },
 "nbformat": 4,
 "nbformat_minor": 2
}
