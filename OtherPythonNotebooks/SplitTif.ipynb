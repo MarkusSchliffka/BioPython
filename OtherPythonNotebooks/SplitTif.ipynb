{
 "cells": [
  {
   "cell_type": "code",
   "execution_count": 1,
   "metadata": {},
   "outputs": [],
   "source": [
    "from tifffile import imread, imwrite\n",
    "import os\n",
    "import matplotlib.pyplot as plt\n",
    "import sys\n",
    "from utils import normalizeFloatZeroOne, MaxProjection\n",
    "import glob\n",
    "import cv2\n",
    "import numpy as np\n",
    "try:\n",
    "    from pathlib import Path\n",
    "    Path().expanduser()\n",
    "except (ImportError, AttributeError):\n",
    "        from pathlib2 import Path\n",
    "\n",
    "try:\n",
    "        import tempfile\n",
    "        tempfile.TemporaryDirectory\n",
    "except (ImportError, AttributeError):\n",
    "       from backports import tempfile"
   ]
  },
  {
   "cell_type": "code",
   "execution_count": 2,
   "metadata": {},
   "outputs": [],
   "source": [
    "sourcedir = '/Users/aimachine/Buds/CheatMask/'\n",
    "savedir = '/Users/aimachine/Buds/CheatMaskSplit/'\n",
    "axes = 'YX'\n",
    "Path(savedir).mkdir(exist_ok=True)\n",
    "DownsampleFactor = 1\n",
    "Raw_path = os.path.join(sourcedir, '*tif')\n",
    "X = glob.glob(Raw_path)\n"
   ]
  },
  {
   "cell_type": "code",
   "execution_count": 3,
   "metadata": {},
   "outputs": [
    {
     "name": "stdout",
     "output_type": "stream",
     "text": [
      "(28, 1024, 1024)\n",
      "(28, 1024, 1024)\n",
      "(28, 1024, 1024)\n",
      "(28, 1024, 1024)\n"
     ]
    }
   ],
   "source": [
    "Raw_path = os.path.join(sourcedir, '*tif')\n",
    "X = glob.glob(Raw_path)\n",
    "for fname in X:\n",
    "    image = imread(fname)\n",
    "    scale_percent = int(100/DownsampleFactor) # percent of original size\n",
    "    width = int(image.shape[2] * scale_percent / 100)\n",
    "    height = int(image.shape[1] * scale_percent / 100)\n",
    "    dim = (width, height)\n",
    "    # resize image\n",
    "    smallimage = np.zeros([image.shape[0], height, width])\n",
    "    print(image.shape)\n",
    "    print(smallimage.shape)\n",
    "    for i in range(0, image.shape[0]):\n",
    "       smallimage[i,:] = cv2.resize(image[i,:] , dim)\n",
    "\n",
    "    image = smallimage \n",
    "    Name = os.path.basename(os.path.splitext(fname)[0])\n",
    "    for i in range(0,image.shape[0]):\n",
    "         \n",
    "         imwrite((savedir + Name + '-' + str(i)   + '.tif') ,  image[i,:])\n"
   ]
  },
  {
   "cell_type": "code",
   "execution_count": null,
   "metadata": {},
   "outputs": [],
   "source": []
  }
 ],
 "metadata": {
  "kernelspec": {
   "display_name": "tensorflowEnv36",
   "language": "python",
   "name": "myenv"
  },
  "language_info": {
   "codemirror_mode": {
    "name": "ipython",
    "version": 3
   },
   "file_extension": ".py",
   "mimetype": "text/x-python",
   "name": "python",
   "nbconvert_exporter": "python",
   "pygments_lexer": "ipython3",
   "version": "3.6.9"
  }
 },
 "nbformat": 4,
 "nbformat_minor": 2
}
