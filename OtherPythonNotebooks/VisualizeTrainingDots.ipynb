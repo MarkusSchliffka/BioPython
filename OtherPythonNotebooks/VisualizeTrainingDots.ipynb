{
 "cells": [
  {
   "cell_type": "code",
   "execution_count": 7,
   "metadata": {},
   "outputs": [],
   "source": [
    "import pandas as pd\n",
    "import napari\n",
    "import glob\n",
    "import numpy as np\n",
    "from tifffile import imread"
   ]
  },
  {
   "cell_type": "code",
   "execution_count": 25,
   "metadata": {},
   "outputs": [],
   "source": [
    "sourceimage = '/Users/aimachine/Documents/VicData/Movie2.tif'\n",
    "TrainingEventcsv_file = '/Users/aimachine/Movie2Normal.csv'\n"
   ]
  },
  {
   "cell_type": "code",
   "execution_count": 26,
   "metadata": {},
   "outputs": [
    {
     "name": "stdout",
     "output_type": "stream",
     "text": [
      "Total number of events in the file  204\n"
     ]
    }
   ],
   "source": [
    "Raw =  imread(sourceimage)\n",
    "\n",
    "time, sx, sy, prob =   np.loadtxt(TrainingEventcsv_file, delimiter = ',', skiprows = 1, unpack = True)\n",
    "\n",
    "dfevent = pd.DataFrame(list(zip(time,sx,sy,prob)), columns =['Time', 'X', 'Y', 'Dummy'])\n",
    "print('Total number of events in the file ',len(dfevent))\n",
    "Eventlist = []\n",
    "for i in range(0,len(dfevent['Dummy'])):\n",
    "   \n",
    "     Eventlist.append([dfevent['Time'][i],dfevent['Y'][i],dfevent['X'][i]])\n",
    "    \n",
    "with napari.gui_qt():\n",
    "\n",
    "        viewer = napari.view_image(Raw, name = 'Image')\n",
    "        if len(Eventlist) > 0:\n",
    "         layerTraining = viewer.add_points(\n",
    "         np.asarray(Eventlist),\n",
    "         size= 4 , edge_color='green',\n",
    "         face_color='green')\n",
    "    \n",
    "        \n",
    "         "
   ]
  },
  {
   "cell_type": "code",
   "execution_count": null,
   "metadata": {},
   "outputs": [],
   "source": []
  },
  {
   "cell_type": "code",
   "execution_count": null,
   "metadata": {},
   "outputs": [],
   "source": []
  }
 ],
 "metadata": {
  "kernelspec": {
   "display_name": "Python 3",
   "language": "python",
   "name": "python3"
  },
  "language_info": {
   "codemirror_mode": {
    "name": "ipython",
    "version": 3
   },
   "file_extension": ".py",
   "mimetype": "text/x-python",
   "name": "python",
   "nbconvert_exporter": "python",
   "pygments_lexer": "ipython3",
   "version": "3.7.4"
  }
 },
 "nbformat": 4,
 "nbformat_minor": 2
}
