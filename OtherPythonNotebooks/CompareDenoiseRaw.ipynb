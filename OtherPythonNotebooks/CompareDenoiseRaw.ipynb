{
 "cells": [
  {
   "cell_type": "markdown",
   "metadata": {
    "id": "_SbD44i4lkzB"
   },
   "source": [
    "# In this notebook we use napari to compare Denoising in 3D with Raw \n",
    "   (Same file names in both the folders)"
   ]
  },
  {
   "cell_type": "code",
   "execution_count": null,
   "metadata": {
    "id": "EEUraEJ4lkzC"
   },
   "outputs": [],
   "source": [
    "import sys\n",
    "import os\n",
    "\n",
    "import numpy as np\n",
    "\n",
    "import glob\n",
    "from natsort import natsorted\n",
    "from tifffile import imread, imwrite\n",
    "from scipy.ndimage.morphology import binary_fill_holes\n",
    "from scipy.ndimage.measurements import find_objects\n",
    "from scipy.ndimage import maximum_filter, minimum_filter\n",
    "from skimage.morphology import remove_small_objects\n",
    "import napari\n",
    "from pathlib import Path\n",
    "\n",
    "%gui qt"
   ]
  },
  {
   "cell_type": "code",
   "execution_count": null,
   "metadata": {
    "id": "pDTPKsT0lkzD"
   },
   "outputs": [],
   "source": [
    "Imagedir = '/Raw/'\n",
    "\n",
    "Denoiseddir = '/Denoised/'\n"
   ]
  },
  {
   "cell_type": "code",
   "execution_count": null,
   "metadata": {
    "id": "zq_kK058lkzD",
    "outputId": "77f81b05-1a8c-4c25-d2cf-96ed3f418bb3"
   },
   "outputs": [],
   "source": [
    "Raw_path = os.path.join(Imagedir, '*tif')\n",
    "\n",
    "Den_path = os.path.join(Denoiseddir, '*tif')\n",
    "\n",
    "\n",
    "\n",
    "filesRaw = glob.glob(Raw_path)\n",
    "\n",
    "filesDen = glob.glob(Den_path)\n",
    "\n",
    "\n",
    "RawImages = []\n",
    "DenImages = []\n",
    "\n",
    "for fname in filesRaw:\n",
    "  for secondname in filesDen:\n",
    "                \n",
    "                \n",
    "                 Name = os.path.basename(os.path.splitext(fname)[0])\n",
    "                 DenName = os.path.basename(os.path.splitext(secondname)[0])\n",
    "                \n",
    "                 if Name == DenName:\n",
    "                        \n",
    "                        image = imread(fname)\n",
    "                        Denimage = imread(secondname)\n",
    "                        \n",
    "                        RawImages.append(image)\n",
    "                        DenImages.append(Denimage)\n",
    "                        \n",
    "RawImages = np.asarray(RawImages)\n",
    "DenImages = np.asarray(DenImages)\n",
    "\n",
    "\n",
    "viewer = napari.view_image(RawImages, name='Raw')\n",
    "\n",
    "den_layer = viewer.add_image(DenImages, name= 'Denoised') \n",
    "\n"
   ]
  },
  {
   "cell_type": "code",
   "execution_count": null,
   "metadata": {
    "id": "-JbmYFo1lkzE"
   },
   "outputs": [],
   "source": []
  },
  {
   "cell_type": "code",
   "execution_count": null,
   "metadata": {
    "id": "wNknIldxlkzE"
   },
   "outputs": [],
   "source": []
  }
 ],
 "metadata": {
  "colab": {
   "collapsed_sections": [],
   "name": "CompareGreenCells.ipynb",
   "provenance": []
  },
  "kernelspec": {
   "display_name": "Python [conda env:testenv]",
   "language": "python",
   "name": "conda-env-testenv-py"
  },
  "language_info": {
   "codemirror_mode": {
    "name": "ipython",
    "version": 3
   },
   "file_extension": ".py",
   "mimetype": "text/x-python",
   "name": "python",
   "nbconvert_exporter": "python",
   "pygments_lexer": "ipython3",
   "version": "3.9.0"
  }
 },
 "nbformat": 4,
 "nbformat_minor": 1
}
