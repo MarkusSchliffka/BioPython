{
 "cells": [
  {
   "cell_type": "markdown",
   "metadata": {},
   "source": [
    "# Instead of error message we show you cute pictures while you contact the ground control of your programs"
   ]
  },
  {
   "cell_type": "code",
   "execution_count": 22,
   "metadata": {},
   "outputs": [
    {
     "name": "stdout",
     "output_type": "stream",
     "text": [
      "https://envato-shoebox-0.imgix.net/b6e6/77be-0bc4-11e2-952c-842b2b692e1a/120918-183511.JPG?auto=compress%2Cformat&fit=max&mark=https%3A%2F%2Felements-assets.envato.com%2Fstatic%2Fwatermark2.png&markalign=center%2Cmiddle&markalpha=18&w=400&s=b2b5f846570643e93c569282217582c9\n",
      "You have an error in the code, enjoy looking at this picture and contact your ground control to major Tom\n"
     ]
    }
   ],
   "source": [
    "from PIL import Image\n",
    "from bs4 import BeautifulSoup\n",
    "import urllib.parse\n",
    "from urllib.request import urlopen,Request\n",
    "import random\n",
    "from IPython.display import display\n",
    "\n",
    "Urls = [\"https://www.reshot.com/free-stock-photos/cat/\",\"https://www.reshot.com/free-stock-photos/kitten/\"]\n",
    "url = random.choice(Urls)\n",
    "requester = {'User-Agent': 'Mozilla/5.0'}\n",
    "req=Request(url,headers=requester)\n",
    "u =urlopen(req)\n",
    "\n",
    "\n",
    "soup = BeautifulSoup(u.read())\n",
    "\n",
    "\n",
    "\n",
    "links = soup.find_all('a')\n",
    "\n",
    "images =[]\n",
    "for img in soup.findAll('img'):\n",
    "    images.append(img.get('src'))\n",
    "img=random.choice(images)\n",
    "print(img)\n",
    "urllib.request.urlretrieve(img, \"error.png\")  \n",
    "try:\n",
    "  img = Image.open(\"error.png\")\n",
    "  print(\"You have an error in the code, enjoy looking at this picture and contact your ground control to major Tom\")\n",
    "  img.show()\n",
    "except:\n",
    "    pass"
   ]
  },
  {
   "cell_type": "code",
   "execution_count": null,
   "metadata": {},
   "outputs": [],
   "source": []
  },
  {
   "cell_type": "code",
   "execution_count": null,
   "metadata": {},
   "outputs": [],
   "source": []
  }
 ],
 "metadata": {
  "kernelspec": {
   "display_name": "Python [conda env:NapariTrack]",
   "language": "python",
   "name": "conda-env-NapariTrack-py"
  },
  "language_info": {
   "codemirror_mode": {
    "name": "ipython",
    "version": 3
   },
   "file_extension": ".py",
   "mimetype": "text/x-python",
   "name": "python",
   "nbconvert_exporter": "python",
   "pygments_lexer": "ipython3",
   "version": "3.9.0"
  }
 },
 "nbformat": 4,
 "nbformat_minor": 4
}
