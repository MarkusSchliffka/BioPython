{
 "cells": [
  {
   "cell_type": "code",
   "execution_count": 12,
   "metadata": {},
   "outputs": [],
   "source": [
    "import numpy as np\n",
    "import os\n",
    "import glob\n",
    "from tifffile import imread, imwrite\n",
    "import matplotlib.pyplot as plt\n",
    "from pathlib import Path\n",
    "from skimage.measure import label, regionprops\n",
    "from scipy.ndimage.morphology import binary_erosion"
   ]
  },
  {
   "cell_type": "code",
   "execution_count": null,
   "metadata": {},
   "outputs": [],
   "source": [
    "sourcedir = '/home/sancere/Kepler/CurieTrainingDatasets/LightSheetTraining/RealMask/'\n",
    "resultsdir = '/home/sancere/Kepler/CurieTrainingDatasets/LightSheetTraining/BetterBinaryMask/'\n",
    "Path(resultsdir).mkdir(exist_ok = True)\n",
    "Raw_path = os.path.join(sourcedir, '*tif')\n",
    "X = glob.glob(Raw_path)\n",
    "for fname in X:\n",
    "\n",
    "    Image = imread(fname)\n",
    "    Name = os.path.basename(os.path.splitext(fname)[0])\n",
    "    Image = Image.astype('uint16')\n",
    "    CopyImage = Image\n",
    "    BinaryImage = np.zeros([Image.shape[0], Image.shape[1],Image.shape[2]])\n",
    "    props = regionprops(Image, Image)\n",
    "    for prop in props:\n",
    "        \n",
    "        label = prop.label\n",
    "        CopyImage[CopyImage is label] = 1\n",
    "        erodedimage = binary_erosion(CopyImage)\n",
    "        BinaryImage = np.add(erodedimage, BinaryImage)\n",
    "        CopyImage = Image\n",
    "        \n",
    "    imwrite(resultsdir + Name + '.tif', BinaryImage)    "
   ]
  },
  {
   "cell_type": "code",
   "execution_count": null,
   "metadata": {},
   "outputs": [],
   "source": []
  }
 ],
 "metadata": {
  "kernelspec": {
   "display_name": "Python 3",
   "language": "python",
   "name": "python3"
  },
  "language_info": {
   "codemirror_mode": {
    "name": "ipython",
    "version": 3
   },
   "file_extension": ".py",
   "mimetype": "text/x-python",
   "name": "python",
   "nbconvert_exporter": "python",
   "pygments_lexer": "ipython3",
   "version": "3.7.4"
  }
 },
 "nbformat": 4,
 "nbformat_minor": 2
}
