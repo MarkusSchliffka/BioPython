{
 "cells": [
  {
   "cell_type": "markdown",
   "metadata": {
    "id": "_SbD44i4lkzB"
   },
   "source": [
    "# In this notebook we use napari to compare Segmentations on 3D\n",
    "\n",
    "(Same file names in all the folders)"
   ]
  },
  {
   "cell_type": "code",
   "execution_count": null,
   "metadata": {
    "id": "EEUraEJ4lkzC"
   },
   "outputs": [],
   "source": [
    "import sys\n",
    "import os\n",
    "\n",
    "import numpy as np\n",
    "\n",
    "import glob\n",
    "from natsort import natsorted\n",
    "from tifffile import imread, imwrite\n",
    "from scipy.ndimage.morphology import binary_fill_holes\n",
    "from scipy.ndimage.measurements import find_objects\n",
    "from scipy.ndimage import maximum_filter, minimum_filter\n",
    "from skimage.morphology import remove_small_objects\n",
    "import napari\n",
    "from pathlib import Path\n",
    "\n",
    "%gui qt"
   ]
  },
  {
   "cell_type": "code",
   "execution_count": null,
   "metadata": {
    "id": "pDTPKsT0lkzD"
   },
   "outputs": [],
   "source": [
    "Imagedir = '/Raw/'\n",
    "\n",
    "SegmentationDirA = '/SmartSeedsMask/'\n",
    "\n",
    "SegmentationDirB = '/StarDist/'\n",
    "\n"
   ]
  },
  {
   "cell_type": "code",
   "execution_count": null,
   "metadata": {
    "id": "zq_kK058lkzD",
    "outputId": "77f81b05-1a8c-4c25-d2cf-96ed3f418bb3"
   },
   "outputs": [
    {
     "name": "stdout",
     "output_type": "stream",
     "text": [
      "/Users/aimachine/Downloads/GreenTif/Denoised/20201123_105E_NIBcatTOM_day6_region1_2_each10min_zoom08_40X_FINAL_Stitch.tif\n",
      "/Users/aimachine/Downloads/GreenTif/Denoised/20201123_105E_NIBcatTOM_day6_region1_2_each10min_zoom08_40X_FINAL_Stitchtime0.tif\n",
      "/Users/aimachine/Downloads/GreenTif/Denoised/20201123_105E_NIBcatTOM_day6_region1_2_each10min_zoom08_40X_FINAL_Stitchtime1.tif\n",
      "/Users/aimachine/Downloads/GreenTif/Denoised/20201123_105E_NIBcatTOM_day6_region1_2_each10min_zoom08_40X_FINAL_Stitchtime2.tif\n",
      "/Users/aimachine/Downloads/GreenTif/Denoised/20201123_105E_NIBcatTOM_day6_region1_2_each10min_zoom08_40X_FINAL_Stitchtime3.tif\n",
      "/Users/aimachine/Downloads/GreenTif/Denoised/20201123_105E_NIBcatTOM_day6_region1_2_each10min_zoom08_40X_FINAL_Stitchtime4.tif\n",
      "/Users/aimachine/Downloads/GreenTif/Denoised/20201123_105E_NIBcatTOM_day6_region1_2_each10min_zoom08_40X_FINAL_Stitchtime5.tif\n",
      "/Users/aimachine/Downloads/GreenTif/Denoised/20201123_105E_NIBcatTOM_day6_region1_2_each10min_zoom08_40X_FINAL_Stitchtime6.tif\n",
      "/Users/aimachine/Downloads/GreenTif/Denoised/20201123_105E_NIBcatTOM_day6_region1_2_each10min_zoom08_40X_FINAL_Stitchtime7.tif\n",
      "/Users/aimachine/Downloads/GreenTif/Denoised/20201123_105E_NIBcatTOM_day6_region1_2_each10min_zoom08_40X_FINAL_Stitchtime8.tif\n",
      "/Users/aimachine/Downloads/GreenTif/Denoised/20201123_105E_NIBcatTOM_day6_region1_2_each10min_zoom08_40X_FINAL_Stitchtime9.tif\n",
      "/Users/aimachine/Downloads/GreenTif/Denoised/20201123_105E_NIBcatTOM_day6_region1_2_each10min_zoom08_40X_FINAL_Stitchtime10.tif\n",
      "/Users/aimachine/Downloads/GreenTif/Denoised/20201123_105E_NIBcatTOM_day6_region1_2_each10min_zoom08_40X_FINAL_Stitchtime11.tif\n",
      "/Users/aimachine/Downloads/GreenTif/Denoised/20201123_105E_NIBcatTOM_day6_region1_2_each10min_zoom08_40X_FINAL_Stitchtime12.tif\n",
      "/Users/aimachine/Downloads/GreenTif/Denoised/20201123_105E_NIBcatTOM_day6_region1_2_each10min_zoom08_40X_FINAL_Stitchtime13.tif\n",
      "/Users/aimachine/Downloads/GreenTif/Denoised/20201123_105E_NIBcatTOM_day6_region1_2_each10min_zoom08_40X_FINAL_Stitchtime14.tif\n",
      "/Users/aimachine/Downloads/GreenTif/Denoised/20201123_105E_NIBcatTOM_day6_region1_2_each10min_zoom08_40X_FINAL_Stitchtime15.tif\n",
      "/Users/aimachine/Downloads/GreenTif/Denoised/20201123_105E_NIBcatTOM_day6_region1_2_each10min_zoom08_40X_FINAL_Stitchtime16.tif\n",
      "/Users/aimachine/Downloads/GreenTif/Denoised/20201123_105E_NIBcatTOM_day6_region1_2_each10min_zoom08_40X_FINAL_Stitchtime17.tif\n",
      "/Users/aimachine/Downloads/GreenTif/Denoised/20201123_105E_NIBcatTOM_day6_region1_2_each10min_zoom08_40X_FINAL_Stitchtime18.tif\n",
      "/Users/aimachine/Downloads/GreenTif/Denoised/20201123_105E_NIBcatTOM_day6_region1_2_each10min_zoom08_40X_FINAL_Stitchtime19.tif\n",
      "/Users/aimachine/Downloads/GreenTif/Denoised/20201123_105E_NIBcatTOM_day6_region1_2_each10min_zoom08_40X_FINAL_Stitchtime20.tif\n",
      "/Users/aimachine/Downloads/GreenTif/Denoised/20201123_105E_NIBcatTOM_day6_region1_2_each10min_zoom08_40X_FINAL_Stitchtime21.tif\n",
      "/Users/aimachine/Downloads/GreenTif/Denoised/20201123_105E_NIBcatTOM_day6_region1_2_each10min_zoom08_40X_FINAL_Stitchtime22.tif\n",
      "/Users/aimachine/Downloads/GreenTif/Denoised/20201123_105E_NIBcatTOM_day6_region1_2_each10min_zoom08_40X_FINAL_Stitchtime23.tif\n",
      "/Users/aimachine/Downloads/GreenTif/Denoised/20201123_105E_NIBcatTOM_day6_region1_2_each10min_zoom08_40X_FINAL_Stitchtime24.tif\n",
      "/Users/aimachine/Downloads/GreenTif/Denoised/20201123_105E_NIBcatTOM_day6_region1_2_each10min_zoom08_40X_FINAL_Stitchtime25.tif\n",
      "/Users/aimachine/Downloads/GreenTif/Denoised/20201123_105E_NIBcatTOM_day6_region1_2_each10min_zoom08_40X_FINAL_Stitchtime26.tif\n",
      "/Users/aimachine/Downloads/GreenTif/Denoised/20201123_105E_NIBcatTOM_day6_region1_2_each10min_zoom08_40X_FINAL_Stitchtime27.tif\n",
      "/Users/aimachine/Downloads/GreenTif/Denoised/20201123_105E_NIBcatTOM_day6_region1_2_each10min_zoom08_40X_FINAL_Stitchtime28.tif\n",
      "/Users/aimachine/Downloads/GreenTif/Denoised/20201123_105E_NIBcatTOM_day6_region1_2_each10min_zoom08_40X_FINAL_Stitchtime29.tif\n",
      "/Users/aimachine/Downloads/GreenTif/Denoised/20201123_105E_NIBcatTOM_day6_region1_2_each10min_zoom08_40X_FINAL_Stitchtime30.tif\n",
      "/Users/aimachine/Downloads/GreenTif/Denoised/20201123_105E_NIBcatTOM_day6_region1_2_each10min_zoom08_40X_FINAL_Stitchtime31.tif\n",
      "/Users/aimachine/Downloads/GreenTif/Denoised/20201123_105E_NIBcatTOM_day6_region1_2_each10min_zoom08_40X_FINAL_Stitchtime32.tif\n",
      "/Users/aimachine/Downloads/GreenTif/Denoised/20201123_105E_NIBcatTOM_day6_region1_2_each10min_zoom08_40X_FINAL_Stitchtime33.tif\n",
      "/Users/aimachine/Downloads/GreenTif/Denoised/20201123_105E_NIBcatTOM_day6_region1_2_each10min_zoom08_40X_FINAL_Stitchtime34.tif\n",
      "/Users/aimachine/Downloads/GreenTif/Denoised/20201123_105E_NIBcatTOM_day6_region1_2_each10min_zoom08_40X_FINAL_Stitchtime35.tif\n",
      "/Users/aimachine/Downloads/GreenTif/Denoised/20201123_105E_NIBcatTOM_day6_region1_2_each10min_zoom08_40X_FINAL_Stitchtime36.tif\n",
      "/Users/aimachine/Downloads/GreenTif/Denoised/20201123_105E_NIBcatTOM_day6_region1_2_each10min_zoom08_40X_FINAL_Stitchtime37.tif\n",
      "/Users/aimachine/Downloads/GreenTif/Denoised/20201123_105E_NIBcatTOM_day6_region1_2_each10min_zoom08_40X_FINAL_Stitchtime38.tif\n",
      "/Users/aimachine/Downloads/GreenTif/Denoised/20201123_105E_NIBcatTOM_day6_region1_2_each10min_zoom08_40X_FINAL_Stitchtime39.tif\n",
      "/Users/aimachine/Downloads/GreenTif/Denoised/20201123_105E_NIBcatTOM_day6_region1_2_each10min_zoom08_40X_FINAL_Stitchtime40.tif\n",
      "/Users/aimachine/Downloads/GreenTif/Denoised/20201123_105E_NIBcatTOM_day6_region1_2_each10min_zoom08_40X_FINAL_Stitchtime41.tif\n",
      "/Users/aimachine/Downloads/GreenTif/Denoised/20201123_105E_NIBcatTOM_day6_region1_2_each10min_zoom08_40X_FINAL_Stitchtime42.tif\n",
      "/Users/aimachine/Downloads/GreenTif/Denoised/20201123_105E_NIBcatTOM_day6_region1_2_each10min_zoom08_40X_FINAL_Stitchtime43.tif\n",
      "/Users/aimachine/Downloads/GreenTif/Denoised/20201123_105E_NIBcatTOM_day6_region1_2_each10min_zoom08_40X_FINAL_Stitchtime44.tif\n",
      "/Users/aimachine/Downloads/GreenTif/Denoised/20201123_105E_NIBcatTOM_day6_region1_2_each10min_zoom08_40X_FINAL_Stitchtime45.tif\n",
      "/Users/aimachine/Downloads/GreenTif/Denoised/20201123_105E_NIBcatTOM_day6_region1_2_each10min_zoom08_40X_FINAL_Stitchtime46.tif\n",
      "/Users/aimachine/Downloads/GreenTif/Denoised/20201123_105E_NIBcatTOM_day6_region1_2_each10min_zoom08_40X_FINAL_Stitchtime47.tif\n",
      "/Users/aimachine/Downloads/GreenTif/Denoised/20201123_105E_NIBcatTOM_day6_region1_2_each10min_zoom08_40X_FINAL_Stitchtime48.tif\n",
      "/Users/aimachine/Downloads/GreenTif/Denoised/20201123_105E_NIBcatTOM_day6_region1_2_each10min_zoom08_40X_FINAL_Stitchtime49.tif\n",
      "/Users/aimachine/Downloads/GreenTif/Denoised/20201123_105E_NIBcatTOM_day6_region1_2_each10min_zoom08_40X_FINAL_Stitchtime50.tif\n",
      "/Users/aimachine/Downloads/GreenTif/Denoised/20201123_105E_NIBcatTOM_day6_region1_2_each10min_zoom08_40X_FINAL_Stitchtime51.tif\n",
      "/Users/aimachine/Downloads/GreenTif/Denoised/20201123_105E_NIBcatTOM_day6_region1_2_each10min_zoom08_40X_FINAL_Stitchtime52.tif\n",
      "/Users/aimachine/Downloads/GreenTif/Denoised/20201123_105E_NIBcatTOM_day6_region1_2_each10min_zoom08_40X_FINAL_Stitchtime53.tif\n",
      "/Users/aimachine/Downloads/GreenTif/Denoised/20201123_105E_NIBcatTOM_day6_region1_2_each10min_zoom08_40X_FINAL_Stitchtime54.tif\n",
      "/Users/aimachine/Downloads/GreenTif/Denoised/20201123_105E_NIBcatTOM_day6_region1_2_each10min_zoom08_40X_FINAL_Stitchtime55.tif\n",
      "/Users/aimachine/Downloads/GreenTif/Denoised/20201123_105E_NIBcatTOM_day6_region1_2_each10min_zoom08_40X_FINAL_Stitchtime56.tif\n",
      "/Users/aimachine/Downloads/GreenTif/Denoised/20201123_105E_NIBcatTOM_day6_region1_2_each10min_zoom08_40X_FINAL_Stitchtime57.tif\n",
      "/Users/aimachine/Downloads/GreenTif/Denoised/20201123_105E_NIBcatTOM_day6_region1_2_each10min_zoom08_40X_FINAL_Stitchtime58.tif\n",
      "/Users/aimachine/Downloads/GreenTif/Denoised/20201123_105E_NIBcatTOM_day6_region1_2_each10min_zoom08_40X_FINAL_Stitchtime59.tif\n",
      "/Users/aimachine/Downloads/GreenTif/Denoised/20201123_105E_NIBcatTOM_day6_region1_2_each10min_zoom08_40X_FINAL_Stitchtime60.tif\n",
      "/Users/aimachine/Downloads/GreenTif/Denoised/20201123_105E_NIBcatTOM_day6_region1_2_each10min_zoom08_40X_FINAL_Stitchtime61.tif\n",
      "/Users/aimachine/Downloads/GreenTif/Denoised/20201123_105E_NIBcatTOM_day6_region1_2_each10min_zoom08_40X_FINAL_Stitchtime62.tif\n",
      "/Users/aimachine/Downloads/GreenTif/Denoised/20201123_105E_NIBcatTOM_day6_region1_2_each10min_zoom08_40X_FINAL_Stitchtime63.tif\n",
      "/Users/aimachine/Downloads/GreenTif/Denoised/20201123_105E_NIBcatTOM_day6_region1_2_each10min_zoom08_40X_FINAL_Stitchtime64.tif\n"
     ]
    },
    {
     "name": "stdout",
     "output_type": "stream",
     "text": [
      "/Users/aimachine/Downloads/GreenTif/Denoised/20201123_105E_NIBcatTOM_day6_region1_2_each10min_zoom08_40X_FINAL_Stitchtime65.tif\n",
      "/Users/aimachine/Downloads/GreenTif/Denoised/20201123_105E_NIBcatTOM_day6_region1_2_each10min_zoom08_40X_FINAL_Stitchtime66.tif\n",
      "(68, 22, 973, 512) (68, 22, 973, 512)\n"
     ]
    }
   ],
   "source": [
    "Raw_path = os.path.join(Imagedir, '*tif')\n",
    "\n",
    "Seg_pathA = os.path.join(SegmentationDirA, '*tif')\n",
    "\n",
    "Seg_pathB = os.path.join(SegmentationDirB, '*tif')\n",
    "\n",
    "filesRaw = glob.glob(Raw_path)\n",
    "\n",
    "filesSegA = glob.glob(Seg_pathA)\n",
    "\n",
    "filesSegB = glob.glob(Seg_pathB)\n",
    "\n",
    "RawImages = []\n",
    "SegAImages = []\n",
    "SegBImages = []\n",
    "for fname in filesRaw:\n",
    "  for secondname in filesSegA:\n",
    "          for thirdname in filesSegB:      \n",
    "                \n",
    "                 Name = os.path.basename(os.path.splitext(fname)[0])\n",
    "                 SegAName = os.path.basename(os.path.splitext(secondname)[0])\n",
    "                 SegBName = os.path.basename(os.path.splitext(thirdname)[0])\n",
    "                 if Name == SegAName and Name == SegBName:\n",
    "                        \n",
    "                        image = imread(fname)\n",
    "                        SegAimage = imread(secondname)\n",
    "                        SegBimage = imread(thirdname)\n",
    "                        RawImages.append(image)\n",
    "                        SegAImages.append(SegAimage)\n",
    "                        SegBImages.append(SegBimage)\n",
    "RawImages = np.asarray(RawImages)\n",
    "SegAImages = np.asarray(SegAImages)\n",
    "SegBImages = np.asarray(SegBImages)\n",
    " \n",
    "\n",
    "\n",
    "\n",
    "viewer = napari.view_image(RawImages, name='Raw')\n",
    "\n",
    "label_layerA = viewer.add_labels(SegAImages, name= 'VollSeg') \n",
    "\n",
    "label_layerB = viewer.add_labels(SegBImages, name= 'StarDist') "
   ]
  },
  {
   "cell_type": "code",
   "execution_count": null,
   "metadata": {
    "id": "-JbmYFo1lkzE"
   },
   "outputs": [],
   "source": []
  },
  {
   "cell_type": "code",
   "execution_count": null,
   "metadata": {
    "id": "wNknIldxlkzE"
   },
   "outputs": [],
   "source": []
  }
 ],
 "metadata": {
  "colab": {
   "collapsed_sections": [],
   "name": "CompareGreenCells.ipynb",
   "provenance": []
  },
  "kernelspec": {
   "display_name": "Python [conda env:testenv]",
   "language": "python",
   "name": "conda-env-testenv-py"
  },
  "language_info": {
   "codemirror_mode": {
    "name": "ipython",
    "version": 3
   },
   "file_extension": ".py",
   "mimetype": "text/x-python",
   "name": "python",
   "nbconvert_exporter": "python",
   "pygments_lexer": "ipython3",
   "version": "3.9.0"
  }
 },
 "nbformat": 4,
 "nbformat_minor": 1
}
