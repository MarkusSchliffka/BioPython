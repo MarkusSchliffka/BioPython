{
 "cells": [
  {
   "cell_type": "code",
   "execution_count": 1,
   "metadata": {},
   "outputs": [],
   "source": [
    "import numpy as np\n",
    "from tifffile import imread \n",
    "from pathlib import Path\n",
    "from glob import glob\n",
    "from tqdm import tqdm\n",
    "from skimage.measure import label\n",
    "import matplotlib.pyplot as plt\n",
    "from stardist import fill_label_holes\n",
    "from skimage.metrics import structural_similarity as ssim\n",
    "from skimage.metrics import  normalized_root_mse as mse\n",
    "import numpy as np\n",
    "from skimage.measure import regionprops\n",
    "import csv\n",
    "from numba import jit\n",
    "from tqdm import tqdm\n",
    "from scipy.optimize import linear_sum_assignment\n",
    "from collections import namedtuple\n",
    "from csbdeep.utils import _raise\n",
    "import seaborn as sns"
   ]
  },
  {
   "cell_type": "code",
   "execution_count": 16,
   "metadata": {},
   "outputs": [],
   "source": [
    "def MakeBinary(labelimage):\n",
    "    \n",
    "    Binary = labelimage > 0\n",
    "    return Binary"
   ]
  },
  {
   "cell_type": "code",
   "execution_count": 14,
   "metadata": {},
   "outputs": [
    {
     "name": "stderr",
     "output_type": "stream",
     "text": [
      "100%|██████████| 12/12 [00:00<00:00, 171196.08it/s]\n",
      "100%|██████████| 12/12 [00:00<00:00, 59423.43it/s]\n",
      "100%|██████████| 12/12 [00:00<00:00, 26092.09it/s]\n",
      "  0%|          | 0/12 [00:00<?, ?it/s]"
     ]
    },
    {
     "name": "stdout",
     "output_type": "stream",
     "text": [
      "['/Users/aimachine/MouseModel/Crops/Voll/tp11.tif', '/Users/aimachine/MouseModel/Crops/Voll/tp13.tif', '/Users/aimachine/MouseModel/Crops/Voll/tp16.tif', '/Users/aimachine/MouseModel/Crops/Voll/tp23.tif', '/Users/aimachine/MouseModel/Crops/Voll/tp28.tif', '/Users/aimachine/MouseModel/Crops/Voll/tp38.tif', '/Users/aimachine/MouseModel/Crops/Voll/tp48.tif', '/Users/aimachine/MouseModel/Crops/Voll/tp51.tif', '/Users/aimachine/MouseModel/Crops/Voll/tp52.tif', '/Users/aimachine/MouseModel/Crops/Voll/tp54.tif', '/Users/aimachine/MouseModel/Crops/Voll/tp7.tif', '/Users/aimachine/MouseModel/Crops/Voll/tp8.tif']\n"
     ]
    },
    {
     "name": "stderr",
     "output_type": "stream",
     "text": [
      "100%|██████████| 12/12 [00:00<00:00, 102.58it/s]"
     ]
    },
    {
     "name": "stdout",
     "output_type": "stream",
     "text": [
      "(12,)\n",
      "(12,)\n",
      "(12,)\n",
      "(12,)\n"
     ]
    },
    {
     "name": "stderr",
     "output_type": "stream",
     "text": [
      "\n"
     ]
    }
   ],
   "source": [
    "GT = sorted(glob('/Users/aimachine/MouseModel/Crops/GT/*.tif'))\n",
    "StarDist = sorted(glob('/Users/aimachine/MouseModel/Crops/Star/*.tif'))\n",
    "VollSeg = sorted(glob('/Users/aimachine/MouseModel/Crops/Voll/*.tif'))\n",
    "BinarySeg = sorted(glob('/Users/aimachine/MouseModel/Crops/Binary/*.tif'))\n",
    "Results = '/Users/aimachine/MouseModel/'\n",
    "\n",
    "print(VollSeg)\n",
    "GT = list(map(imread,GT))\n",
    "StarDist = list(map(imread,StarDist))\n",
    "VollSeg = list(map(imread,VollSeg))\n",
    "BinarySeg = list(map(imread,BinarySeg))\n",
    "\n",
    "GT = [y for y in tqdm(GT)]\n",
    "StarDist = [y for y in tqdm(StarDist)]\n",
    "VollSeg = [y for y in tqdm(VollSeg)]\n",
    "BinarySeg = [label(y) for y in tqdm(BinarySeg)]\n",
    "\n",
    "GTbin = []\n",
    "\n",
    "print(np.asarray(BinarySeg).shape)\n",
    "print(np.asarray(VollSeg).shape)\n",
    "print(np.asarray(StarDist).shape)\n",
    "print(np.asarray(GT).shape)"
   ]
  },
  {
   "cell_type": "code",
   "execution_count": null,
   "metadata": {},
   "outputs": [],
   "source": []
  },
  {
   "cell_type": "code",
   "execution_count": 22,
   "metadata": {},
   "outputs": [
    {
     "name": "stdout",
     "output_type": "stream",
     "text": [
      "(28, 105, 195) (28, 105, 195) (28, 105, 195) (28, 105, 195)\n",
      "(22, 265, 162) (22, 265, 162) (22, 265, 162) (22, 265, 162)\n",
      "(22, 265, 162) (22, 265, 162) (22, 265, 162) (22, 265, 162)\n",
      "(22, 265, 162) (22, 265, 162) (22, 265, 162) (22, 265, 162)\n",
      "(28, 223, 143) (28, 223, 143) (28, 223, 143) (28, 223, 143)\n",
      "(28, 211, 176) (28, 211, 176) (28, 211, 176) (28, 211, 176)\n",
      "(28, 211, 176) (28, 211, 176) (28, 211, 176) (28, 211, 176)\n",
      "(22, 229, 184) (22, 229, 184) (22, 229, 184) (22, 229, 184)\n",
      "(22, 229, 184) (22, 229, 184) (22, 229, 184) (22, 229, 184)\n",
      "(28, 211, 143) (28, 211, 143) (28, 211, 143) (28, 211, 143)\n",
      "(28, 105, 187) (28, 105, 187) (28, 105, 187) (28, 105, 187)\n",
      "(28, 105, 195) (28, 105, 195) (28, 105, 195) (28, 105, 195)\n",
      "[0.45736026480813735, 0.700040950051776, 0.7506554983578272, 1.088111634026847, 0.36770941001041874, 0.4982529646095839, 0.4758492300542633, 0.31646958786169543, 0.5814390959542668, 0.3866142733060531, 0.42683108735153025, 0.42211646538267267]\n"
     ]
    }
   ],
   "source": [
    "Vollmse = []\n",
    "Starmse = []\n",
    "Binmse = []\n",
    "Vollcsvname = Results + \"/\" + \"Vollsegmse\"    \n",
    "Vollwriter = csv.writer(open(Vollcsvname + \".csv\", \"a\"))\n",
    "Vollwriter.writerow([\"ssim\"])\n",
    "Starcsvname = Results + \"/\" + \"Starsegmse\"    \n",
    "Starwriter = csv.writer(open(Starcsvname + \".csv\", \"a\"))\n",
    "Starwriter.writerow([\"ssim\"])\n",
    "Binarycsvname = Results + \"/\" + \"Binarysegmse\"    \n",
    "Binarywriter = csv.writer(open(Binarycsvname + \".csv\", \"a\"))\n",
    "Binarywriter.writerow([\"ssim\"])\n",
    "\n",
    "for i in range(len(VollSeg)):\n",
    "    print(VollSeg[i].shape, GT[i].shape,StarDist[i].shape, BinarySeg[i].shape )\n",
    "    vollsimilarity = mse(MakeBinary(VollSeg[i]),MakeBinary(GT[i]))\n",
    "    Vollmse.append(vollsimilarity)\n",
    "    starsimilarity = mse(MakeBinary(StarDist[i]),MakeBinary(GT[i]))\n",
    "    Starmse.append(starsimilarity)\n",
    "    binsimilarity = mse(MakeBinary(BinarySeg[i]),MakeBinary(GT[i]))\n",
    "    Binmse.append(binsimilarity)\n",
    "    Vollwriter.writerow([vollsimilarity])\n",
    "    Starwriter.writerow([starsimilarity])\n",
    "    Binarywriter.writerow([binsimilarity])\n",
    "\n",
    "print(Vollmse)"
   ]
  },
  {
   "cell_type": "code",
   "execution_count": 3,
   "metadata": {},
   "outputs": [],
   "source": [
    "matching_criteria = dict()\n",
    "\n",
    "def label_are_sequential(y):\n",
    "    \"\"\" returns true if y has only sequential labels from 1... \"\"\"\n",
    "    labels = np.unique(y)\n",
    "    return (set(labels)-{0}) == set(range(1,1+labels.max()))\n",
    "\n",
    "\n",
    "def is_array_of_integers(y):\n",
    "    return isinstance(y,np.ndarray) and np.issubdtype(y.dtype, np.integer)\n",
    "\n",
    "\n",
    "def _check_label_array(y, name=None, check_sequential=False):\n",
    "    err = ValueError(\"{label} must be an array of {integers}.\".format(\n",
    "        label = 'labels' if name is None else name,\n",
    "        integers = ('sequential ' if check_sequential else '') + 'non-negative integers',\n",
    "    ))\n",
    "    is_array_of_integers(y) or _raise(err)\n",
    "    if check_sequential:\n",
    "        label_are_sequential(y) or _raise(err)\n",
    "    else:\n",
    "        y.min() >= 0 or _raise(err)\n",
    "    return True\n",
    "\n",
    "\n",
    "def label_overlap(x, y, check=True):\n",
    "    if check:\n",
    "        _check_label_array(x,'x',True)\n",
    "        _check_label_array(y,'y',True)\n",
    "        x.shape == y.shape or _raise(ValueError(\"x and y must have the same shape\"))\n",
    "    return _label_overlap(x, y)\n",
    "\n",
    "@jit(nopython=True)\n",
    "def _label_overlap(x, y):\n",
    "    x = x.ravel()\n",
    "    y = y.ravel()\n",
    "    overlap = np.zeros((1+x.max(),1+y.max()), dtype=np.uint)\n",
    "    for i in range(len(x)):\n",
    "        overlap[x[i],y[i]] += 1\n",
    "    return overlap\n",
    "\n",
    "def get_ssim(x,y):\n",
    "    \n",
    "    similarity = mse(x,y)\n",
    "    \n",
    "    return similarity\n",
    "def intersection_over_union(overlap):\n",
    "    _check_label_array(overlap,'overlap')\n",
    "    if np.sum(overlap) == 0:\n",
    "        return overlap\n",
    "    n_pixels_pred = np.sum(overlap, axis=0, keepdims=True)\n",
    "    n_pixels_true = np.sum(overlap, axis=1, keepdims=True)\n",
    "    return overlap / (n_pixels_pred + n_pixels_true - overlap)\n",
    "\n",
    "matching_criteria['iou'] = intersection_over_union\n",
    "\n",
    "\n",
    "def intersection_over_true(overlap):\n",
    "    _check_label_array(overlap,'overlap')\n",
    "    if np.sum(overlap) == 0:\n",
    "        return overlap\n",
    "    n_pixels_true = np.sum(overlap, axis=1, keepdims=True)\n",
    "    return overlap / n_pixels_true\n",
    "\n",
    "matching_criteria['iot'] = intersection_over_true\n",
    "\n",
    "\n",
    "def intersection_over_pred(overlap):\n",
    "    _check_label_array(overlap,'overlap')\n",
    "    if np.sum(overlap) == 0:\n",
    "        return overlap\n",
    "    n_pixels_pred = np.sum(overlap, axis=0, keepdims=True)\n",
    "    return overlap / n_pixels_pred\n",
    "\n",
    "matching_criteria['iop'] = intersection_over_pred\n",
    "\n",
    "\n",
    "def precision(tp,fp,fn):\n",
    "    return tp/(tp+fp) if tp > 0 else 0\n",
    "def recall(tp,fp,fn):\n",
    "    return tp/(tp+fn) if tp > 0 else 0\n",
    "def accuracy(tp,fp,fn):\n",
    "    # also known as \"average precision\" (?)\n",
    "    # -> https://www.kaggle.com/c/data-science-bowl-2018#evaluation\n",
    "    return tp/(tp+fp+fn) if tp > 0 else 0\n",
    "def f1(tp,fp,fn):\n",
    "    # also known as \"dice coefficient\"\n",
    "    return (2*tp)/(2*tp+fp+fn) if tp > 0 else 0\n",
    "\n",
    "\n",
    "def _safe_divide(x,y):\n",
    "    return x/y if y>0 else 0.0\n",
    "\n",
    "def matching(y_true, y_pred, thresh=0.5, criterion='iot', report_matches=False):\n",
    "    \"\"\"Calculate detection/instance segmentation metrics between ground truth and predicted label images.\n",
    "    Currently, the following metrics are implemented:\n",
    "    'fp', 'tp', 'fn', 'precision', 'recall', 'accuracy', 'f1', 'criterion', 'thresh', 'n_true', 'n_pred', 'mean_true_score', 'mean_matched_score', 'panoptic_quality'\n",
    "    Corresponding objects of y_true and y_pred are counted as true positives (tp), false positives (fp), and false negatives (fn)\n",
    "    whether their intersection over union (IoU) >= thresh (for criterion='iou', which can be changed)\n",
    "    * mean_matched_score is the mean IoUs of matched true positives\n",
    "    * mean_true_score is the mean IoUs of matched true positives but normalized by the total number of GT objects\n",
    "    * panoptic_quality defined as in Eq. 1 of Kirillov et al. \"Panoptic Segmentation\", CVPR 2019\n",
    "    Parameters\n",
    "    ----------\n",
    "    y_true: ndarray\n",
    "        ground truth label image (integer valued)\n",
    "        predicted label image (integer valued)\n",
    "    thresh: float\n",
    "        threshold for matching criterion (default 0.5)\n",
    "    criterion: string\n",
    "        matching criterion (default IoU)\n",
    "    report_matches: bool\n",
    "        if True, additionally calculate matched_pairs and matched_scores (note, that this returns even gt-pred pairs whose scores are below  'thresh')\n",
    "    Returns\n",
    "    -------\n",
    "    Matching object with different metrics as attributes\n",
    "    Examples\n",
    "    --------\n",
    "    >>> y_true = np.zeros((100,100), np.uint16)\n",
    "    >>> y_true[10:20,10:20] = 1\n",
    "    >>> y_pred = np.roll(y_true,5,axis = 0)\n",
    "    >>> stats = matching(y_true, y_pred)\n",
    "    >>> print(stats)\n",
    "    Matching(criterion='iou', thresh=0.5, fp=1, tp=0, fn=1, precision=0, recall=0, accuracy=0, f1=0, n_true=1, n_pred=1, mean_true_score=0.0, mean_matched_score=0.0, panoptic_quality=0.0)\n",
    "    \"\"\"\n",
    "    _check_label_array(y_true,'y_true')\n",
    "    _check_label_array(y_pred,'y_pred')\n",
    "    y_true.shape == y_pred.shape or _raise(ValueError(\"y_true ({y_true.shape}) and y_pred ({y_pred.shape}) have different shapes\".format(y_true=y_true, y_pred=y_pred)))\n",
    "    criterion in matching_criteria or _raise(ValueError(\"Matching criterion '%s' not supported.\" % criterion))\n",
    "    if thresh is None: thresh = 0\n",
    "    thresh = float(thresh) if np.isscalar(thresh) else map(float,thresh)\n",
    "\n",
    "    y_true, _, map_rev_true = relabel_sequential(y_true)\n",
    "    y_pred, _, map_rev_pred = relabel_sequential(y_pred)\n",
    "\n",
    "    overlap = label_overlap(y_true, y_pred, check=False)\n",
    "    normalized_root_mse = get_ssim(y_true, y_pred)\n",
    "    scores = matching_criteria[criterion](overlap)\n",
    "    assert 0 <= np.min(scores) <= np.max(scores) <= 1\n",
    "\n",
    "    # ignoring background\n",
    "    scores = scores[1:,1:]\n",
    "    n_true, n_pred = scores.shape\n",
    "    n_matched = min(n_true, n_pred)\n",
    "\n",
    "    def _single(thr):\n",
    "        not_trivial = n_matched > 0 and np.any(scores >= thr)\n",
    "        if not_trivial:\n",
    "            # compute optimal matching with scores as tie-breaker\n",
    "            costs = -(scores >= thr).astype(float) - scores / (2*n_matched)\n",
    "            true_ind, pred_ind = linear_sum_assignment(costs)\n",
    "            assert n_matched == len(true_ind) == len(pred_ind)\n",
    "            match_ok = scores[true_ind,pred_ind] >= thr\n",
    "            tp = np.count_nonzero(match_ok)\n",
    "        else:\n",
    "            tp = 0\n",
    "        fp = n_pred - tp\n",
    "        fn = n_true - tp\n",
    "        # assert tp+fp == n_pred\n",
    "        # assert tp+fn == n_true\n",
    "\n",
    "        # the score sum over all matched objects (tp)\n",
    "        sum_matched_score = np.sum(scores[true_ind,pred_ind][match_ok]) if not_trivial else 0.0\n",
    "\n",
    "        # the score average over all matched objects (tp)\n",
    "        mean_matched_score = _safe_divide(sum_matched_score, tp)\n",
    "        # the score average over all gt/true objects\n",
    "        mean_true_score    = _safe_divide(sum_matched_score, n_true)\n",
    "        panoptic_quality   = _safe_divide(sum_matched_score, tp+fp/2+fn/2)\n",
    "\n",
    "        stats_dict = dict (\n",
    "            criterion          = criterion,\n",
    "            thresh             = thr,\n",
    "            fp                 = fp,\n",
    "            tp                 = tp,\n",
    "            fn                 = fn,\n",
    "            precision          = precision(tp,fp,fn),\n",
    "            recall             = recall(tp,fp,fn),\n",
    "            accuracy           = accuracy(tp,fp,fn),\n",
    "            f1                 = f1(tp,fp,fn),\n",
    "            n_true             = n_true,\n",
    "            n_pred             = n_pred,\n",
    "            mean_true_score    = mean_true_score,\n",
    "            mean_matched_score = mean_matched_score,\n",
    "            panoptic_quality   = panoptic_quality,\n",
    "            normalized_root_mse = normalized_root_mse,\n",
    "        )\n",
    "        if bool(report_matches):\n",
    "            if not_trivial:\n",
    "                stats_dict.update (\n",
    "                    # int() to be json serializable\n",
    "                    matched_pairs  = tuple((int(map_rev_true[i]),int(map_rev_pred[j])) for i,j in zip(1+true_ind,1+pred_ind)),\n",
    "                    matched_scores = tuple(scores[true_ind,pred_ind]),\n",
    "                    matched_tps    = tuple(map(int,np.flatnonzero(match_ok))),\n",
    "                )\n",
    "            else:\n",
    "                stats_dict.update (\n",
    "                    matched_pairs  = (),\n",
    "                    matched_scores = (),\n",
    "                    matched_tps    = (),\n",
    "                )\n",
    "        return namedtuple('Matching',stats_dict.keys())(*stats_dict.values())\n",
    "\n",
    "    return _single(thresh) if np.isscalar(thresh) else tuple(map(_single,thresh))\n",
    "\n",
    "\n",
    "\n",
    "def matching_dataset(y_true, y_pred, thresh=0.5, criterion='iou', by_image=False, show_progress=True, parallel=False):\n",
    "    \"\"\"matching metrics for list of images, see `stardist.matching.matching`\n",
    "    \"\"\"\n",
    "    len(y_true) == len(y_pred) or _raise(ValueError(\"y_true and y_pred must have the same length.\"))\n",
    "    return matching_dataset_lazy (\n",
    "        tuple(zip(y_true,y_pred)), thresh=thresh, criterion=criterion, by_image=by_image, show_progress=show_progress, parallel=parallel,\n",
    "    )\n",
    "\n",
    "\n",
    "\n",
    "def matching_dataset_lazy(y_gen, thresh=0.5, criterion='iou', by_image=False, show_progress=True, parallel=False):\n",
    "\n",
    "    expected_keys = set(('fp', 'tp', 'fn', 'normalized_root_mse', 'precision', 'recall', 'accuracy', 'f1', 'criterion', 'thresh', 'n_true', 'n_pred', 'mean_true_score', 'mean_matched_score', 'panoptic_quality'))\n",
    "    single_thresh = False\n",
    "    if np.isscalar(thresh):\n",
    "        single_thresh = True\n",
    "        thresh = (thresh,)\n",
    "\n",
    "    tqdm_kwargs = {}\n",
    "    tqdm_kwargs['disable'] = not bool(show_progress)\n",
    "    if int(show_progress) > 1:\n",
    "        tqdm_kwargs['total'] = int(show_progress)\n",
    "\n",
    "    # compute matching stats for every pair of label images\n",
    "    if parallel:\n",
    "        from concurrent.futures import ThreadPoolExecutor\n",
    "        fn = lambda pair: matching(*pair, thresh=thresh, criterion=criterion, report_matches=False)\n",
    "        with ThreadPoolExecutor() as pool:\n",
    "            stats_all = tuple(pool.map(fn, tqdm(y_gen,**tqdm_kwargs)))\n",
    "    else:\n",
    "        stats_all = tuple (\n",
    "            matching(y_t, y_p, thresh=thresh, criterion=criterion, report_matches=False)\n",
    "            for y_t,y_p in tqdm(y_gen,**tqdm_kwargs)\n",
    "        )\n",
    "\n",
    "    # accumulate results over all images for each threshold separately\n",
    "    n_images, n_threshs = len(stats_all), len(thresh)\n",
    "    accumulate = [{} for _ in range(n_threshs)]\n",
    "    for stats in stats_all:\n",
    "        for i,s in enumerate(stats):\n",
    "            acc = accumulate[i]\n",
    "            for k,v in s._asdict().items():\n",
    "                if k == 'mean_true_score' and not bool(by_image):\n",
    "                    # convert mean_true_score to \"sum_matched_score\"\n",
    "                    acc[k] = acc.setdefault(k,0) + v * s.n_true\n",
    "                else:\n",
    "                    try:\n",
    "                        acc[k] = acc.setdefault(k,0) + v\n",
    "                    except TypeError:\n",
    "                        pass\n",
    "    # normalize/compute 'precision', 'recall', 'accuracy', 'f1'\n",
    "    for thr,acc in zip(thresh,accumulate):\n",
    "        set(acc.keys()) == expected_keys or _raise(ValueError(\"unexpected keys\"))\n",
    "        acc['criterion'] = criterion\n",
    "        acc['thresh'] = thr\n",
    "        acc['by_image'] = bool(by_image)\n",
    "        if bool(by_image):\n",
    "            for k in ('precision', 'recall', 'accuracy', 'f1', 'mean_true_score', 'mean_matched_score', 'panoptic_quality'):\n",
    "                acc[k] /= n_images\n",
    "        else:\n",
    "            tp, fp, fn, n_true, normalized_root_mse = acc['tp'], acc['fp'], acc['fn'], acc['n_true'], acc['normalized_root_mse']\n",
    "            sum_matched_score = acc['mean_true_score']\n",
    "\n",
    "            mean_matched_score = _safe_divide(sum_matched_score, tp)\n",
    "            mean_true_score    = _safe_divide(sum_matched_score, n_true)\n",
    "            panoptic_quality   = _safe_divide(sum_matched_score, tp+fp/2+fn/2)\n",
    "\n",
    "            acc.update(\n",
    "                precision          = precision(tp,fp,fn),\n",
    "                recall             = recall(tp,fp,fn),\n",
    "                accuracy           = accuracy(tp,fp,fn),\n",
    "                f1                 = f1(tp,fp,fn),\n",
    "                mean_true_score    = mean_true_score,\n",
    "                mean_matched_score = mean_matched_score,\n",
    "                panoptic_quality   = panoptic_quality,\n",
    "                normalized_root_mse = normalized_root_mse,\n",
    "            )\n",
    "\n",
    "    accumulate = tuple(namedtuple('DatasetMatching',acc.keys())(*acc.values()) for acc in accumulate)\n",
    "    return accumulate[0] if single_thresh else accumulate\n",
    "\n",
    "\n",
    "\n",
    "# copied from scikit-image master for now (remove when part of a release)\n",
    "def relabel_sequential(label_field, offset=1):\n",
    "    \"\"\"Relabel arbitrary labels to {`offset`, ... `offset` + number_of_labels}.\n",
    "    This function also returns the forward map (mapping the original labels to\n",
    "    the reduced labels) and the inverse map (mapping the reduced labels back\n",
    "    to the original ones).\n",
    "    Parameters\n",
    "    ----------\n",
    "    label_field : numpy array of int, arbitrary shape\n",
    "        An array of labels, which must be non-negative integers.\n",
    "    offset : int, optional\n",
    "        The return labels will start at `offset`, which should be\n",
    "        strictly positive.\n",
    "    Returns\n",
    "    -------\n",
    "    relabeled : numpy array of int, same shape as `label_field`\n",
    "        The input label field with labels mapped to\n",
    "        {offset, ..., number_of_labels + offset - 1}.\n",
    "        The data type will be the same as `label_field`, except when\n",
    "        offset + number_of_labels causes overflow of the current data type.\n",
    "    forward_map : numpy array of int, shape ``(label_field.max() + 1,)``\n",
    "        The map from the original label space to the returned label\n",
    "        space. Can be used to re-apply the same mapping. See examples\n",
    "        for usage. The data type will be the same as `relabeled`.\n",
    "    inverse_map : 1D numpy array of int, of length offset + number of labels\n",
    "        The map from the new label space to the original space. This\n",
    "        can be used to reconstruct the original label field from the\n",
    "        relabeled one. The data type will be the same as `relabeled`.\n",
    "    Notes\n",
    "    -----\n",
    "    The label 0 is assumed to denote the background and is never remapped.\n",
    "    The forward map can be extremely big for some inputs, since its\n",
    "    length is given by the maximum of the label field. However, in most\n",
    "    situations, ``label_field.max()`` is much smaller than\n",
    "    ``label_field.size``, and in these cases the forward map is\n",
    "    guaranteed to be smaller than either the input or output images.\n",
    "    Examples\n",
    "    --------\n",
    "    >>> from skimage.segmentation import relabel_sequential\n",
    "    >>> label_field = np.array([1, 1, 5, 5, 8, 99, 42])\n",
    "    >>> relab, fw, inv = relabel_sequential(label_field)\n",
    "    >>> relab\n",
    "    array([1, 1, 2, 2, 3, 5, 4])\n",
    "    >>> fw\n",
    "    array([0, 1, 0, 0, 0, 2, 0, 0, 3, 0, 0, 0, 0, 0, 0, 0, 0, 0, 0, 0, 0, 0,\n",
    "           0, 0, 0, 0, 0, 0, 0, 0, 0, 0, 0, 0, 0, 0, 0, 0, 0, 0, 0, 0, 4, 0,\n",
    "           0, 0, 0, 0, 0, 0, 0, 0, 0, 0, 0, 0, 0, 0, 0, 0, 0, 0, 0, 0, 0, 0,\n",
    "           0, 0, 0, 0, 0, 0, 0, 0, 0, 0, 0, 0, 0, 0, 0, 0, 0, 0, 0, 0, 0, 0,\n",
    "           0, 0, 0, 0, 0, 0, 0, 0, 0, 0, 0, 5])\n",
    "    >>> inv\n",
    "    array([ 0,  1,  5,  8, 42, 99])\n",
    "    >>> (fw[label_field] == relab).all()\n",
    "    True\n",
    "    >>> (inv[relab] == label_field).all()\n",
    "    True\n",
    "    >>> relab, fw, inv = relabel_sequential(label_field, offset=5)\n",
    "    >>> relab\n",
    "    array([5, 5, 6, 6, 7, 9, 8])\n",
    "    \"\"\"\n",
    "    offset = int(offset)\n",
    "    if offset <= 0:\n",
    "        raise ValueError(\"Offset must be strictly positive.\")\n",
    "    if np.min(label_field) < 0:\n",
    "        raise ValueError(\"Cannot relabel array that contains negative values.\")\n",
    "    max_label = int(label_field.max()) # Ensure max_label is an integer\n",
    "    if not np.issubdtype(label_field.dtype, np.integer):\n",
    "        new_type = np.min_scalar_type(max_label)\n",
    "        label_field = label_field.astype(new_type)\n",
    "    labels = np.unique(label_field)\n",
    "    labels0 = labels[labels != 0]\n",
    "    new_max_label = offset - 1 + len(labels0)\n",
    "    new_labels0 = np.arange(offset, new_max_label + 1)\n",
    "    output_type = label_field.dtype\n",
    "    required_type = np.min_scalar_type(new_max_label)\n",
    "    if np.dtype(required_type).itemsize > np.dtype(label_field.dtype).itemsize:\n",
    "        output_type = required_type\n",
    "    forward_map = np.zeros(max_label + 1, dtype=output_type)\n",
    "    forward_map[labels0] = new_labels0\n",
    "    inverse_map = np.zeros(new_max_label + 1, dtype=output_type)\n",
    "    inverse_map[offset:] = labels0\n",
    "    relabeled = forward_map[label_field]\n",
    "    return relabeled, forward_map, inverse_map\n"
   ]
  },
  {
   "cell_type": "code",
   "execution_count": 7,
   "metadata": {},
   "outputs": [
    {
     "name": "stderr",
     "output_type": "stream",
     "text": [
      "100%|██████████| 10/10 [00:03<00:00,  2.75it/s]\n",
      "100%|██████████| 10/10 [00:03<00:00,  3.10it/s]\n",
      "100%|██████████| 10/10 [00:03<00:00,  2.77it/s]\n"
     ]
    }
   ],
   "source": [
    "\n",
    "taus = [0.05,0.1, 0.2, 0.3, 0.4, 0.5, 0.6, 0.7, 0.8, 0.9]\n",
    "statsStar = [matching_dataset(GT, StarDist, thresh=t, show_progress=False) for t in tqdm(taus)]\n",
    "statsVoll = [matching_dataset(GT, VollSeg, thresh=t, show_progress=False) for t in tqdm(taus)]\n",
    "statsUnet = [matching_dataset(GT, BinarySeg, thresh=t, show_progress=False) for t in tqdm(taus)]"
   ]
  },
  {
   "cell_type": "markdown",
   "metadata": {},
   "source": [
    "# StarDist metrics"
   ]
  },
  {
   "cell_type": "code",
   "execution_count": 8,
   "metadata": {},
   "outputs": [
    {
     "data": {
      "image/png": "[encoded data removed]",
      "text/plain": [
       "<Figure size 432x288 with 1 Axes>"
      ]
     },
     "metadata": {
      "needs_background": "light"
     },
     "output_type": "display_data"
    }
   ],
   "source": [
    "for m in ('f1',):\n",
    "    plt.plot(taus, [s._asdict()[m] for s in statsVoll], '.-', lw=2, label=m) \n",
    "for m in ('f1',):\n",
    "    plt.plot(taus, [s._asdict()[m] for s in statsStar], '.-', lw=2, label=m)\n",
    "for m in ('f1',):\n",
    "    plt.plot(taus, [s._asdict()[m] for s in statsUnet], '.-', lw=2, label=m)     \n",
    "plt.xlabel(r'IoU threshold $\\tau$')\n",
    "plt.ylabel('F1')\n",
    "#ax1.grid()\n",
    "#ax1.legend()\n",
    "\n",
    "\n",
    "plt.savefig(Results + 'F1', dpi=300)"
   ]
  },
  {
   "cell_type": "code",
   "execution_count": 9,
   "metadata": {},
   "outputs": [
    {
     "data": {
      "image/png": "[encoded data removed]",
      "text/plain": [
       "<Figure size 432x288 with 1 Axes>"
      ]
     },
     "metadata": {
      "needs_background": "light"
     },
     "output_type": "display_data"
    }
   ],
   "source": [
    "\n",
    "for m in ('accuracy',):\n",
    "    plt.plot(taus, [s._asdict()[m] for s in statsVoll], '.-', lw=2, label=m) \n",
    "for m in ('accuracy',):\n",
    "    plt.plot(taus, [s._asdict()[m] for s in statsStar], '.-', lw=2, label=m)\n",
    "for m in ('accuracy',):\n",
    "    plt.plot(taus, [s._asdict()[m] for s in statsUnet], '.-', lw=2, label=m)     \n",
    "plt.xlabel(r'IoU threshold $\\tau$')\n",
    "plt.ylabel('Accuracy')\n",
    "#ax1.grid()\n",
    "#ax1.legend()\n",
    "\n",
    "\n",
    "plt.savefig(Results + 'Acc', dpi=300)"
   ]
  },
  {
   "cell_type": "code",
   "execution_count": 10,
   "metadata": {},
   "outputs": [
    {
     "data": {
      "image/png": "[encoded data removed]",
      "text/plain": [
       "<Figure size 432x288 with 1 Axes>"
      ]
     },
     "metadata": {
      "needs_background": "light"
     },
     "output_type": "display_data"
    }
   ],
   "source": [
    "for m in ('tp', ):\n",
    "    plt.plot(taus, [s._asdict()[m] for s in statsVoll], '.-', lw=2, label=m)\n",
    "for m in ('tp', ):\n",
    "    plt.plot(taus, [s._asdict()[m] for s in statsStar], '.-', lw=2, label=m)\n",
    "for m in ('tp', ):\n",
    "    plt.plot(taus, [s._asdict()[m] for s in statsUnet], '.-', lw=2, label=m)\n",
    "plt.xlabel(r'IoU threshold $\\tau$')\n",
    "plt.ylabel('True Positive')\n",
    "plt.savefig(Results + 'TP', dpi=300)\n",
    "#ax2.grid()\n",
    "#ax2.legend();"
   ]
  },
  {
   "cell_type": "code",
   "execution_count": 11,
   "metadata": {},
   "outputs": [
    {
     "data": {
      "image/png": "[encoded data removed]",
      "text/plain": [
       "<Figure size 432x288 with 1 Axes>"
      ]
     },
     "metadata": {
      "needs_background": "light"
     },
     "output_type": "display_data"
    }
   ],
   "source": [
    "for m in ('fp', ):\n",
    "    plt.plot(taus, [s._asdict()[m] for s in statsVoll], '.-', lw=2, label=m)\n",
    "for m in ('fp', ):\n",
    "    plt.plot(taus, [s._asdict()[m] for s in statsStar], '.-', lw=2, label=m)\n",
    "for m in ('fp', ):\n",
    "    plt.plot(taus, [s._asdict()[m] for s in statsUnet], '.-', lw=2, label=m)\n",
    "plt.xlabel(r'IoU threshold $\\tau$')\n",
    "plt.ylabel('Number #')\n",
    "plt.savefig(Results + 'FP', dpi=300)"
   ]
  },
  {
   "cell_type": "code",
   "execution_count": 12,
   "metadata": {},
   "outputs": [
    {
     "data": {
      "image/png": "[encoded data removed]",
      "text/plain": [
       "<Figure size 432x288 with 1 Axes>"
      ]
     },
     "metadata": {
      "needs_background": "light"
     },
     "output_type": "display_data"
    }
   ],
   "source": [
    "for m in ('fn', ):\n",
    "    plt.plot(taus, [s._asdict()[m] for s in statsVoll], '.-', lw=2, label=m)\n",
    "for m in ('fn', ):\n",
    "    plt.plot(taus, [s._asdict()[m] for s in statsStar], '.-', lw=2, label=m)\n",
    "for m in ('fn', ):\n",
    "    plt.plot(taus, [s._asdict()[m] for s in statsUnet], '.-', lw=2, label=m)\n",
    "plt.xlabel(r'IoU threshold $\\tau$')\n",
    "plt.ylabel('Number #')\n",
    "plt.savefig(Results + 'FN', dpi=300)"
   ]
  },
  {
   "cell_type": "markdown",
   "metadata": {},
   "source": [
    "# VollSeg metrics"
   ]
  },
  {
   "cell_type": "code",
   "execution_count": null,
   "metadata": {},
   "outputs": [],
   "source": [
    "fig, (ax1,ax2) = plt.subplots(1,2, figsize=(25,10))\n",
    "\n",
    "for m in ('precision', 'recall', 'accuracy', 'f1', 'mean_true_score', 'panoptic_quality'):\n",
    "    ax1.plot(taus, [s._asdict()[m] for s in statsVoll], '.-', lw=2, label=m)\n",
    "ax1.set_xlabel(r'IoU threshold $\\tau$')\n",
    "ax1.set_ylabel('Metric value')\n",
    "ax1.grid()\n",
    "#ax1.legend(loc=\"lower left\")\n",
    "\n",
    "for m in ('fp', 'tp', 'fn'):\n",
    "    ax2.plot(taus, [s._asdict()[m] for s in statsVoll], '.-', lw=2, label=m)\n",
    "ax2.set_xlabel(r'IoU threshold $\\tau$')\n",
    "ax2.set_ylabel('Number #')\n",
    "ax2.grid()\n",
    "ax2.legend();\n",
    "plt.savefig(Results + 'VollSeg', dpi=300)"
   ]
  },
  {
   "cell_type": "markdown",
   "metadata": {},
   "source": [
    "# Unet metrics"
   ]
  },
  {
   "cell_type": "code",
   "execution_count": null,
   "metadata": {},
   "outputs": [],
   "source": [
    "fig, (ax1,ax2) = plt.subplots(1,2, figsize=(25,10))\n",
    "\n",
    "for m in ('precision', 'recall', 'accuracy', 'f1', 'mean_true_score','panoptic_quality'):\n",
    "    ax1.plot(taus, [s._asdict()[m] for s in statsUnet], '.-', lw=2, label=m)\n",
    "ax1.set_xlabel(r'IoU threshold $\\tau$')\n",
    "ax1.set_ylabel('Metric value')\n",
    "ax1.grid()\n",
    "ax1.legend()\n",
    "\n",
    "for m in ('fp', 'tp', 'fn'):\n",
    "    ax2.plot(taus, [s._asdict()[m] for s in statsUnet], '.-', lw=2, label=m)\n",
    "ax2.set_xlabel(r'IoU threshold $\\tau$')\n",
    "ax2.set_ylabel('Number #')\n",
    "ax2.grid()\n",
    "ax2.legend();\n",
    "plt.savefig(Results + 'Unet', dpi=300)"
   ]
  },
  {
   "cell_type": "code",
   "execution_count": null,
   "metadata": {},
   "outputs": [],
   "source": []
  },
  {
   "cell_type": "code",
   "execution_count": null,
   "metadata": {},
   "outputs": [],
   "source": []
  },
  {
   "cell_type": "code",
   "execution_count": 23,
   "metadata": {},
   "outputs": [
    {
     "name": "stdout",
     "output_type": "stream",
     "text": [
      "     VollSeg  Stardist     U-Net\n",
      "0   0.457360  0.701289  0.454945\n",
      "1   0.700041  0.797256  0.698592\n",
      "2   0.750655  0.853891  0.750341\n",
      "3   1.088112  1.210110  1.068689\n",
      "4   0.367709  0.724601  0.376285\n",
      "5   0.498253  0.723692  0.501636\n",
      "6   0.475849  0.695362  0.479517\n",
      "7   0.316470  0.604259  0.332892\n",
      "8   0.581439  0.748242  0.587988\n",
      "9   0.386614  0.709262  0.384498\n",
      "10  0.426831  0.683782  0.414473\n",
      "11  0.422116  0.691496  0.410272\n"
     ]
    },
    {
     "data": {
      "image/png": "[encoded data removed]",
      "text/plain": [
       "<Figure size 432x288 with 1 Axes>"
      ]
     },
     "metadata": {},
     "output_type": "display_data"
    }
   ],
   "source": [
    "import pandas as pd\n",
    "df = pd.DataFrame(list(zip(Vollmse,Starmse,Binmse )), index = None,\n",
    "                                              columns =[\"VollSeg\",  \"Stardist\",\"U-Net\"])\n",
    "print(df)\n",
    "sns.set(style=\"whitegrid\")\n",
    "g = sns.violinplot(data=df, orient ='v')\n",
    "fig = g.get_figure()\n",
    "\n",
    "fig.savefig(Results  + \"MSE.png\", dpi=300)"
   ]
  },
  {
   "cell_type": "code",
   "execution_count": null,
   "metadata": {},
   "outputs": [],
   "source": []
  },
  {
   "cell_type": "code",
   "execution_count": null,
   "metadata": {},
   "outputs": [],
   "source": []
  }
 ],
 "metadata": {
  "kernelspec": {
   "display_name": "Python [conda env:tensorflowGPU]",
   "language": "python",
   "name": "conda-env-tensorflowGPU-py"
  },
  "language_info": {
   "codemirror_mode": {
    "name": "ipython",
    "version": 3
   },
   "file_extension": ".py",
   "mimetype": "text/x-python",
   "name": "python",
   "nbconvert_exporter": "python",
   "pygments_lexer": "ipython3",
   "version": "3.8.5"
  }
 },
 "nbformat": 4,
 "nbformat_minor": 2
}
