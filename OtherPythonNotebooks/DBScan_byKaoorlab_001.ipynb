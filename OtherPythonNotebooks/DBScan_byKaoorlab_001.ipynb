{
 "cells": [
  {
   "cell_type": "code",
   "execution_count": 1,
   "metadata": {},
   "outputs": [],
   "source": [
    "# adaped from: https://forum.image.sc/t/call4help-3d-dense-nuclei-segmentation-challenge/23462/12"
   ]
  },
  {
   "cell_type": "code",
   "execution_count": 2,
   "metadata": {},
   "outputs": [],
   "source": [
    "import tifffile as tif\n",
    "import os"
   ]
  },
  {
   "cell_type": "code",
   "execution_count": 3,
   "metadata": {},
   "outputs": [],
   "source": [
    "import cv2\n",
    "import numpy as np\n",
    "import matplotlib.pyplot as plt\n",
    "from scipy.ndimage import filters\n",
    "from sklearn.cluster import DBSCAN\n",
    "from skimage.filters import threshold_otsu\n",
    "from collections import namedtuple\n",
    "from scipy.ndimage.morphology import binary_fill_holes\n",
    "\n",
    "Cluster = namedtuple('Cluster', 'contour center area perimeter rectangle_min rectangle_max hull_length')\n",
    "\n",
    "\n",
    "def get_sobel_images(img_gray):\n",
    "    img_dx = filters.sobel(img_gray, 0)  # horizontal derivative\n",
    "    img_dy = filters.sobel(img_gray, 1)  # vertical derivative\n",
    "    img_sobel = np.hypot(img_dx, img_dy)  # magnitude\n",
    "\n",
    "    return img_dx, img_dy, img_sobel\n",
    "\n",
    "\n",
    "def get_grid_points(img_gray, mask):\n",
    "    # Make input matrix\n",
    "    img_size = img_gray.shape\n",
    "    X, Y = np.meshgrid(np.arange(img_size[1]), np.arange(img_size[0]))\n",
    "    grid_points = np.vstack([X[mask], Y[mask]]).T\n",
    "\n",
    "    return grid_points\n",
    "\n",
    "\n",
    "def get_cluster_list(grid_points, in_labels, img, options):\n",
    "\n",
    "    img_size = img.shape\n",
    "\n",
    "    # Number of clusters in labels, ignoring noise if present.\n",
    "    n_clusters = len(set(in_labels)) - (1 if -1 in in_labels else 0)\n",
    "   \n",
    "  \n",
    "\n",
    "    print('Estimated number of clusters: %d' % n_clusters)\n",
    "   \n",
    "\n",
    "    cluster_list = []\n",
    "    single_cluster_mask = np.zeros(img_size, dtype=np.uint8)\n",
    "    cluster_image = np.zeros(img_size, dtype=np.int32)\n",
    "\n",
    "    out_label = 1\n",
    "    # plt.figure(10)\n",
    "\n",
    "    for k in range(n_clusters):\n",
    "        cl_points_ind = in_labels == k\n",
    "\n",
    "        points = grid_points[cl_points_ind]\n",
    "\n",
    "        single_cluster_mask[points[:, 1], points[:, 0]] = 1\n",
    "        contour, _ = cv2.findContours(single_cluster_mask, cv2.RETR_EXTERNAL, cv2.CHAIN_APPROX_NONE)\n",
    "\n",
    "        for cont in contour:\n",
    "            # Calculate cluster properties\n",
    "            area = cv2.contourArea(cont)\n",
    "            # Ignore one pixel thin contours\n",
    "            if area > 0:\n",
    "                center = np.mean(np.squeeze(cont), axis=0)\n",
    "                min_rect = cv2.minAreaRect(cont)\n",
    "\n",
    "                rectangle_min = min(min_rect[1])\n",
    "                rectangle_max = max(min_rect[1])\n",
    "\n",
    "                perimeter = cv2.arcLength(cont, True)\n",
    "\n",
    "                # convex hull\n",
    "                hull = cv2.convexHull(cont)\n",
    "                hull_length = cv2.arcLength(hull, True)\n",
    "\n",
    "                cv2.drawContours(cluster_image, [cont], 0, out_label, thickness=cv2.FILLED)\n",
    "               \n",
    "                cluster_list.append(\n",
    "                    Cluster(np.squeeze(cont), center, area, perimeter, rectangle_min, rectangle_max, hull_length))\n",
    "\n",
    "                out_label += 1\n",
    "\n",
    "        # Clear cluster image (we want only one cluster at a time)\n",
    "        single_cluster_mask[:] = 0\n",
    "\n",
    "    return cluster_list, cluster_image\n",
    "\n",
    "\n",
    "def show_clusters_DBSCAN(img_gray, cluster_list):\n",
    "\n",
    "    colors = np.random.permutation(plt.cm.Spectral(np.linspace(0, 1, len(cluster_list))))\n",
    "\n",
    "    for cluster, col in zip(cluster_list, colors):\n",
    "        plt.plot(cluster.contour[:, 0], cluster.contour[:, 1], '.', color=col, alpha=0.5)\n",
    "     \n",
    "    plt.title('Estimated number of clusters: %d' % len(cluster_list))\n",
    "    return cluster\n",
    "\n",
    "\n",
    "\n",
    "\n",
    "\n",
    "\n",
    "def segment_dbscan(img_gray, options):\n",
    "\n",
    "    blur_kernel = (int(options[\"BlurKernelSize\"]), int(options[\"BlurKernelSize\"]))\n",
    "    img_blur = cv2.GaussianBlur(img_gray, blur_kernel, options[\"BlurSigma\"])\n",
    "    _, _, img_sobel = get_sobel_images(img_blur.astype(np.float)/255)\n",
    "    \n",
    "    thresh = threshold_otsu(img_blur)\n",
    "    mask = img_blur > thresh\n",
    "    mask = binary_fill_holes(mask)\n",
    "    # Ignore Otsu's threshold if it is too low (e.g., because of the dust etc.)\n",
    "    if thresh < options['IntensityThreshold']:\n",
    "        mask = (img_blur > options['IntensityThreshold'])\n",
    "\n",
    "    mask = mask.view(np.bool)\n",
    "    \n",
    "    # define point weights for DBSCAN clustering\n",
    "    weights = 1 - img_sobel[mask] / (img_blur[mask] / 255.0)\n",
    "    \n",
    "    # pick only points inside rough binary mask (to increase speed)\n",
    "    grid_points = get_grid_points(img_gray, mask)\n",
    "     \n",
    "    # perform DBSCAN clustering\n",
    "    db = DBSCAN(options['Clustering']['Eps'], options['Clustering']['MinDensity']).fit(grid_points, sample_weight=weights)\n",
    "    labels = db.labels_\n",
    "    n_noise_ = list(labels).count(-1)\n",
    "    print('Estimated number of noise points: %d' % n_noise_)\n",
    "    cluster_list, cluster_image = get_cluster_list(grid_points, db.labels_, img_gray, options)\n",
    "    \n",
    "    return cluster_list, cluster_image"
   ]
  },
  {
   "cell_type": "code",
   "execution_count": 4,
   "metadata": {},
   "outputs": [
    {
     "name": "stdout",
     "output_type": "stream",
     "text": [
      "(2, 266, 245)\n"
     ]
    }
   ],
   "source": [
    "# load file\n",
    "root = \"/home/sancere/Downloads/\"\n",
    "fn = \"Test.tif\"\n",
    "fp = os.path.join(root,fn)\n",
    "img = tif.imread(fp)\n",
    "print(img.shape)"
   ]
  },
  {
   "cell_type": "code",
   "execution_count": 9,
   "metadata": {},
   "outputs": [],
   "source": [
    "# set options\n",
    "\n",
    "opt = {}\n",
    "opt[\"BlurKernelSize\"] = 3\n",
    "opt[\"BlurSigma\"] = 3\n",
    "opt[\"IntensityThreshold\"] = 127\n",
    "\n",
    "opt[\"Clustering\"] = {}\n",
    "opt[\"Clustering\"][\"Eps\"] = 2\n",
    "opt[\"Clustering\"][\"MinDensity\"] = 2"
   ]
  },
  {
   "cell_type": "code",
   "execution_count": 10,
   "metadata": {
    "scrolled": false
   },
   "outputs": [
    {
     "name": "stdout",
     "output_type": "stream",
     "text": [
      "Estimated number of noise points: 16\n",
      "Estimated number of clusters: 2\n"
     ]
    },
    {
     "data": {
      "image/png": "[encoded data removed]",
      "text/plain": [
       "<Figure size 432x288 with 1 Axes>"
      ]
     },
     "metadata": {
      "needs_background": "light"
     },
     "output_type": "display_data"
    },
    {
     "name": "stdout",
     "output_type": "stream",
     "text": [
      "Estimated number of noise points: 6\n",
      "Estimated number of clusters: 2\n"
     ]
    },
    {
     "data": {
      "image/png": "[encoded data removed]",
      "text/plain": [
       "<Figure size 432x288 with 1 Axes>"
      ]
     },
     "metadata": {
      "needs_background": "light"
     },
     "output_type": "display_data"
    }
   ],
   "source": [
    "from tqdm import tqdm\n",
    "from tifffile import imwrite\n",
    "ci = np.zeros([img.shape[0], img.shape[1], img.shape[2]])\n",
    "\n",
    "for i in range(0, img.shape[0]):\n",
    "  cl, ci[i,:] = segment_dbscan(img[i,:], opt)\n",
    "  plt.imshow(ci[i,:])\n",
    "  plt.show()  \n",
    "\n",
    "imwrite(root + 'DBSCANResult' + '.tif', ci.astype('float32'))"
   ]
  },
  {
   "cell_type": "code",
   "execution_count": null,
   "metadata": {},
   "outputs": [],
   "source": []
  },
  {
   "cell_type": "code",
   "execution_count": null,
   "metadata": {},
   "outputs": [],
   "source": []
  }
 ],
 "metadata": {
  "kernelspec": {
   "display_name": "Python 3",
   "language": "python",
   "name": "python3"
  },
  "language_info": {
   "codemirror_mode": {
    "name": "ipython",
    "version": 3
   },
   "file_extension": ".py",
   "mimetype": "text/x-python",
   "name": "python",
   "nbconvert_exporter": "python",
   "pygments_lexer": "ipython3",
   "version": "3.7.4"
  }
 },
 "nbformat": 4,
 "nbformat_minor": 2
}
