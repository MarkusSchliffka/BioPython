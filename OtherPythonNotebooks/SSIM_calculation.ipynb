{
 "cells": [
  {
   "cell_type": "code",
   "execution_count": 18,
   "id": "9f9ca070",
   "metadata": {},
   "outputs": [],
   "source": [
    "\n",
    "from tifffile import imread \n",
    "from skimage.metrics import structural_similarity as ssim\n",
    "from skimage.metrics import mean_squared_error as mse"
   ]
  },
  {
   "cell_type": "code",
   "execution_count": 22,
   "id": "db0bd032",
   "metadata": {},
   "outputs": [
    {
     "name": "stdout",
     "output_type": "stream",
     "text": [
      "For model prediction A, the similarity between the images is:  0.9580488946961191\n",
      "For model prediction B, the similarity between the images is:  0.9580488970212679\n",
      "For model prediction C, the similarity between the images is:  0.9600036072217829\n",
      "For model prediction D, the similarity between the images is:  0.9576112670068625\n"
     ]
    }
   ],
   "source": [
    "PredictionA = imread('/home/sancere/Kepler/ClaudiaTracking/Mari/training/quality_control/input/d4f32prediction/care3d_c2_8.tif')\n",
    "PredictionB = imread('/home/sancere/Kepler/ClaudiaTracking/Mari/training/quality_control/input/d4f48prediction/care3d_c2_8.tif')\n",
    "PredictionC = imread('/home/sancere/Kepler/ClaudiaTracking/Mari/training/quality_control/input/d3f48prediction/care3d_c2_8.tif')\n",
    "PredictionD = imread('/home/sancere/Kepler/ClaudiaTracking/Mari/training/quality_control/input/Mari_model_prediction/care3d_c2_8.tif')\n",
    "\n",
    "Control = imread('/home/sancere/Kepler/ClaudiaTracking/Mari/training/quality_control/output/care3d_c2_8.tif')\n",
    "\n",
    "\n",
    "\n",
    "\n",
    "\n",
    "Structural_SimilarityA = ssim(PredictionA, Control, data_range = PredictionA.max() - PredictionA.min())\n",
    "print('For model prediction A, the similarity between the images is: ', Structural_SimilarityA )\n",
    "\n",
    "Structural_SimilarityB = ssim(PredictionB, Control, data_range = PredictionB.max() - PredictionB.min())\n",
    "print('For model prediction B, the similarity between the images is: ', Structural_SimilarityB )\n",
    "\n",
    "Structural_SimilarityC = ssim(PredictionC, Control, data_range = PredictionC.max() - PredictionC.min())\n",
    "print('For model prediction C, the similarity between the images is: ', Structural_SimilarityC )\n",
    "\n",
    "Structural_SimilarityD = ssim(PredictionD, Control, data_range = PredictionD.max() - PredictionD.min())\n",
    "print('For model prediction D, the similarity between the images is: ', Structural_SimilarityD )\n"
   ]
  },
  {
   "cell_type": "code",
   "execution_count": 23,
   "id": "b7d085e3",
   "metadata": {},
   "outputs": [
    {
     "name": "stdout",
     "output_type": "stream",
     "text": [
      "For model prediction A, the mse between the images is:  29.351609154601437\n",
      "For model prediction B, the mse between the images is:  29.351609088383732\n",
      "For model prediction C, the mse between the images is:  24.44421073090754\n",
      "For model prediction D, the mse between the images is:  30.350214751533635\n"
     ]
    }
   ],
   "source": [
    "mseA = mse(PredictionA, Control)\n",
    "print('For model prediction A, the mse between the images is: ', mseA )\n",
    "\n",
    "mseB = mse(PredictionB, Control)\n",
    "print('For model prediction B, the mse between the images is: ', mseB )\n",
    "\n",
    "mseC = mse(PredictionC, Control)\n",
    "print('For model prediction C, the mse between the images is: ', mseC )\n",
    "\n",
    "mseD = mse(PredictionD, Control)\n",
    "print('For model prediction D, the mse between the images is: ', mseD )"
   ]
  },
  {
   "cell_type": "code",
   "execution_count": null,
   "id": "d2096a53",
   "metadata": {},
   "outputs": [],
   "source": []
  }
 ],
 "metadata": {
  "kernelspec": {
   "display_name": "Python 3",
   "language": "python",
   "name": "python3"
  },
  "language_info": {
   "codemirror_mode": {
    "name": "ipython",
    "version": 3
   },
   "file_extension": ".py",
   "mimetype": "text/x-python",
   "name": "python",
   "nbconvert_exporter": "python",
   "pygments_lexer": "ipython3",
   "version": "3.8.8"
  }
 },
 "nbformat": 4,
 "nbformat_minor": 5
}
