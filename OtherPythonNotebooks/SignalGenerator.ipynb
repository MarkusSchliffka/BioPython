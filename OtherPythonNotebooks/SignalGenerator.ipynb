{
 "cells": [
  {
   "cell_type": "code",
   "execution_count": null,
   "metadata": {},
   "outputs": [],
   "source": [
    "import csv\n",
    "import pandas as pd\n",
    "import math\n",
    "import matplotlib.pyplot as plt\n",
    "from pathlib import Path\n",
    "Results = '/Users/aimachine/ChirpTest/'\n",
    "Path(Results).mkdir(exist_ok=True)\n",
    "T = 150\n",
    "omega = 0.1\n",
    "omegahigh = 0.5\n",
    "c = (omegahigh - omega) / T\n",
    "deltaT = 0.5\n",
    "Tlist = []\n",
    "Ilist = []\n",
    "for i in range(T):\n",
    "    t = i * deltaT\n",
    "    Tlist.append(t)\n",
    "    \n",
    "    Ilist.append( 0.001 * t * math.cos(2*3.14 * (omega * t + 0.5 * c * t * t)))\n",
    "plt.plot(Tlist, Ilist)\n",
    "plt.show()\n",
    "df = pd.DataFrame(list(zip(Tlist, Ilist)), index= None, columns = ['Time', 'Amplitude'])\n",
    "df.to_csv(Results + '/' + 'RealChirp' +  '.csv', index = None)  \n",
    "df"
   ]
  }
 ],
 "metadata": {
  "kernelspec": {
   "display_name": "Python [conda env:NapariTrack]",
   "language": "python",
   "name": "conda-env-NapariTrack-py"
  },
  "language_info": {
   "codemirror_mode": {
    "name": "ipython",
    "version": 3
   },
   "file_extension": ".py",
   "mimetype": "text/x-python",
   "name": "python",
   "nbconvert_exporter": "python",
   "pygments_lexer": "ipython3",
   "version": "3.9.0"
  }
 },
 "nbformat": 4,
 "nbformat_minor": 4
}
