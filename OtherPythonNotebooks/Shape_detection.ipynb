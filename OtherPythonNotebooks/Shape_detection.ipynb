{
 "cells": [
  {
   "cell_type": "code",
   "execution_count": 36,
   "id": "f8114656",
   "metadata": {},
   "outputs": [
    {
     "data": {
      "image/png": "[encoded data removed]",
      "text/plain": [
       "<Figure size 432x288 with 1 Axes>"
      ]
     },
     "metadata": {
      "needs_background": "light"
     },
     "output_type": "display_data"
    },
    {
     "data": {
      "image/png": "[encoded data removed]",
      "text/plain": [
       "<Figure size 432x288 with 1 Axes>"
      ]
     },
     "metadata": {
      "needs_background": "light"
     },
     "output_type": "display_data"
    }
   ],
   "source": [
    "import cv2\n",
    "import numpy as np\n",
    "from scipy.ndimage.morphology import binary_dilation, binary_erosion\n",
    "from scipy.ndimage.morphology import binary_fill_holes\n",
    "from tifffile import imread, imwrite\n",
    "import matplotlib.pyplot as plt\n",
    "from skimage.filters import threshold_otsu\n",
    "from skimage.morphology import skeletonize\n",
    "fname = 'C:/Users/rando/Downloads/raw.tif'\n",
    "iterations = 5\n",
    "font = cv2.FONT_HERSHEY_COMPLEX\n",
    "BinaryImage = imread(fname)\n",
    "thresh = threshold_otsu(BinaryImage)\n",
    "BinaryImage = BinaryImage > thresh\n",
    "BinaryImage = binary_fill_holes(binary_dilation(BinaryImage, iterations=iterations)) \n",
    "BinaryImage = binary_erosion(BinaryImage, iterations=iterations)\n",
    "BinaryImage = BinaryImage.astype('uint8')\n",
    "\n",
    "plt.imshow(BinaryImage)\n",
    "plt.show()\n",
    "contours, hierarchy = cv2.findContours(BinaryImage, cv2.RETR_TREE, cv2.CHAIN_APPROX_SIMPLE)\n",
    "\n",
    "image = np.zeros(BinaryImage.shape)\n",
    "# draw the contours on the empty image\n",
    "\n",
    "cv2.drawContours(image, contours, -1, (255,255,255), 3)\n",
    "image = image > 0\n",
    "image = skeletonize(image)\n",
    "imwrite('C:/Users/rando/Downloads/contours' + '.tif',image) \n",
    "plt.imshow(image)\n",
    "plt.show()\n"
   ]
  },
  {
   "cell_type": "code",
   "execution_count": 37,
   "id": "c50eac8f",
   "metadata": {},
   "outputs": [
    {
     "name": "stdout",
     "output_type": "stream",
     "text": [
      "(array([[[ 48,  75]],\n",
      "\n",
      "       [[ 47,  76]],\n",
      "\n",
      "       [[ 44,  76]],\n",
      "\n",
      "       [[ 41,  79]],\n",
      "\n",
      "       [[ 41,  80]],\n",
      "\n",
      "       [[ 40,  81]],\n",
      "\n",
      "       [[ 40,  82]],\n",
      "\n",
      "       [[ 39,  83]],\n",
      "\n",
      "       [[ 39,  84]],\n",
      "\n",
      "       [[ 40,  85]],\n",
      "\n",
      "       [[ 40,  86]],\n",
      "\n",
      "       [[ 39,  87]],\n",
      "\n",
      "       [[ 39,  88]],\n",
      "\n",
      "       [[ 35,  92]],\n",
      "\n",
      "       [[ 35,  94]],\n",
      "\n",
      "       [[ 34,  95]],\n",
      "\n",
      "       [[ 34, 101]],\n",
      "\n",
      "       [[ 30, 105]],\n",
      "\n",
      "       [[ 30, 106]],\n",
      "\n",
      "       [[ 29, 107]],\n",
      "\n",
      "       [[ 29, 110]],\n",
      "\n",
      "       [[ 28, 111]],\n",
      "\n",
      "       [[ 29, 112]],\n",
      "\n",
      "       [[ 29, 114]],\n",
      "\n",
      "       [[ 30, 115]],\n",
      "\n",
      "       [[ 30, 116]],\n",
      "\n",
      "       [[ 31, 116]],\n",
      "\n",
      "       [[ 33, 118]],\n",
      "\n",
      "       [[ 36, 118]],\n",
      "\n",
      "       [[ 37, 119]],\n",
      "\n",
      "       [[ 39, 119]],\n",
      "\n",
      "       [[ 40, 118]],\n",
      "\n",
      "       [[ 42, 118]],\n",
      "\n",
      "       [[ 43, 117]],\n",
      "\n",
      "       [[ 44, 117]],\n",
      "\n",
      "       [[ 45, 116]],\n",
      "\n",
      "       [[ 49, 116]],\n",
      "\n",
      "       [[ 50, 117]],\n",
      "\n",
      "       [[ 54, 117]],\n",
      "\n",
      "       [[ 55, 116]],\n",
      "\n",
      "       [[ 56, 116]],\n",
      "\n",
      "       [[ 57, 115]],\n",
      "\n",
      "       [[ 59, 115]],\n",
      "\n",
      "       [[ 60, 114]],\n",
      "\n",
      "       [[ 64, 114]],\n",
      "\n",
      "       [[ 65, 115]],\n",
      "\n",
      "       [[ 66, 115]],\n",
      "\n",
      "       [[ 67, 114]],\n",
      "\n",
      "       [[ 68, 115]],\n",
      "\n",
      "       [[ 69, 114]],\n",
      "\n",
      "       [[ 71, 114]],\n",
      "\n",
      "       [[ 75, 110]],\n",
      "\n",
      "       [[ 75, 103]],\n",
      "\n",
      "       [[ 74, 102]],\n",
      "\n",
      "       [[ 74, 101]],\n",
      "\n",
      "       [[ 73, 101]],\n",
      "\n",
      "       [[ 66,  94]],\n",
      "\n",
      "       [[ 66,  92]],\n",
      "\n",
      "       [[ 65,  91]],\n",
      "\n",
      "       [[ 65,  90]],\n",
      "\n",
      "       [[ 57,  82]],\n",
      "\n",
      "       [[ 57,  80]],\n",
      "\n",
      "       [[ 53,  76]],\n",
      "\n",
      "       [[ 50,  76]],\n",
      "\n",
      "       [[ 49,  75]]], dtype=int32),)\n"
     ]
    }
   ],
   "source": [
    "print(contours)"
   ]
  },
  {
   "cell_type": "code",
   "execution_count": null,
   "id": "4e931a8d",
   "metadata": {},
   "outputs": [],
   "source": [
    "\n"
   ]
  }
 ],
 "metadata": {
  "kernelspec": {
   "display_name": "Python [conda env:naparienv] *",
   "language": "python",
   "name": "conda-env-naparienv-py"
  },
  "language_info": {
   "codemirror_mode": {
    "name": "ipython",
    "version": 3
   },
   "file_extension": ".py",
   "mimetype": "text/x-python",
   "name": "python",
   "nbconvert_exporter": "python",
   "pygments_lexer": "ipython3",
   "version": "3.9.0"
  }
 },
 "nbformat": 4,
 "nbformat_minor": 5
}
