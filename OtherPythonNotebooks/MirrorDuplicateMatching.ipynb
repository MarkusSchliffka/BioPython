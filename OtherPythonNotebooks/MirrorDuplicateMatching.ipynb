{
 "cells": [
  {
   "cell_type": "code",
   "execution_count": 4,
   "metadata": {},
   "outputs": [],
   "source": [
    "import os\n",
    "import glob\n",
    "from tifffile import imread, imwrite\n",
    "from pathlib import Path\n",
    "import numpy as np       "
   ]
  },
  {
   "cell_type": "code",
   "execution_count": 8,
   "metadata": {},
   "outputs": [],
   "source": [
    "Imagedir = '/run/media/kapoorlab/a16689d2-2f12-4219-9a7a-4e5a19b8f91a/Buds/MaxBudtif/'\n",
    "Maskdir = '/run/media/kapoorlab/a16689d2-2f12-4219-9a7a-4e5a19b8f91a/Buds/BinaryMask_Corrected/'\n",
    "ResizeImagedir = '/run/media/kapoorlab/a16689d2-2f12-4219-9a7a-4e5a19b8f91a/Buds/ResizeMaxBudtif/'\n",
    "ResizeMaskdir = '/run/media/kapoorlab/a16689d2-2f12-4219-9a7a-4e5a19b8f91a/Buds/ResizeBinaryMask_Corrected/'\n",
    "\n",
    "Raw_path = os.path.join(Imagedir, '*tif')\n",
    "X = glob.glob(Raw_path)\n",
    "\n",
    "Mask_path = os.path.join(Maskdir, '*tif')\n",
    "Y = glob.glob(Mask_path)\n",
    "\n",
    "Size = [1024, 1024]\n",
    "Path(ResizeImagedir).mkdir(exist_ok=True)\n",
    "Path(ResizeMaskdir).mkdir(exist_ok=True)"
   ]
  },
  {
   "cell_type": "code",
   "execution_count": 12,
   "metadata": {},
   "outputs": [],
   "source": [
    "for fname in X:\n",
    "    for secondfname in Y:\n",
    "            Name = os.path.basename(os.path.splitext(fname)[0])\n",
    "            SecondName = os.path.basename(os.path.splitext(secondfname)[0])\n",
    "            \n",
    "            if Name == SecondName:\n",
    "                Image = imread(fname)\n",
    "                MaskImage = imread(secondfname)\n",
    "                \n",
    "                ResizeImage = np.zeros([Size[0], Size[1]])\n",
    "                ResizeMask = np.zeros([Size[0], Size[1]])\n",
    "                \n",
    "                ResizeImage[0:Image.shape[0], 0:Image.shape[1]] = Image\n",
    "                ResizeImage[Image.shape[0]:, Image.shape[1]:] = Image[0:Size[0]-Image.shape[0], 0:Size[1]-Image.shape[1]]\n",
    "                \n",
    "                ResizeImage[Image.shape[0]:, :Image.shape[1]] = Image[0:Size[0]-Image.shape[0], :]\n",
    "                \n",
    "                ResizeImage[:Image.shape[0], Image.shape[1]:] = Image[:, 0:Size[1]-Image.shape[1]]\n",
    "\n",
    "\n",
    "                \n",
    "                \n",
    "                ResizeMask[0:Image.shape[0], 0:Image.shape[1]] = MaskImage\n",
    "                ResizeMask[Image.shape[0]:, Image.shape[1]:] = MaskImage[0:Size[0]-Image.shape[0], 0:Size[1]-Image.shape[1]]\n",
    "                \n",
    "                ResizeMask[Image.shape[0]:, :Image.shape[1]] = MaskImage[0:Size[0]-Image.shape[0], :]\n",
    "                \n",
    "                ResizeMask[:Image.shape[0], Image.shape[1]:] = MaskImage[:, 0:Size[1]-Image.shape[1]]\n",
    "                \n",
    "                \n",
    "                imwrite(ResizeImagedir + '/' + Name + '.tif', ResizeImage.astype('float32'))\n",
    "                imwrite(ResizeMaskdir + '/' + Name + '.tif', ResizeMask.astype('uint16'))"
   ]
  },
  {
   "cell_type": "markdown",
   "metadata": {},
   "source": [
    " \n"
   ]
  },
  {
   "cell_type": "code",
   "execution_count": null,
   "metadata": {
    "scrolled": false
   },
   "outputs": [],
   "source": []
  },
  {
   "cell_type": "code",
   "execution_count": null,
   "metadata": {},
   "outputs": [],
   "source": []
  }
 ],
 "metadata": {
  "kernelspec": {
   "display_name": "Python 3",
   "language": "python",
   "name": "python3"
  },
  "language_info": {
   "codemirror_mode": {
    "name": "ipython",
    "version": 3
   },
   "file_extension": ".py",
   "mimetype": "text/x-python",
   "name": "python",
   "nbconvert_exporter": "python",
   "pygments_lexer": "ipython3",
   "version": "3.8.5"
  }
 },
 "nbformat": 4,
 "nbformat_minor": 2
}
