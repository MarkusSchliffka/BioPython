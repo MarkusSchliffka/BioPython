{
 "cells": [
  {
   "cell_type": "code",
   "execution_count": 1,
   "metadata": {},
   "outputs": [],
   "source": [
    "import os\n",
    "import glob\n",
    "from utils import normalizeFloatZeroOne,save_tiff_imagej_compatible\n",
    "from tifffile import imread\n",
    "import numpy as np\n",
    "try:\n",
    "    from pathlib import Path\n",
    "    Path().expanduser()\n",
    "except (ImportError, AttributeError):\n",
    "        from pathlib2 import Path\n",
    "\n",
    "try:\n",
    "        import tempfile\n",
    "        tempfile.TemporaryDirectory\n",
    "except (ImportError, AttributeError):\n",
    "       from backports import tempfile"
   ]
  },
  {
   "cell_type": "code",
   "execution_count": 2,
   "metadata": {},
   "outputs": [],
   "source": [
    "sourcedir = '/Users/aimachine/Claudia/Test/'\n",
    "resultsdir = '/Users/aimachine/Claudia/Test/NormalizedOriginal/'\n",
    "Path(resultsdir).mkdir(exist_ok = True)\n",
    "Raw_path = os.path.join(sourcedir, '*tif')\n",
    "X = glob.glob(Raw_path)\n",
    "Bigaxes = 'TYX'\n",
    "Smallaxes = 'YX'"
   ]
  },
  {
   "cell_type": "code",
   "execution_count": 3,
   "metadata": {},
   "outputs": [],
   "source": [
    "All3DImages = []\n",
    "All2DImages = []\n",
    "NameID2D = []\n",
    "NameID3D = []\n",
    "for fname in X:\n",
    "    image = imread(fname)\n",
    "    if len(image.shape) == 3:\n",
    "        NameID3D.append(os.path.basename(fname))\n",
    "        All3DImages.append(image)\n",
    "    if len(image.shape) == 2:\n",
    "        NameID2D.append(os.path.basename(fname))\n",
    "        All2DImages.append(image)"
   ]
  },
  {
   "cell_type": "code",
   "execution_count": 4,
   "metadata": {},
   "outputs": [],
   "source": [
    "for i in range(0, len(All2DImages)):\n",
    "        NormalizeOriginal = normalizeFloatZeroOne(All2DImages[i])\n",
    "        save_tiff_imagej_compatible((resultsdir + \"NormalizeOriginal\" + str(i) + '.tif' ) ,  All2DImages[i], Smallaxes)\n"
   ]
  },
  {
   "cell_type": "code",
   "execution_count": 5,
   "metadata": {},
   "outputs": [
    {
     "name": "stderr",
     "output_type": "stream",
     "text": [
      "/Users/aimachine/BioPython/utils.py:526: UserWarning: Converting data type from 'float64' to ImageJ-compatible 'float32'.\n",
      "  warnings.warn(\"Converting data type from '%s' to ImageJ-compatible '%s'.\" % (t, np.dtype(t_new)))\n",
      "/Users/aimachine/BioPython/utils.py:361: FutureWarning: Using a non-tuple sequence for multidimensional indexing is deprecated; use `arr[tuple(seq)]` instead of `arr[seq]`. In the future this will be interpreted as an array index, `arr[np.array(seq)]`, which will result either in an error or a different result.\n",
      "  x = x[slices]\n"
     ]
    }
   ],
   "source": [
    "for idx in range(0, len(All3DImages)):\n",
    "     NormalizeOriginal = np.zeros([All3DImages[idx].shape[0], All3DImages[idx].shape[1], All3DImages[idx].shape[2]])\n",
    "     for i in range(0, All3DImages[idx].shape[0]):\n",
    "            NormalizeOriginal[i,:] = normalizeFloatZeroOne(All3DImages[idx][i])\n",
    "        \n",
    "     save_tiff_imagej_compatible((resultsdir + \"NormalizeOriginal\" +   str(idx) + '.tif') ,  NormalizeOriginal, Bigaxes)\n"
   ]
  },
  {
   "cell_type": "code",
   "execution_count": null,
   "metadata": {},
   "outputs": [],
   "source": []
  }
 ],
 "metadata": {
  "kernelspec": {
   "display_name": "Python 3 (ipykernel)",
   "language": "python",
   "name": "python3"
  },
  "language_info": {
   "codemirror_mode": {
    "name": "ipython",
    "version": 3
   },
   "file_extension": ".py",
   "mimetype": "text/x-python",
   "name": "python",
   "nbconvert_exporter": "python",
   "pygments_lexer": "ipython3",
   "version": "3.7.10"
  }
 },
 "nbformat": 4,
 "nbformat_minor": 2
}
