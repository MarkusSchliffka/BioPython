{
 "cells": [
  {
   "cell_type": "code",
   "execution_count": null,
   "id": "b31142b8",
   "metadata": {},
   "outputs": [],
   "source": [
    "import napari\n",
    "import os\n",
    "import glob\n",
    "from napari.utils import nbscreenshot\n",
    "from pathlib import Path\n",
    "from tifffile import imread\n",
    "import numpy as np\n",
    "import csv\n",
    "import pandas as pd\n",
    "%gui qt\n"
   ]
  },
  {
   "cell_type": "code",
   "execution_count": null,
   "id": "84dd62c8",
   "metadata": {},
   "outputs": [],
   "source": [
    "sourcedir = '/home/TifFiles/'\n",
    "resultsdir = '/home/CsvFiles/'\n",
    "Path(resultsdir).mkdir(exist_ok = True)\n",
    "Raw_path = os.path.join(sourcedir, '*TIF')\n",
    "X = glob.glob(Raw_path)\n",
    "Bigaxes = 'TYX'\n",
    "Cadherine = 'BestZCadherine'\n",
    "Nuclei = 'BestZNuclei'\n",
    "OutofFocus = 'OutofFocus'\n",
    "for fname in X:\n",
    "\n",
    "        image = imread(fname)\n",
    "        \n",
    "        Name = os.path.basename(os.path.splitext(fname)[0])\n",
    "\n",
    "        viewer = napari.Viewer()\n",
    "        viewer.add_image(image)\n",
    "        \n",
    "       \n",
    "        # add the first points layer for BestZCadherine Z point\n",
    "        viewer.add_points(name= Cadherine, face_color='red', ndim = 3)\n",
    "\n",
    "        # add the second points layer for BestZNuclei Z point\n",
    "        viewer.add_points(name= Nuclei, face_color='blue', ndim = 3)\n",
    "\n",
    "        # add the second points layer for OutofFocus Z point\n",
    "        viewer.add_points(name= OutofFocus, face_color='green', ndim = 3)\n",
    "\n",
    "        # programatically enter add mode for both Points layers to enable editing\n",
    "\n",
    "        viewer.layers[Cadherine].mode = 'add'\n",
    "        viewer.layers[Nuclei].mode = 'add'\n",
    "        viewer.layers[OutofFocus].mode = 'add'\n",
    "        #Block viewer\n",
    "        \n",
    "        viewer.show(block=True)\n",
    "       \n",
    "        \n",
    "        Caddata = viewer.layers[Cadherine].data\n",
    "        caddf = pd.DataFrame(Caddata, index = None, columns = ['Z', 'Y', 'X'])\n",
    "        caddf.to_csv(resultsdir + '/' + Cadherine + Name +  '.csv', index = False)\n",
    "        \n",
    "        Nucleidata = viewer.layers[Nuclei].data\n",
    "        nucdf = pd.DataFrame(Nucleidata, index = None, columns = ['Z', 'Y', 'X'])\n",
    "        nucdf.to_csv(resultsdir + '/' + Nuclei + Name +  '.csv', index = False)\n",
    "        \n",
    "        OutofFocusdata = viewer.layers[OutofFocus].data\n",
    "        offdf = pd.DataFrame(OutofFocusdata, index = None, columns = ['Z', 'Y', 'X'])\n",
    "        offdf.to_csv(resultsdir + '/' + OutofFocus + Name +  '.csv', index = False)"
   ]
  },
  {
   "cell_type": "code",
   "execution_count": null,
   "id": "e30a0c89",
   "metadata": {},
   "outputs": [],
   "source": []
  }
 ],
 "metadata": {
  "kernelspec": {
   "display_name": "Python [conda env:tensorflowGPU] *",
   "language": "python",
   "name": "conda-env-tensorflowGPU-py"
  },
  "language_info": {
   "codemirror_mode": {
    "name": "ipython",
    "version": 3
   },
   "file_extension": ".py",
   "mimetype": "text/x-python",
   "name": "python",
   "nbconvert_exporter": "python",
   "pygments_lexer": "ipython3",
   "version": "3.7.10"
  }
 },
 "nbformat": 4,
 "nbformat_minor": 5
}
