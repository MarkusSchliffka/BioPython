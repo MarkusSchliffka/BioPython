{
 "cells": [
  {
   "cell_type": "code",
   "execution_count": null,
   "id": "23d532ee",
   "metadata": {},
   "outputs": [],
   "source": [
    "\n",
    "import napari\n",
    "from napari.utils import nbscreenshot\n",
    "\n",
    "\n",
    "\n"
   ]
  },
  {
   "cell_type": "code",
   "execution_count": null,
   "id": "54b22ff9",
   "metadata": {},
   "outputs": [],
   "source": [
    "sourcedir = '/home/TifFiles/'\n",
    "resultsdir = '/home/CsvFiles/'\n",
    "Path(resultsdir).mkdir(exist_ok = True)\n",
    "Raw_path = os.path.join(sourcedir, '*tif')\n",
    "X = glob.glob(Raw_path)\n",
    "Bigaxes = 'TYX'\n",
    "Cadherine = 'BestZCadherine'\n",
    "Nuclei = 'BestZNuclei'\n",
    "OutofFocus = 'OutofFocus'\n",
    "for fname in X:\n",
    "    image = imread(fname)\n",
    "    Name = os.path.basename(os.path.splitext(fname[0]))\n",
    "    # Create an empty viewer   \n",
    "    viewer = napari.Viewer()\n",
    "    viewer.open(image, plugin='builtins');\n",
    "    # add the first points layer for BestZCadherine Z point\n",
    "    viewer.add_points(name= Cadherine, face_color='red', n_dimensional=True)\n",
    "\n",
    "    # add the second points layer for BestZNucleig Z point\n",
    "    viewer.add_points(name= Nuclei, face_color='blue', n_dimensional=True)\n",
    "\n",
    "    # add the second points layer for BestZNucleig Z point\n",
    "    viewer.add_points(name= OutofFocus, face_color='green', n_dimensional=True)\n",
    "\n",
    "    \n",
    "\n",
    "    # programatically enter add mode for both Points layers to enable editing\n",
    "    viewer.layers[Cadherine].mode = 'add'\n",
    "    viewer.layers[Nuclei].mode = 'add'\n",
    "    viewer.layers[OutofFocus].mode = 'add'\n",
    " \n",
    "    viewer.layers[Cadherine].save(Cadherine + Name +  '.csv', plugin='builtins');\n",
    "    viewer.layers[Nuclei].save(Nuclei + Name +  '.csv', plugin='builtins');\n",
    "    viewer.layers[OutofFocus].save(OutofFocus + Name +  '.csv', plugin='builtins');"
   ]
  }
 ],
 "metadata": {
  "kernelspec": {
   "display_name": "Python [conda env:tensorflowGPU] *",
   "language": "python",
   "name": "conda-env-tensorflowGPU-py"
  },
  "language_info": {
   "codemirror_mode": {
    "name": "ipython",
    "version": 3
   },
   "file_extension": ".py",
   "mimetype": "text/x-python",
   "name": "python",
   "nbconvert_exporter": "python",
   "pygments_lexer": "ipython3",
   "version": "3.7.10"
  }
 },
 "nbformat": 4,
 "nbformat_minor": 5
}
