{
 "cells": [
  {
   "cell_type": "code",
   "execution_count": 13,
   "metadata": {},
   "outputs": [
    {
     "name": "stdout",
     "output_type": "stream",
     "text": [
      "Collecting rdp\n",
      "  Downloading https://files.pythonhosted.org/packages/67/42/80a54cc4387256335c32b48bd42db80967ab5f40d6ffcd8167b3dd988c11/rdp-0.8.tar.gz\n",
      "Requirement already satisfied: numpy in /home/sancere/anaconda3/lib/python3.7/site-packages (from rdp) (1.19.0)\n",
      "Building wheels for collected packages: rdp\n",
      "  Building wheel for rdp (setup.py) ... \u001b[?25ldone\n",
      "\u001b[?25h  Created wheel for rdp: filename=rdp-0.8-cp37-none-any.whl size=4569 sha256=7f998a445ab44fd5c07b3b4cc5c7f5b4eb3b8da30fb6dcfa91a3eb92b7eccf5c\n",
      "  Stored in directory: /home/sancere/.cache/pip/wheels/76/e4/02/c738593caece49c63180d093651bec3cd3b02ea3248f076f07\n",
      "Successfully built rdp\n",
      "Installing collected packages: rdp\n",
      "Successfully installed rdp-0.8\n"
     ]
    }
   ],
   "source": [
    "!pip install rdp\n",
    "import sys\n",
    "sys.path.append(\"../\")\n",
    "import numpy as np\n",
    "import os\n",
    "import glob\n",
    "import cv2\n",
    "import csv\n",
    "from utils import findCentroid, find_boundaries\n",
    "import pandas as pd\n",
    "from tifffile import imread, imwrite\n",
    "import matplotlib.pyplot as plt\n",
    "from pathlib import Path\n",
    "import napari\n",
    "from numpy import diff, polyfit\n",
    "from scipy import interpolate\n",
    "import math\n",
    "from rdp import rdp\n",
    "from scipy.interpolate import interp1d\n",
    "from scipy.interpolate import UnivariateSpline\n",
    "refvec = [0, 1]\n",
    "def clockwiseangle_and_distance(point):\n",
    "    # Vector between point and the origin: v = p - o\n",
    "    vector = [point[0], point[1]]\n",
    "    # Length of vector: ||v||\n",
    "    lenvector = math.hypot(vector[0], vector[1])\n",
    "    # If length is zero there is no angle\n",
    "    if lenvector == 0:\n",
    "        return -math.pi, 0\n",
    "    # Normalize vector: v/||v||\n",
    "    normalized = [vector[0]/lenvector, vector[1]/lenvector]\n",
    "    dotprod  = normalized[0]*refvec[0] + normalized[1]*refvec[1]     # x1*x2 + y1*y2\n",
    "    diffprod = refvec[1]*normalized[0] - refvec[0]*normalized[1]     # x1*y2 - y1*x2\n",
    "    angle = math.atan2(diffprod, dotprod)\n",
    "    # Negative angles represent counter-clockwise angles so we need to subtract them \n",
    "    # from 2*pi (360 degrees)\n",
    "    if angle < 0:\n",
    "        return 2*math.pi+angle, lenvector\n",
    "    # I return first the angle because that's the primary sorting criterium\n",
    "    # but if two vectors have the same angle then the shorter distance should come first.\n",
    "    return angle, lenvector"
   ]
  },
  {
   "cell_type": "code",
   "execution_count": 28,
   "metadata": {},
   "outputs": [],
   "source": [
    "WingDir = '/home/sancere/Desktop/Test/'\n",
    "\n",
    "Raw_path = os.path.join(WingDir, '*tif')\n",
    "Dir = glob.glob(Raw_path)\n"
   ]
  },
  {
   "cell_type": "code",
   "execution_count": 29,
   "metadata": {},
   "outputs": [
    {
     "name": "stdout",
     "output_type": "stream",
     "text": [
      "/home/sancere/Desktop/Test/bucket.tif\n",
      "/home/sancere/Desktop/Test/bucket2.tif\n",
      "/home/sancere/Desktop/Test/bucket3.tif\n"
     ]
    },
    {
     "data": {
      "image/png": "[encoded data removed]",
      "text/plain": [
       "<Figure size 432x288 with 1 Axes>"
      ]
     },
     "metadata": {
      "needs_background": "light"
     },
     "output_type": "display_data"
    }
   ],
   "source": [
    "count = 0 \n",
    "splines = []\n",
    "\n",
    "for fname in Dir:\n",
    "        print(fname)\n",
    "        count = count + 1\n",
    "        SurfaceImage = find_boundaries(imread(fname).astype('float32'))\n",
    "\n",
    "        centroid, coords = findCentroid(SurfaceImage.astype('uint16'))\n",
    "        coords = coords - centroid\n",
    "        coords = sorted(coords, key=clockwiseangle_and_distance)\n",
    "        \n",
    "        X = []\n",
    "        Y = []\n",
    "        for i in range(0, len(coords)):\n",
    "           Y.append(coords[i][0])\n",
    "           X.append(coords[i][1])\n",
    "        points = rdp(np.array([X, Y]).T, epsilon = 0)\n",
    "        # Linear length along the line:\n",
    "        distance = np.cumsum( np.sqrt(np.sum( np.diff(points, axis=0)**2, axis=1 )) )\n",
    "        distance = np.insert(distance, 0, 0)/distance[-1]\n",
    "\n",
    "        # Build a list of the spline function, one for each dimension:\n",
    "        splines = [UnivariateSpline(distance, coords, k=3, s=.2) for coords in points.T]\n",
    "\n",
    "\n",
    "        # Computed the spline for the asked distances:\n",
    "        alpha = np.linspace(0, 1, 75)\n",
    "        points_fitted = np.vstack( spl(alpha) for spl in splines ).T\n",
    "\n",
    "        # Graph:\n",
    "        plt.plot(*points.T, 'ok', label='original points');\n",
    "        plt.plot(*points_fitted.T, '-r', label='fitted spline k=5, s=.05');\n",
    "        plt.axis('equal'); plt.legend(); plt.xlabel('x'); plt.ylabel('y');\n",
    "\n",
    "        plt.axis('equal'); plt.legend(); plt.xlabel('x'); plt.ylabel('y');\n",
    "plt.savefig(WingDir + 'Trial' + '.png', dpi=300)    "
   ]
  },
  {
   "cell_type": "code",
   "execution_count": null,
   "metadata": {},
   "outputs": [],
   "source": []
  },
  {
   "cell_type": "code",
   "execution_count": null,
   "metadata": {},
   "outputs": [],
   "source": []
  }
 ],
 "metadata": {
  "kernelspec": {
   "display_name": "Python 3",
   "language": "python",
   "name": "python3"
  },
  "language_info": {
   "codemirror_mode": {
    "name": "ipython",
    "version": 3
   },
   "file_extension": ".py",
   "mimetype": "text/x-python",
   "name": "python",
   "nbconvert_exporter": "python",
   "pygments_lexer": "ipython3",
   "version": "3.7.4"
  }
 },
 "nbformat": 4,
 "nbformat_minor": 4
}
