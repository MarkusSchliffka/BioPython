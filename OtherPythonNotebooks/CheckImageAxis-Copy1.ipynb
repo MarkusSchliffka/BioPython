{
 "cells": [
  {
   "cell_type": "code",
   "execution_count": 10,
   "metadata": {},
   "outputs": [],
   "source": [
    "import os\n",
    "import glob\n",
    "from skimage.feature import canny\n",
    "from tifffile import imread, imwrite\n",
    "import numpy as np\n",
    "from pathlib import Path\n"
   ]
  },
  {
   "cell_type": "code",
   "execution_count": 14,
   "metadata": {},
   "outputs": [],
   "source": [
    "sourcedir = '/home/sancere/Downloads/DistMap/'\n",
    "savedir = '/home/sancere/Downloads/DistMap/Canny/'\n",
    "Raw_path = os.path.join(sourcedir, '*tif')\n",
    "X = glob.glob(Raw_path)\n",
    "\n",
    "for fname in X:\n",
    "    \n",
    "    image = imread(fname)\n",
    "    Name = os.path.basename(os.path.splitext(fname)[0])\n",
    "    cannyimage = np.zeros_like(image)\n",
    "    for i in range(0, image.shape[0]):\n",
    "       cannyimage[i,:] = canny(image[i,:], low_threshold = -0.5 * np.max(image[i,:]))\n",
    "    imwrite(savedir + '/' + Name  + '.tif', cannyimage)\n"
   ]
  },
  {
   "cell_type": "code",
   "execution_count": null,
   "metadata": {},
   "outputs": [],
   "source": []
  },
  {
   "cell_type": "code",
   "execution_count": null,
   "metadata": {},
   "outputs": [],
   "source": []
  }
 ],
 "metadata": {
  "kernelspec": {
   "display_name": "Python [conda env:tensorflowGPU] *",
   "language": "python",
   "name": "conda-env-tensorflowGPU-py"
  },
  "language_info": {
   "codemirror_mode": {
    "name": "ipython",
    "version": 3
   },
   "file_extension": ".py",
   "mimetype": "text/x-python",
   "name": "python",
   "nbconvert_exporter": "python",
   "pygments_lexer": "ipython3",
   "version": "3.7.0"
  }
 },
 "nbformat": 4,
 "nbformat_minor": 2
}
